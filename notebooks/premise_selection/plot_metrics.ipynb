{
 "cells": [
  {
   "cell_type": "code",
   "execution_count": 25,
   "metadata": {},
   "outputs": [],
   "source": [
    "import matplotlib.pyplot as plt\n",
    "import pandas as pd\n",
    "import sys, os"
   ]
  },
  {
   "cell_type": "code",
   "execution_count": 26,
   "metadata": {},
   "outputs": [],
   "source": [
    "MODEL_LOC = \"/home/ubuntu/coq-modeling/models/premise_selection_basic\""
   ]
  },
  {
   "cell_type": "code",
   "execution_count": 27,
   "metadata": {},
   "outputs": [],
   "source": [
    "metrics_loc = os.path.join(MODEL_LOC, \"lightning_logs\", \"version_0\", \"metrics.csv\")\n",
    "metrics_df = pd.read_csv(metrics_loc)"
   ]
  },
  {
   "cell_type": "code",
   "execution_count": 28,
   "metadata": {},
   "outputs": [
    {
     "data": {
      "text/html": [
       "<div>\n",
       "<style scoped>\n",
       "    .dataframe tbody tr th:only-of-type {\n",
       "        vertical-align: middle;\n",
       "    }\n",
       "\n",
       "    .dataframe tbody tr th {\n",
       "        vertical-align: top;\n",
       "    }\n",
       "\n",
       "    .dataframe thead th {\n",
       "        text-align: right;\n",
       "    }\n",
       "</style>\n",
       "<table border=\"1\" class=\"dataframe\">\n",
       "  <thead>\n",
       "    <tr style=\"text-align: right;\">\n",
       "      <th></th>\n",
       "      <th>lr-Adam</th>\n",
       "      <th>step</th>\n",
       "      <th>loss</th>\n",
       "      <th>epoch</th>\n",
       "    </tr>\n",
       "  </thead>\n",
       "  <tbody>\n",
       "    <tr>\n",
       "      <th>0</th>\n",
       "      <td>0.000002</td>\n",
       "      <td>49</td>\n",
       "      <td>NaN</td>\n",
       "      <td>NaN</td>\n",
       "    </tr>\n",
       "    <tr>\n",
       "      <th>1</th>\n",
       "      <td>NaN</td>\n",
       "      <td>49</td>\n",
       "      <td>0.424698</td>\n",
       "      <td>0.0</td>\n",
       "    </tr>\n",
       "    <tr>\n",
       "      <th>2</th>\n",
       "      <td>0.000005</td>\n",
       "      <td>99</td>\n",
       "      <td>NaN</td>\n",
       "      <td>NaN</td>\n",
       "    </tr>\n",
       "    <tr>\n",
       "      <th>3</th>\n",
       "      <td>NaN</td>\n",
       "      <td>99</td>\n",
       "      <td>0.355403</td>\n",
       "      <td>0.0</td>\n",
       "    </tr>\n",
       "    <tr>\n",
       "      <th>4</th>\n",
       "      <td>0.000007</td>\n",
       "      <td>149</td>\n",
       "      <td>NaN</td>\n",
       "      <td>NaN</td>\n",
       "    </tr>\n",
       "    <tr>\n",
       "      <th>5</th>\n",
       "      <td>NaN</td>\n",
       "      <td>149</td>\n",
       "      <td>0.207633</td>\n",
       "      <td>0.0</td>\n",
       "    </tr>\n",
       "    <tr>\n",
       "      <th>6</th>\n",
       "      <td>0.000010</td>\n",
       "      <td>199</td>\n",
       "      <td>NaN</td>\n",
       "      <td>NaN</td>\n",
       "    </tr>\n",
       "    <tr>\n",
       "      <th>7</th>\n",
       "      <td>NaN</td>\n",
       "      <td>199</td>\n",
       "      <td>0.202303</td>\n",
       "      <td>0.0</td>\n",
       "    </tr>\n",
       "  </tbody>\n",
       "</table>\n",
       "</div>"
      ],
      "text/plain": [
       "    lr-Adam  step      loss  epoch\n",
       "0  0.000002    49       NaN    NaN\n",
       "1       NaN    49  0.424698    0.0\n",
       "2  0.000005    99       NaN    NaN\n",
       "3       NaN    99  0.355403    0.0\n",
       "4  0.000007   149       NaN    NaN\n",
       "5       NaN   149  0.207633    0.0\n",
       "6  0.000010   199       NaN    NaN\n",
       "7       NaN   199  0.202303    0.0"
      ]
     },
     "execution_count": 28,
     "metadata": {},
     "output_type": "execute_result"
    }
   ],
   "source": [
    "train_points = metrics_df.loc[~pd.isna(metrics_df[\"loss\"]) &\n",
    "                              ~pd.isna(metrics_df[\"step\"])]\n",
    "train_steps = train_points[\"step\"].values\n",
    "train_losses = train_points[\"loss\"].values\n",
    "\n",
    "if \"eval_loss\" in metrics_df.columns:\n",
    "    eval_points = metrics_df.loc[~pd.isna(metrics_df[\"eval_loss\"]) &\n",
    "                                ~pd.isna(metrics_df[\"step\"])]\n",
    "    eval_steps = eval_points[\"step\"].values\n",
    "    eval_losses = eval_points[\"eval_loss\"].values\n",
    "else:\n",
    "    eval_steps = []\n",
    "    eval_losses = []\n"
   ]
  },
  {
   "cell_type": "code",
   "execution_count": null,
   "metadata": {},
   "outputs": [],
   "source": [
    "fig, ax = plt.subplots()\n",
    "ax.plot(train_steps, train_losses, label=\"Training Loss\")\n",
    "ax.plot(eval_steps, eval_losses, label=\"Validation Loss\")\n",
    "ax.set_xlabel(\"Training Steps\")\n",
    "ax.set_ylabel(\"Loss\")\n",
    "ax.set_title(\"Premise Selection Loss During Training\")\n",
    "\n"
   ]
  },
  {
   "cell_type": "code",
   "execution_count": null,
   "metadata": {},
   "outputs": [],
   "source": []
  }
 ],
 "metadata": {
  "kernelspec": {
   "display_name": "venv",
   "language": "python",
   "name": "python3"
  },
  "language_info": {
   "codemirror_mode": {
    "name": "ipython",
    "version": 3
   },
   "file_extension": ".py",
   "mimetype": "text/x-python",
   "name": "python",
   "nbconvert_exporter": "python",
   "pygments_lexer": "ipython3",
   "version": "3.10.12"
  },
  "orig_nbformat": 4
 },
 "nbformat": 4,
 "nbformat_minor": 2
}
