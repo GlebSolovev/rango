{
 "cells": [
  {
   "cell_type": "code",
   "execution_count": 15,
   "metadata": {},
   "outputs": [],
   "source": [
    "from tactic_gen.lm_example import LmExample\n",
    "from data_management.splits import split_file_path, Split\n",
    "import jsonlines"
   ]
  },
  {
   "cell_type": "code",
   "execution_count": 16,
   "metadata": {},
   "outputs": [],
   "source": [
    "DATA_LOC = \"/home/kthompson/coq-modeling/data/proof-ret-bad-copy\""
   ]
  },
  {
   "cell_type": "code",
   "execution_count": 17,
   "metadata": {},
   "outputs": [],
   "source": [
    "train_split_loc = split_file_path(DATA_LOC, Split.TRAIN, shuffled=False, deduplicated=False)\n",
    "val_split_loc = split_file_path(DATA_LOC, Split.VAL)\n",
    "test_split_loc = split_file_path(DATA_LOC, Split.TEST)"
   ]
  },
  {
   "cell_type": "code",
   "execution_count": 18,
   "metadata": {},
   "outputs": [],
   "source": [
    "def get_example_prop(split_loc: str) -> float:\n",
    "    num_w_example = 0\n",
    "    total = 0\n",
    "    with jsonlines.open(split_loc) as fin:\n",
    "        for obj in fin:\n",
    "            inp = obj[\"input\"]\n",
    "            if not inp.startswith(\"<F><P>\"):\n",
    "                num_w_example += 1\n",
    "            total += 1\n",
    "    return num_w_example / total\n",
    "\n",
    "\n"
   ]
  },
  {
   "cell_type": "code",
   "execution_count": 19,
   "metadata": {},
   "outputs": [
    {
     "name": "stdout",
     "output_type": "stream",
     "text": [
      "Train prop: 0.2712688783142765\n",
      "Val prop: 0.1918960244648318\n",
      "Test prop: 0.13144732728977807\n"
     ]
    }
   ],
   "source": [
    "print(\"Train prop:\", get_example_prop(train_split_loc))\n",
    "print(\"Val prop:\", get_example_prop(val_split_loc))\n",
    "print(\"Test prop:\", get_example_prop(test_split_loc))"
   ]
  }
 ],
 "metadata": {
  "kernelspec": {
   "display_name": "venv",
   "language": "python",
   "name": "python3"
  },
  "language_info": {
   "codemirror_mode": {
    "name": "ipython",
    "version": 3
   },
   "file_extension": ".py",
   "mimetype": "text/x-python",
   "name": "python",
   "nbconvert_exporter": "python",
   "pygments_lexer": "ipython3",
   "version": "3.10.12"
  }
 },
 "nbformat": 4,
 "nbformat_minor": 2
}
