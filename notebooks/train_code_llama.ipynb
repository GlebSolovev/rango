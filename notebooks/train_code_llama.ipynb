{
 "cells": [
  {
   "cell_type": "code",
   "execution_count": 1,
   "metadata": {},
   "outputs": [
    {
     "name": "stderr",
     "output_type": "stream",
     "text": [
      "/home/ubuntu/coq-modeling/venv/lib/python3.10/site-packages/tqdm/auto.py:21: TqdmWarning: IProgress not found. Please update jupyter and ipywidgets. See https://ipywidgets.readthedocs.io/en/stable/user_install.html\n",
      "  from .autonotebook import tqdm as notebook_tqdm\n"
     ]
    }
   ],
   "source": [
    "from typing import Optional, Iterable\n",
    "import sys, os\n",
    "os.environ[\"CUDA_VISIBLE_DEVICES\"] = \"3\"\n",
    "\n",
    "import jsonlines\n",
    "from trl import SFTTrainer, DataCollatorForCompletionOnlyLM\n",
    "from peft import LoraConfig\n",
    "from transformers import (\n",
    "    LlamaForCausalLM, CodeLlamaTokenizer,\n",
    "    BitsAndBytesConfig, TrainingArguments)\n",
    "import torch\n",
    "import argparse\n",
    "from datasets import Dataset\n",
    "\n",
    "from data_management.lm_example import LmExample\n",
    "from data_management.create_lm_dataset import split_file_path\n",
    "from data_management.split_raw_data import TRAIN_NAME, VAL_NAME"
   ]
  },
  {
   "cell_type": "code",
   "execution_count": 2,
   "metadata": {},
   "outputs": [],
   "source": [
    "DATA_PATH = \"/home/ubuntu/coq-modeling/data/data-points-partial-split\"\n",
    "\n",
    "MODEL_NAME = \"codellama/CodeLlama-7b-hf\"\n",
    "OUTPUT_LOC = \"/home/ubuntu/coq-modeling/models/codellama-7b-hf-test\"\n",
    "TRAIN_BATCH_SIZE = 4\n",
    "LEARNING_RATE = 1.41e-5\n",
    "NUM_TRAIN_EPOCHS = 1\n",
    "MAX_STEPS = -1\n",
    "PEFT_LORA_R = 64\n",
    "PEFT_LORA_ALPHA = 16\n",
    "MAX_SEQ_LEN = 2 ** 9\n",
    "GRADIENT_ACCUMULATION_STEPS = 2\n",
    "\n",
    "DEFAULT_LOGGING_STEPS = 1\n",
    "DEFAULT_SAVE_STEPS = 100\n",
    "DEFAULT_SAVE_TOTAL_LIMIT = 10\n",
    "DEFAULT_PUSH_TO_HUB = False\n",
    "DEFAULT_HUB_MODEL_ID: Optional[str] = None\n",
    "DEFAULT_LOG_WITH: Optional[str] = None\n"
   ]
  },
  {
   "cell_type": "code",
   "execution_count": 3,
   "metadata": {},
   "outputs": [
    {
     "name": "stderr",
     "output_type": "stream",
     "text": [
      "Loading checkpoint shards: 100%|██████████| 2/2 [00:13<00:00,  6.92s/it]\n"
     ]
    }
   ],
   "source": [
    "quantization_config = BitsAndBytesConfig(load_in_4bit=True)\n",
    "\n",
    "model = LlamaForCausalLM.from_pretrained(\n",
    "    MODEL_NAME, quantization_config=quantization_config,\n",
    ")"
   ]
  },
  {
   "cell_type": "code",
   "execution_count": 11,
   "metadata": {},
   "outputs": [],
   "source": [
    "training_args = TrainingArguments(\n",
    "    output_dir=OUTPUT_LOC,\n",
    "    per_device_train_batch_size=TRAIN_BATCH_SIZE,\n",
    "    gradient_accumulation_steps=GRADIENT_ACCUMULATION_STEPS,\n",
    "    learning_rate=LEARNING_RATE,\n",
    "    logging_steps=DEFAULT_LOGGING_STEPS,\n",
    "    num_train_epochs=NUM_TRAIN_EPOCHS,\n",
    "    max_steps=MAX_STEPS,\n",
    "    report_to=DEFAULT_LOG_WITH,\n",
    "    save_steps=DEFAULT_SAVE_STEPS,\n",
    "    save_total_limit=DEFAULT_SAVE_TOTAL_LIMIT,\n",
    "    push_to_hub=DEFAULT_PUSH_TO_HUB,\n",
    "    hub_model_id=DEFAULT_HUB_MODEL_ID,\n",
    ")"
   ]
  },
  {
   "cell_type": "code",
   "execution_count": 4,
   "metadata": {},
   "outputs": [],
   "source": [
    "def dataset_gen(dataset_path: str, split: str) -> Iterable[dict[str, str]]:\n",
    "    file_path = split_file_path(dataset_path, split)\n",
    "    with jsonlines.open(file_path, \"r\") as fin:\n",
    "        for obj in fin:\n",
    "            yield obj \n",
    "\n",
    "train_kwargs = {\n",
    "    \"dataset_path\": DATA_PATH,\n",
    "    \"split\": TRAIN_NAME,\n",
    "}\n",
    "val_kwargs = {\n",
    "    \"dataset_path\": DATA_PATH,\n",
    "    \"split\": VAL_NAME,\n",
    "}\n",
    "train_dataset = Dataset.from_generator(dataset_gen, gen_kwargs=train_kwargs)\n",
    "val_dataset = Dataset.from_generator(dataset_gen, gen_kwargs=val_kwargs)"
   ]
  },
  {
   "cell_type": "code",
   "execution_count": 7,
   "metadata": {},
   "outputs": [],
   "source": [
    "tokenizer = CodeLlamaTokenizer.from_pretrained(MODEL_NAME)\n",
    "tokenizer.pad_token = tokenizer.eos_token\n",
    "tokenizer.padding_side = \"left\"\n",
    "tokenizer.truncation_side = \"left\"\n",
    "tokenizer.model_max_length = MAX_SEQ_LEN "
   ]
  },
  {
   "cell_type": "code",
   "execution_count": 8,
   "metadata": {},
   "outputs": [],
   "source": [
    "response_template = \"<TACTIC>\"\n",
    "newline_response_template = f\"\\n{response_template}\\n\"\n",
    "response_template_ids = tokenizer.encode(newline_response_template)[2:-1]\n",
    "def formatting_examples_func(examples: list[dict[str, str]]) -> list[str]: \n",
    "    output_strs: list[str] = []\n",
    "    for i in range(len(examples[\"input\"])):\n",
    "        example_in = examples[\"input\"][i]\n",
    "        example_out = examples[\"output\"][i]\n",
    "        collated_str = f\"{example_in}{newline_response_template}{example_out}\"\n",
    "        output_strs.append(collated_str) \n",
    "    return output_strs"
   ]
  },
  {
   "cell_type": "code",
   "execution_count": 12,
   "metadata": {},
   "outputs": [
    {
     "name": "stderr",
     "output_type": "stream",
     "text": [
      "/home/ubuntu/coq-modeling/venv/lib/python3.10/site-packages/peft/utils/other.py:122: FutureWarning: prepare_model_for_int8_training is deprecated and will be removed in a future version. Use prepare_model_for_kbit_training instead.\n",
      "  warnings.warn(\n",
      "/home/ubuntu/coq-modeling/venv/lib/python3.10/site-packages/trl/trainer/sft_trainer.py:207: UserWarning: You passed a tokenizer with `padding_side` not equal to `right` to the SFTTrainer. This might lead to some unexpected behaviour due to overflow issues when training a model in half-precision. You might consider adding `tokenizer.padding_side = 'right'` to your code.\n",
      "  warnings.warn(\n"
     ]
    }
   ],
   "source": [
    "collator = DataCollatorForCompletionOnlyLM(response_template_ids, tokenizer=tokenizer)\n",
    "\n",
    "peft_config = LoraConfig(\n",
    "    r=PEFT_LORA_R,\n",
    "    lora_alpha=PEFT_LORA_ALPHA,\n",
    "    bias=\"none\",\n",
    "    task_type=\"CAUSAL_LM\",\n",
    ") \n",
    "\n",
    "trainer = SFTTrainer(\n",
    "    model=model,\n",
    "    args=training_args,\n",
    "    max_seq_length=MAX_SEQ_LEN,\n",
    "    train_dataset=train_dataset,\n",
    "    eval_dataset=val_dataset,\n",
    "    formatting_func=formatting_examples_func,\n",
    "    data_collator=collator,\n",
    "    peft_config=peft_config,\n",
    "    tokenizer=tokenizer,\n",
    ")"
   ]
  },
  {
   "cell_type": "code",
   "execution_count": 13,
   "metadata": {},
   "outputs": [
    {
     "name": "stderr",
     "output_type": "stream",
     "text": [
      "`use_cache=True` is incompatible with gradient checkpointing. Setting `use_cache=False`...\n"
     ]
    },
    {
     "data": {
      "text/html": [
       "\n",
       "    <div>\n",
       "      \n",
       "      <progress value='7' max='15483' style='width:300px; height:20px; vertical-align: middle;'></progress>\n",
       "      [    7/15483 01:15 < 65:19:43, 0.07 it/s, Epoch 0.00/1]\n",
       "    </div>\n",
       "    <table border=\"1\" class=\"dataframe\">\n",
       "  <thead>\n",
       " <tr style=\"text-align: left;\">\n",
       "      <th>Step</th>\n",
       "      <th>Training Loss</th>\n",
       "    </tr>\n",
       "  </thead>\n",
       "  <tbody>\n",
       "    <tr>\n",
       "      <td>1</td>\n",
       "      <td>1.767500</td>\n",
       "    </tr>\n",
       "    <tr>\n",
       "      <td>2</td>\n",
       "      <td>2.391400</td>\n",
       "    </tr>\n",
       "    <tr>\n",
       "      <td>3</td>\n",
       "      <td>1.447800</td>\n",
       "    </tr>\n",
       "    <tr>\n",
       "      <td>4</td>\n",
       "      <td>1.989200</td>\n",
       "    </tr>\n",
       "    <tr>\n",
       "      <td>5</td>\n",
       "      <td>2.089100</td>\n",
       "    </tr>\n",
       "  </tbody>\n",
       "</table><p>"
      ],
      "text/plain": [
       "<IPython.core.display.HTML object>"
      ]
     },
     "metadata": {},
     "output_type": "display_data"
    }
   ],
   "source": [
    "trainer.train()"
   ]
  }
 ],
 "metadata": {
  "kernelspec": {
   "display_name": "venv",
   "language": "python",
   "name": "python3"
  },
  "language_info": {
   "codemirror_mode": {
    "name": "ipython",
    "version": 3
   },
   "file_extension": ".py",
   "mimetype": "text/x-python",
   "name": "python",
   "nbconvert_exporter": "python",
   "pygments_lexer": "ipython3",
   "version": "3.10.12"
  },
  "orig_nbformat": 4
 },
 "nbformat": 4,
 "nbformat_minor": 2
}
