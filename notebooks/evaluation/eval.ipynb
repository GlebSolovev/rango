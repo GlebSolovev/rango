{
 "cells": [
  {
   "cell_type": "code",
   "execution_count": 121,
   "metadata": {},
   "outputs": [],
   "source": [
    "import os\n",
    "from pathlib import Path\n",
    "\n",
    "import pandas as pd\n",
    "from matplotlib_venn import venn2, venn3\n",
    "import matplotlib.pyplot as plt\n",
    "\n",
    "\n",
    "from model_deployment.prove import Summary, StraightLineSummary\n",
    "\n",
    "from evaluation.eval_analysis import (\n",
    "    EvalDesc,\n",
    "    EvalData,\n",
    "    load_evals,\n",
    "    find_mutual_proofs,\n",
    "    PlotPoint,\n",
    "    ProofPair,\n",
    "    count_total_successes,\n",
    "    get_two_eval_subsets,\n",
    "    get_three_eval_subets,\n",
    "    a_beats_b_generator,\n",
    ")"
   ]
  },
  {
   "cell_type": "code",
   "execution_count": 122,
   "metadata": {},
   "outputs": [],
   "source": [
    "if Path(os.curdir).resolve().name == \"evaluation\":\n",
    "    os.chdir(\"../..\")\n",
    "elif Path(os.curdir).resolve().name == \"coq-modeling\": \n",
    "    pass\n",
    "else:\n",
    "    raise ValueError(f\"In an unexpected directory: {os.curdir}\")\n",
    "    \n"
   ]
  },
  {
   "cell_type": "code",
   "execution_count": 123,
   "metadata": {},
   "outputs": [],
   "source": [
    "EVALS = [\n",
    "    ## Ablations on Rango\n",
    "    # EvalDesc(\"tfidf proof; tfidf prem\", \"proof-prem-final\"),\n",
    "    # EvalDesc(\"tfidf proof; bm25 prem\", \"tfidf-proof-bm25-proj-thm-prem-final\"),\n",
    "    # EvalDesc(\"tfidf proof; select prem\", \"tfidf-proof-select-proj-thm-prem-final\"),\n",
    "    # EvalDesc(\"bm25 proof; tfidf prem\", \"bm25-proof-tfidf-proj-thm-prem-final\"),\n",
    "\n",
    "    ## Ablations on Rango Bm25\n",
    "    #EvalDesc(\"bm25 proof; tfidf prem\", \"bm25-proof-tfidf-proj-thm-prem-final\"),\n",
    "    # EvalDesc(\"bm25 proof; bm25 prem\", \"bm25-proof-bm25-proj-thm-prem-final\"),\n",
    "    # EvalDesc(\"bm25 proof; select prem\", \"bm25-proof-select-proj-thm-prem-final\"),\n",
    "    # EvalDesc(\"bm25 proof; tfidf prem\", \"bm25-proof-tfidf-proj-thm-prem-final\"),\n",
    "\n",
    "    ## First Step Retrieval \n",
    "    # EvalDesc(\"bm25 proof; tfidf prem\", \"bm25-proof-tfidf-proj-thm-prem-final\"),\n",
    "    # EvalDesc(\"bm25 proof (first step); tfidf prem\", \"bm25-first-step-proof-tfidf-proj-thm-prem-final\"),\n",
    "\n",
    "    ## Token Masking\n",
    "    # EvalDesc(\"No mask\", \"bm25-proof-tfidf-proj-thm-prem-final\"),\n",
    "    # EvalDesc(\"Masked Proof State\", \"bm25-proof-tfidf-proj-thm-prem-final-mask-state\"),\n",
    "    # EvalDesc(\"Masked Proof Script\", \"bm25-proof-tfidf-proj-thm-prem-final-mask-script\"),\n",
    "    # EvalDesc(\"Masked Retrieved Proofs\", \"bm25-proof-tfidf-proj-thm-prem-final-mask-proof\"),\n",
    "    # EvalDesc(\"Masked Retrieved Premises\", \"bm25-proof-tfidf-proj-thm-prem-final-mask-premise\"),\n",
    "\n",
    "    ## Multiple runs of Select \n",
    "    # EvalDesc(\"tfidf proof; select prem 1\", \"tfidf-proof-select-proj-thm-prem-final\"),\n",
    "    # EvalDesc(\"tfidf proof; select prem 2\", \"tfidf-proof-select-proj-thm-prem-final-2\"),\n",
    "    # EvalDesc(\"tfidf proof; select prem 3\", \"tfidf-proof-select-proj-thm-prem-final-3\"),\n",
    "\n",
    "    ## BM25 vs TFIDF\n",
    "    # EvalDesc(\"bm25 proof; tfidf prem\", \"bm25-proof-tfidf-proj-thm-prem-final\"),\n",
    "    # EvalDesc(\"tfidf proof; tfidf prem\", \"tfidf-proof-tfidf-proj-thm-prem-final\"),\n",
    "\n",
    "    ## Ablations on Retrieval\n",
    "    # EvalDesc(\"Rango\", \"bm25-proof-tfidf-proj-thm-prem-final\"),\n",
    "    # EvalDesc(\"Rango w/o Proofs\", \"tfidf-proj-thm-prem-final\"),\n",
    "    # EvalDesc(\"Rango w/ Prefix Retrieval\", \"prefix-final\")\n",
    "\n",
    "    ## Previous Proofs\n",
    "    # EvalDesc(\"Rango\", \"bm25-proof-tfidf-proj-thm-prem-final\"),\n",
    "    # EvalDesc(\"Directly Trying Previous Proofs\", \"bm25-prev-proof-final\"),\n",
    "\n",
    "    # Random Intersect Comparison\n",
    "    # EvalDesc(\"Inter-project\", \"bm25-proof-tfidf-proj-thm-prem-intersect-final\"),\n",
    "    # EvalDesc(\"Inter-file\", \"bm25-proof-tfidf-proj-thm-prem-intersect-random\"),\n",
    "    # EvalDesc(\"Inter-project; w/o proofs\", \"tfidf-proj-thm-prem-intersect-final\"),\n",
    "    # EvalDesc(\"Inter-file; w/o proofs\", \"tfidf-proj-thm-prem-intersect-random\"),\n",
    "\n",
    "    # Cutoff\n",
    "    EvalDesc(\"Rango 8.18 Cutoff\", \"bm25-proof-tfidf-proj-thm-prem-cutoff-8.18\")\n",
    "\n",
    "]\n",
    "RESULTS_LOC = Path(\"evaluations/eval-results\")\n",
    "raw_evals = load_evals(EVALS, RESULTS_LOC)"
   ]
  },
  {
   "cell_type": "code",
   "execution_count": 124,
   "metadata": {},
   "outputs": [
    {
     "data": {
      "text/plain": [
       "[87]"
      ]
     },
     "execution_count": 124,
     "metadata": {},
     "output_type": "execute_result"
    }
   ],
   "source": [
    "[len(r.results) for r in raw_evals]"
   ]
  },
  {
   "cell_type": "markdown",
   "metadata": {},
   "source": [
    "## Proof Count (Sanity Check)"
   ]
  },
  {
   "cell_type": "code",
   "execution_count": 136,
   "metadata": {},
   "outputs": [
    {
     "name": "stdout",
     "output_type": "stream",
     "text": [
      "Mutual proofs: 41\n"
     ]
    }
   ],
   "source": [
    "mutual_proofs = find_mutual_proofs(raw_evals, include_errors=False)\n",
    "evals = [e.filter_to_proofs(mutual_proofs) for e in raw_evals]\n",
    "assert all(len(e.results) == len(mutual_proofs) for e in evals)\n",
    "print(\"Mutual proofs:\", len(mutual_proofs))"
   ]
  },
  {
   "cell_type": "code",
   "execution_count": 137,
   "metadata": {},
   "outputs": [
    {
     "data": {
      "text/plain": [
       "41"
      ]
     },
     "execution_count": 137,
     "metadata": {},
     "output_type": "execute_result"
    }
   ],
   "source": [
    "len(mutual_proofs)"
   ]
  },
  {
   "cell_type": "markdown",
   "metadata": {},
   "source": [
    "## Successes"
   ]
  },
  {
   "cell_type": "code",
   "execution_count": 138,
   "metadata": {},
   "outputs": [
    {
     "data": {
      "text/html": [
       "<div>\n",
       "<style scoped>\n",
       "    .dataframe tbody tr th:only-of-type {\n",
       "        vertical-align: middle;\n",
       "    }\n",
       "\n",
       "    .dataframe tbody tr th {\n",
       "        vertical-align: top;\n",
       "    }\n",
       "\n",
       "    .dataframe thead th {\n",
       "        text-align: right;\n",
       "    }\n",
       "</style>\n",
       "<table border=\"1\" class=\"dataframe\">\n",
       "  <thead>\n",
       "    <tr style=\"text-align: right;\">\n",
       "      <th></th>\n",
       "      <th>Successes</th>\n",
       "      <th>Attempts</th>\n",
       "      <th>Success Rate</th>\n",
       "    </tr>\n",
       "  </thead>\n",
       "  <tbody>\n",
       "    <tr>\n",
       "      <th>Rango 8.18 Cutoff</th>\n",
       "      <td>22</td>\n",
       "      <td>41</td>\n",
       "      <td>0.536585</td>\n",
       "    </tr>\n",
       "  </tbody>\n",
       "</table>\n",
       "</div>"
      ],
      "text/plain": [
       "                   Successes  Attempts  Success Rate\n",
       "Rango 8.18 Cutoff         22        41      0.536585"
      ]
     },
     "execution_count": 138,
     "metadata": {},
     "output_type": "execute_result"
    }
   ],
   "source": [
    "rows: list[tuple[int, int, float]] = []\n",
    "idx: list[str] = []\n",
    "for e in evals:\n",
    "    n_successes = len(e.get_successful_searches())\n",
    "    n_attempts = len(e.results)\n",
    "    p = n_successes / n_attempts\n",
    "    moe = 1.96 * (p * (1 - p) / n_attempts) ** 0.5\n",
    "    rows.append((n_successes, n_attempts, n_successes / n_attempts))\n",
    "    idx.append(e.alias)\n",
    "pd.DataFrame(rows, columns=[\"Successes\", \"Attempts\", \"Success Rate\"], index=idx)\n",
    "\n"
   ]
  },
  {
   "cell_type": "code",
   "execution_count": 128,
   "metadata": {},
   "outputs": [
    {
     "data": {
      "text/plain": [
       "1.1594202898550725"
      ]
     },
     "execution_count": 128,
     "metadata": {},
     "output_type": "execute_result"
    }
   ],
   "source": [
    "(149 - 69) / 69"
   ]
  },
  {
   "cell_type": "markdown",
   "metadata": {},
   "source": [
    "## Count Error Fraction"
   ]
  },
  {
   "cell_type": "code",
   "execution_count": 129,
   "metadata": {},
   "outputs": [
    {
     "name": "stdout",
     "output_type": "stream",
     "text": [
      "Rango 8.18 Cutoff 0.5287356321839081\n"
     ]
    }
   ],
   "source": [
    "for e in evals:\n",
    "    print(e.alias, e.get_error_fraction())"
   ]
  },
  {
   "cell_type": "markdown",
   "metadata": {},
   "source": [
    "## Proofs over Time"
   ]
  },
  {
   "cell_type": "code",
   "execution_count": 130,
   "metadata": {},
   "outputs": [
    {
     "data": {
      "image/png": "[encoded data removed]",
      "text/plain": [
       "<Figure size 640x480 with 1 Axes>"
      ]
     },
     "metadata": {},
     "output_type": "display_data"
    }
   ],
   "source": [
    "def plot_times(es: list[EvalData]):\n",
    "    times = [e.get_time_points() for e in es]\n",
    "    fig, ax = plt.subplots()\n",
    "    for e, time_list in zip(es, times):\n",
    "        xs = [t.x for t in time_list]\n",
    "        ys = [t.y for t in time_list]\n",
    "        ax.plot(xs, ys, label=e.alias)\n",
    "    ax.set_xlabel(\"Time (s)\")\n",
    "    ax.set_ylabel(\"# Proofs Completed\")\n",
    "    ax.set_title(\"Proofs Completed Over Time\")\n",
    "    ax.legend(loc=\"lower right\")\n",
    "\n",
    "\n",
    "plot_times(evals)"
   ]
  },
  {
   "cell_type": "code",
   "execution_count": 131,
   "metadata": {},
   "outputs": [
    {
     "data": {
      "text/plain": [
       "[('Rango 8.18 Cutoff', 499.21213603019714)]"
      ]
     },
     "execution_count": 131,
     "metadata": {},
     "output_type": "execute_result"
    }
   ],
   "source": [
    "def get_last_success(e: EvalData) -> float:\n",
    "    successes = e.get_successful_searches()\n",
    "    return max(successes, key=lambda s: s.search_time).search_time\n",
    "\n",
    "[(e.alias, get_last_success(e)) for e in evals]\n",
    "\n"
   ]
  },
  {
   "cell_type": "markdown",
   "metadata": {},
   "source": [
    "# Proofs Completed over Model Time"
   ]
  },
  {
   "cell_type": "code",
   "execution_count": 132,
   "metadata": {},
   "outputs": [
    {
     "data": {
      "image/png": "[encoded data removed]",
      "text/plain": [
       "<Figure size 640x480 with 1 Axes>"
      ]
     },
     "metadata": {},
     "output_type": "display_data"
    }
   ],
   "source": [
    "def plot_model_times(es: list[EvalData]):\n",
    "    times = [e.get_model_time_points() for e in es]\n",
    "    fig, ax = plt.subplots()\n",
    "    for e, time_list in zip(es, times):\n",
    "        xs = [t.x for t in time_list]\n",
    "        ys = [t.y for t in time_list]\n",
    "        ax.plot(xs, ys, label=e.alias)\n",
    "    ax.set_xlabel(\"Model Time (s)\")\n",
    "    ax.set_ylabel(\"# Proofs Completed\")\n",
    "    ax.set_title(\"Proofs Completed Over Model Time\")\n",
    "    ax.legend(loc=\"lower right\")\n",
    "\n",
    "\n",
    "plot_model_times(evals)"
   ]
  },
  {
   "cell_type": "markdown",
   "metadata": {},
   "source": [
    "## Proofs over Attempts"
   ]
  },
  {
   "cell_type": "code",
   "execution_count": 133,
   "metadata": {},
   "outputs": [
    {
     "data": {
      "image/png": "[encoded data removed]",
      "text/plain": [
       "<Figure size 640x480 with 1 Axes>"
      ]
     },
     "metadata": {},
     "output_type": "display_data"
    }
   ],
   "source": [
    "def plot_attempts(es: list[EvalData]):\n",
    "    attempts = [e.get_attempts_points() for e in es]\n",
    "    fig, ax = plt.subplots()\n",
    "    for e, attempt_list in zip(es, attempts):\n",
    "        xs = [t.x for t in attempt_list]\n",
    "        ys = [t.y for t in attempt_list]\n",
    "        ax.plot(xs, ys, label=e.alias)\n",
    "    ax.set_xlabel(\"# Rollouts\")\n",
    "    ax.set_ylabel(\"# Theorems Proven\")\n",
    "    ax.set_title(\"# Theorems Proven over # Rollouts\")\n",
    "    ax.legend(loc=\"lower right\")\n",
    "\n",
    "\n",
    "plot_attempts(evals)"
   ]
  },
  {
   "cell_type": "markdown",
   "metadata": {},
   "source": [
    "## Overlap Comparison"
   ]
  },
  {
   "cell_type": "code",
   "execution_count": 134,
   "metadata": {},
   "outputs": [
    {
     "name": "stdout",
     "output_type": "stream",
     "text": [
      "Total # Theorems Found:  22\n"
     ]
    }
   ],
   "source": [
    "print(\"Total # Theorems Found: \", count_total_successes(evals))"
   ]
  },
  {
   "cell_type": "code",
   "execution_count": 135,
   "metadata": {},
   "outputs": [
    {
     "ename": "AssertionError",
     "evalue": "",
     "output_type": "error",
     "traceback": [
      "\u001b[0;31m---------------------------------------------------------------------------\u001b[0m",
      "\u001b[0;31mAssertionError\u001b[0m                            Traceback (most recent call last)",
      "Cell \u001b[0;32mIn[135], line 16\u001b[0m\n\u001b[1;32m     10\u001b[0m     subsets \u001b[38;5;241m=\u001b[39m get_three_eval_subets(es, e1_alias, e2_alias, e3_alias)\n\u001b[1;32m     11\u001b[0m     venn3((\u001b[38;5;28mlen\u001b[39m(subsets\u001b[38;5;241m.\u001b[39mone_only), \u001b[38;5;28mlen\u001b[39m(subsets\u001b[38;5;241m.\u001b[39mtwo_only), \u001b[38;5;28mlen\u001b[39m(subsets\u001b[38;5;241m.\u001b[39mone_two),\n\u001b[1;32m     12\u001b[0m               \u001b[38;5;28mlen\u001b[39m(subsets\u001b[38;5;241m.\u001b[39mthree_only), \u001b[38;5;28mlen\u001b[39m(subsets\u001b[38;5;241m.\u001b[39mone_three), \u001b[38;5;28mlen\u001b[39m(subsets\u001b[38;5;241m.\u001b[39mtwo_three),\n\u001b[1;32m     13\u001b[0m               \u001b[38;5;28mlen\u001b[39m(subsets\u001b[38;5;241m.\u001b[39mone_two_three)),\n\u001b[1;32m     14\u001b[0m              set_labels\u001b[38;5;241m=\u001b[39m(e1_alias, e2_alias, e3_alias), ax\u001b[38;5;241m=\u001b[39max)\n\u001b[0;32m---> 16\u001b[0m \u001b[43mcompare_three\u001b[49m\u001b[43m(\u001b[49m\u001b[43mevals\u001b[49m\u001b[43m,\u001b[49m\u001b[43m \u001b[49m\u001b[38;5;124;43m\"\u001b[39;49m\u001b[38;5;124;43mBm25 Proofs + Premises\u001b[39;49m\u001b[38;5;124;43m\"\u001b[39;49m\u001b[43m,\u001b[49m\u001b[43m \u001b[49m\u001b[38;5;124;43m\"\u001b[39;49m\u001b[38;5;124;43mProofs Bm25\u001b[39;49m\u001b[38;5;124;43m\"\u001b[39;49m\u001b[43m,\u001b[49m\u001b[43m \u001b[49m\u001b[38;5;124;43m\"\u001b[39;49m\u001b[38;5;124;43mBasic\u001b[39;49m\u001b[38;5;124;43m\"\u001b[39;49m\u001b[43m)\u001b[49m\n",
      "Cell \u001b[0;32mIn[135], line 10\u001b[0m, in \u001b[0;36mcompare_three\u001b[0;34m(es, e1_alias, e2_alias, e3_alias)\u001b[0m\n\u001b[1;32m      8\u001b[0m \u001b[38;5;28;01mdef\u001b[39;00m \u001b[38;5;21mcompare_three\u001b[39m(es: \u001b[38;5;28mlist\u001b[39m[EvalData], e1_alias: \u001b[38;5;28mstr\u001b[39m, e2_alias: \u001b[38;5;28mstr\u001b[39m, e3_alias: \u001b[38;5;28mstr\u001b[39m):\n\u001b[1;32m      9\u001b[0m     fig, ax \u001b[38;5;241m=\u001b[39m plt\u001b[38;5;241m.\u001b[39msubplots()\n\u001b[0;32m---> 10\u001b[0m     subsets \u001b[38;5;241m=\u001b[39m \u001b[43mget_three_eval_subets\u001b[49m\u001b[43m(\u001b[49m\u001b[43mes\u001b[49m\u001b[43m,\u001b[49m\u001b[43m \u001b[49m\u001b[43me1_alias\u001b[49m\u001b[43m,\u001b[49m\u001b[43m \u001b[49m\u001b[43me2_alias\u001b[49m\u001b[43m,\u001b[49m\u001b[43m \u001b[49m\u001b[43me3_alias\u001b[49m\u001b[43m)\u001b[49m\n\u001b[1;32m     11\u001b[0m     venn3((\u001b[38;5;28mlen\u001b[39m(subsets\u001b[38;5;241m.\u001b[39mone_only), \u001b[38;5;28mlen\u001b[39m(subsets\u001b[38;5;241m.\u001b[39mtwo_only), \u001b[38;5;28mlen\u001b[39m(subsets\u001b[38;5;241m.\u001b[39mone_two),\n\u001b[1;32m     12\u001b[0m               \u001b[38;5;28mlen\u001b[39m(subsets\u001b[38;5;241m.\u001b[39mthree_only), \u001b[38;5;28mlen\u001b[39m(subsets\u001b[38;5;241m.\u001b[39mone_three), \u001b[38;5;28mlen\u001b[39m(subsets\u001b[38;5;241m.\u001b[39mtwo_three),\n\u001b[1;32m     13\u001b[0m               \u001b[38;5;28mlen\u001b[39m(subsets\u001b[38;5;241m.\u001b[39mone_two_three)),\n\u001b[1;32m     14\u001b[0m              set_labels\u001b[38;5;241m=\u001b[39m(e1_alias, e2_alias, e3_alias), ax\u001b[38;5;241m=\u001b[39max)\n",
      "File \u001b[0;32m/work/pi_brun_umass_edu/kthompson/coq-modeling/src/evaluation/eval_analysis.py:169\u001b[0m, in \u001b[0;36mget_three_eval_subets\u001b[0;34m(evals, eval1_alias, eval2_alias, eval3_alias)\u001b[0m\n\u001b[1;32m    166\u001b[0m \u001b[38;5;28;01mdef\u001b[39;00m \u001b[38;5;21mget_three_eval_subets\u001b[39m(\n\u001b[1;32m    167\u001b[0m     evals: \u001b[38;5;28mlist\u001b[39m[EvalData], eval1_alias: \u001b[38;5;28mstr\u001b[39m, eval2_alias: \u001b[38;5;28mstr\u001b[39m, eval3_alias\n\u001b[1;32m    168\u001b[0m ) \u001b[38;5;241m-\u001b[39m\u001b[38;5;241m>\u001b[39m ThreeEvalSubsets:\n\u001b[0;32m--> 169\u001b[0m     e1 \u001b[38;5;241m=\u001b[39m \u001b[43mget_eval\u001b[49m\u001b[43m(\u001b[49m\u001b[43mevals\u001b[49m\u001b[43m,\u001b[49m\u001b[43m \u001b[49m\u001b[43meval1_alias\u001b[49m\u001b[43m)\u001b[49m\n\u001b[1;32m    170\u001b[0m     e2 \u001b[38;5;241m=\u001b[39m get_eval(evals, eval2_alias)\n\u001b[1;32m    171\u001b[0m     e3 \u001b[38;5;241m=\u001b[39m get_eval(evals, eval3_alias)\n",
      "File \u001b[0;32m/work/pi_brun_umass_edu/kthompson/coq-modeling/src/evaluation/eval_analysis.py:162\u001b[0m, in \u001b[0;36mget_eval\u001b[0;34m(evals, alias)\u001b[0m\n\u001b[1;32m    160\u001b[0m \u001b[38;5;28;01mdef\u001b[39;00m \u001b[38;5;21mget_eval\u001b[39m(evals: \u001b[38;5;28mlist\u001b[39m[EvalData], alias: \u001b[38;5;28mstr\u001b[39m) \u001b[38;5;241m-\u001b[39m\u001b[38;5;241m>\u001b[39m EvalData:\n\u001b[1;32m    161\u001b[0m     eval_list \u001b[38;5;241m=\u001b[39m [e \u001b[38;5;28;01mfor\u001b[39;00m e \u001b[38;5;129;01min\u001b[39;00m evals \u001b[38;5;28;01mif\u001b[39;00m e\u001b[38;5;241m.\u001b[39malias \u001b[38;5;241m==\u001b[39m alias]\n\u001b[0;32m--> 162\u001b[0m     \u001b[38;5;28;01massert\u001b[39;00m \u001b[38;5;28mlen\u001b[39m(eval_list) \u001b[38;5;241m==\u001b[39m \u001b[38;5;241m1\u001b[39m\n\u001b[1;32m    163\u001b[0m     \u001b[38;5;28;01mreturn\u001b[39;00m eval_list[\u001b[38;5;241m0\u001b[39m]\n",
      "\u001b[0;31mAssertionError\u001b[0m: "
     ]
    },
    {
     "data": {
      "image/png": "[encoded data removed]",
      "text/plain": [
       "<Figure size 640x480 with 1 Axes>"
      ]
     },
     "metadata": {},
     "output_type": "display_data"
    }
   ],
   "source": [
    "def compare_two(es: list[EvalData], e1_alias: str, e2_alias: str):\n",
    "    fig, ax = plt.subplots()\n",
    "    subsets = get_two_eval_subsets(es, e1_alias, e2_alias)\n",
    "    venn2((len(subsets.one_only), len(subsets.two_only), len(subsets.one_two)),\n",
    "          set_labels=(e1_alias, e2_alias), ax=ax)\n",
    "\n",
    "\n",
    "def compare_three(es: list[EvalData], e1_alias: str, e2_alias: str, e3_alias: str):\n",
    "    fig, ax = plt.subplots()\n",
    "    subsets = get_three_eval_subets(es, e1_alias, e2_alias, e3_alias)\n",
    "    venn3((len(subsets.one_only), len(subsets.two_only), len(subsets.one_two),\n",
    "              len(subsets.three_only), len(subsets.one_three), len(subsets.two_three),\n",
    "              len(subsets.one_two_three)),\n",
    "             set_labels=(e1_alias, e2_alias, e3_alias), ax=ax)\n",
    "\n",
    "compare_three(evals, \"Bm25 Proofs + Premises\", \"Proofs Bm25\", \"Basic\")"
   ]
  },
  {
   "cell_type": "code",
   "execution_count": null,
   "metadata": {},
   "outputs": [
    {
     "ename": "AssertionError",
     "evalue": "",
     "output_type": "error",
     "traceback": [
      "\u001b[0;31m---------------------------------------------------------------------------\u001b[0m",
      "\u001b[0;31mAssertionError\u001b[0m                            Traceback (most recent call last)",
      "Cell \u001b[0;32mIn[973], line 1\u001b[0m\n\u001b[0;32m----> 1\u001b[0m subsets \u001b[38;5;241m=\u001b[39m \u001b[43mget_two_eval_subsets\u001b[49m\u001b[43m(\u001b[49m\u001b[43mevals\u001b[49m\u001b[43m,\u001b[49m\u001b[43m \u001b[49m\u001b[38;5;124;43m\"\u001b[39;49m\u001b[38;5;124;43mBasic\u001b[39;49m\u001b[38;5;124;43m\"\u001b[39;49m\u001b[43m,\u001b[49m\u001b[43m \u001b[49m\u001b[38;5;124;43m\"\u001b[39;49m\u001b[38;5;124;43mProofs + Premises\u001b[39;49m\u001b[38;5;124;43m\"\u001b[39;49m\u001b[43m)\u001b[49m\n",
      "File \u001b[0;32m/work/pi_brun_umass_edu/kthompson/coq-modeling/src/evaluation/eval_analysis.py:140\u001b[0m, in \u001b[0;36mget_two_eval_subsets\u001b[0;34m(evals, eval1_alias, eval2_alias)\u001b[0m\n\u001b[1;32m    138\u001b[0m \u001b[38;5;28;01massert\u001b[39;00m \u001b[38;5;28mlen\u001b[39m(eval1_list) \u001b[38;5;241m==\u001b[39m \u001b[38;5;241m1\u001b[39m\n\u001b[1;32m    139\u001b[0m eval2_list \u001b[38;5;241m=\u001b[39m [e \u001b[38;5;28;01mfor\u001b[39;00m e \u001b[38;5;129;01min\u001b[39;00m evals \u001b[38;5;28;01mif\u001b[39;00m e\u001b[38;5;241m.\u001b[39malias \u001b[38;5;241m==\u001b[39m eval2_alias]\n\u001b[0;32m--> 140\u001b[0m \u001b[38;5;28;01massert\u001b[39;00m \u001b[38;5;28mlen\u001b[39m(eval2_list) \u001b[38;5;241m==\u001b[39m \u001b[38;5;241m1\u001b[39m\n\u001b[1;32m    142\u001b[0m e1 \u001b[38;5;241m=\u001b[39m eval1_list[\u001b[38;5;241m0\u001b[39m]\n\u001b[1;32m    143\u001b[0m e2 \u001b[38;5;241m=\u001b[39m eval2_list[\u001b[38;5;241m0\u001b[39m]\n",
      "\u001b[0;31mAssertionError\u001b[0m: "
     ]
    }
   ],
   "source": [
    "subsets = get_two_eval_subsets(evals, \"Basic\", \"Proofs + Premises\")"
   ]
  },
  {
   "cell_type": "code",
   "execution_count": null,
   "metadata": {},
   "outputs": [
    {
     "data": {
      "text/plain": [
       "[ProofPair(file_name='raw-data/coq-dataset/repos/AbsInt-CompCert/MenhirLib/Interpreter_complete.v', theorem_id='start_goto-5'),\n",
       " ProofPair(file_name='raw-data/coq-dataset/repos/AbsInt-CompCert/MenhirLib/Interpreter_complete.v', theorem_id='ptd_buffer_build_from_ptl-20'),\n",
       " ProofPair(file_name='raw-data/coq-dataset/repos/AbsInt-CompCert/MenhirLib/Interpreter_complete.v', theorem_id='first_stable-1'),\n",
       " ProofPair(file_name='raw-data/coq-dataset/repos/AbsInt-CompCert/backend/Allocation.v', theorem_id='ge_lub_left-26'),\n",
       " ProofPair(file_name='raw-data/coq-dataset/repos/AbsInt-CompCert/backend/Asmgenproof0.v', theorem_id='exec_straight_opt_right-66'),\n",
       " ProofPair(file_name='raw-data/coq-dataset/repos/AbsInt-CompCert/backend/Inlining.v', theorem_id='Anon-6'),\n",
       " ProofPair(file_name='raw-data/coq-dataset/repos/AbsInt-CompCert/backend/Locations.v', theorem_id='disjoint_cons_right-13'),\n",
       " ProofPair(file_name='raw-data/coq-dataset/repos/AbsInt-CompCert/backend/RTLgenproof.v', theorem_id='transl_exprlist_correct-39'),\n",
       " ProofPair(file_name='raw-data/coq-dataset/repos/AbsInt-CompCert/backend/Selectionproof.v', theorem_id=\"HF'-14\"),\n",
       " ProofPair(file_name='raw-data/coq-dataset/repos/AbsInt-CompCert/backend/ValueDomain.v', theorem_id='smatch_lub_r-236'),\n",
       " ProofPair(file_name='raw-data/coq-dataset/repos/AbsInt-CompCert/backend/ValueDomain.v', theorem_id='singleoflong_sound-163'),\n",
       " ProofPair(file_name='raw-data/coq-dataset/repos/AbsInt-CompCert/backend/ValueDomain.v', theorem_id='singleofintu_sound-156'),\n",
       " ProofPair(file_name='raw-data/coq-dataset/repos/AbsInt-CompCert/cfrontend/Cexec.v', theorem_id='context_compose-26'),\n",
       " ProofPair(file_name='raw-data/coq-dataset/repos/AbsInt-CompCert/cfrontend/Cshmgenproof.v', theorem_id='small_shift_amount_3-41'),\n",
       " ProofPair(file_name='raw-data/coq-dataset/repos/AbsInt-CompCert/cfrontend/Cshmgenproof.v', theorem_id='make_or_correct-37'),\n",
       " ProofPair(file_name='raw-data/coq-dataset/repos/AbsInt-CompCert/cfrontend/Ctypes.v', theorem_id='alignof_pos-7'),\n",
       " ProofPair(file_name='raw-data/coq-dataset/repos/AbsInt-CompCert/cfrontend/Ctyping.v', theorem_id='econst_long_sound-21'),\n",
       " ProofPair(file_name='raw-data/coq-dataset/repos/AbsInt-CompCert/common/Builtins0.v', theorem_id='Anon-43'),\n",
       " ProofPair(file_name='raw-data/coq-dataset/repos/AbsInt-CompCert/common/Globalenvs.v', theorem_id='find_funct_ptr_inversion-26'),\n",
       " ProofPair(file_name='raw-data/coq-dataset/repos/AbsInt-CompCert/common/Memory.v', theorem_id='perm_storebytes_1-107'),\n",
       " ProofPair(file_name='raw-data/coq-dataset/repos/AbsInt-CompCert/common/Values.v', theorem_id='sub_add_l-31'),\n",
       " ProofPair(file_name='raw-data/coq-dataset/repos/AbsInt-CompCert/common/Values.v', theorem_id='or_assoc-50'),\n",
       " ProofPair(file_name='raw-data/coq-dataset/repos/AbsInt-CompCert/common/Values.v', theorem_id='mull_commut-74'),\n",
       " ProofPair(file_name='raw-data/coq-dataset/repos/AbsInt-CompCert/flocq/Calc/Operations.v', theorem_id='Fminus_same_exp-8'),\n",
       " ProofPair(file_name='raw-data/coq-dataset/repos/AbsInt-CompCert/flocq/Core/Float_prop.v', theorem_id='lt_0_F2R-15'),\n",
       " ProofPair(file_name='raw-data/coq-dataset/repos/AbsInt-CompCert/flocq/Core/Raux.v', theorem_id='Zceil_le-73'),\n",
       " ProofPair(file_name='raw-data/coq-dataset/repos/AbsInt-CompCert/flocq/Core/Raux.v', theorem_id='Rcompare_not_Lt-30'),\n",
       " ProofPair(file_name='raw-data/coq-dataset/repos/AbsInt-CompCert/flocq/Core/Raux.v', theorem_id='Rcompare_mult_r-43'),\n",
       " ProofPair(file_name='raw-data/coq-dataset/repos/AbsInt-CompCert/flocq/Core/Round_pred.v', theorem_id='Rnd_N0_pt_idempotent-54'),\n",
       " ProofPair(file_name='raw-data/coq-dataset/repos/AbsInt-CompCert/flocq/Core/Ulp.v', theorem_id='succ_pred_pos-60'),\n",
       " ProofPair(file_name='raw-data/coq-dataset/repos/AbsInt-CompCert/flocq/IEEE754/Binary.v', theorem_id=\"Bsign_BSN2B'-49\"),\n",
       " ProofPair(file_name='raw-data/coq-dataset/repos/AbsInt-CompCert/lib/Coqlib.v', theorem_id='list_forall2_imply-109'),\n",
       " ProofPair(file_name='raw-data/coq-dataset/repos/AbsInt-CompCert/lib/Coqlib.v', theorem_id='Zmin_spec-34'),\n",
       " ProofPair(file_name='raw-data/coq-dataset/repos/AbsInt-CompCert/lib/Integers.v', theorem_id='xor_not_self-156'),\n",
       " ProofPair(file_name='raw-data/coq-dataset/repos/AbsInt-CompCert/lib/Integers.v', theorem_id='signed_eq-286'),\n",
       " ProofPair(file_name='raw-data/coq-dataset/repos/AbsInt-CompCert/lib/Integers.v', theorem_id='mul_signed-91'),\n",
       " ProofPair(file_name='raw-data/coq-dataset/repos/AbsInt-CompCert/lib/Integers.v', theorem_id='eq_sym-53'),\n",
       " ProofPair(file_name='raw-data/coq-dataset/repos/AbsInt-CompCert/lib/Integers.v', theorem_id='modulus_power-1'),\n",
       " ProofPair(file_name='raw-data/coq-dataset/repos/AbsInt-CompCert/lib/Maps.v', theorem_id='gso-65'),\n",
       " ProofPair(file_name='raw-data/coq-dataset/repos/AbsInt-CompCert/lib/Zbits.v', theorem_id='Z_is_power2m1_nonneg-62'),\n",
       " ProofPair(file_name='raw-data/coq-dataset/repos/AbsInt-CompCert/x86/SelectLongproof.v', theorem_id='eval_modls_base-29')]"
      ]
     },
     "execution_count": 846,
     "metadata": {},
     "output_type": "execute_result"
    }
   ],
   "source": [
    "sorted([p for p in subsets.two_only if \"AbsInt\" in str(p.file_name)], key= lambda p: p.file_name)"
   ]
  },
  {
   "cell_type": "markdown",
   "metadata": {},
   "source": [
    "# Inspect Individual Results"
   ]
  },
  {
   "cell_type": "code",
   "execution_count": null,
   "metadata": {},
   "outputs": [],
   "source": [
    "A = \"Local Basic\"\n",
    "B = \"Slurm Basic\"\n",
    "better_gen = a_beats_b_generator(evals, A, B)"
   ]
  },
  {
   "cell_type": "code",
   "execution_count": null,
   "metadata": {},
   "outputs": [],
   "source": [
    "def display_diff(p: ProofPair, e1_alias: str, e2_alias: str, s1: Summary, s2: Summary):\n",
    "    print(f\"{e1_alias} beat {e2_alias} on {p.theorem_name} from {p.file_name}\")\n",
    "    assert s1.success == True\n",
    "    if isinstance(s1, StraightLineSummary):\n",
    "        assert s1.attempts is not None\n",
    "        print(f\">>>>> {e1_alias} found a proof in {s1.search_time} seconds ({s1.model_time} model seconds) and {len(s1.attempts)} attempts.\")\n",
    "    else:\n",
    "        print(f\">>>>> {e1_alias} found a proof in {s1.search_time} seconds ({s1.model_time} model seconds)\")\n",
    "\n",
    "    assert s1.proof is not None\n",
    "    print(s1.proof)\n",
    "\n",
    "    print()\n",
    "    if s2.search_time is None:\n",
    "        print(f\"<<<<< {e2_alias} failed with an error.\")\n",
    "        return\n",
    "    if isinstance(s2, StraightLineSummary):\n",
    "        assert s2.attempts is not None\n",
    "        print(f\"<<<<< {e2_alias} failed after {s2.search_time} seconds ({s1.model_time} model seconds) and {len(s2.attempts)} attempts.\")\n",
    "        for a in s2.attempts: \n",
    "            print(a)\n",
    "    else:\n",
    "        print(f\"<<<<< {e2_alias} failed after {s2.search_time} seconds ({s1.model_time} model seconds)\")\n"
   ]
  },
  {
   "cell_type": "code",
   "execution_count": null,
   "metadata": {},
   "outputs": [
    {
     "ename": "AssertionError",
     "evalue": "",
     "output_type": "error",
     "traceback": [
      "\u001b[0;31m---------------------------------------------------------------------------\u001b[0m",
      "\u001b[0;31mAssertionError\u001b[0m                            Traceback (most recent call last)",
      "Cell \u001b[0;32mIn[849], line 1\u001b[0m\n\u001b[0;32m----> 1\u001b[0m p, s1, s2 \u001b[38;5;241m=\u001b[39m \u001b[38;5;28;43mnext\u001b[39;49m\u001b[43m(\u001b[49m\u001b[43mbetter_gen\u001b[49m\u001b[43m)\u001b[49m\n\u001b[1;32m      2\u001b[0m display_diff(p, A, B, s1, s2)\n",
      "File \u001b[0;32m/work/pi_brun_umass_edu/kthompson/coq-modeling/src/evaluation/eval_analysis.py:234\u001b[0m, in \u001b[0;36ma_beats_b_generator\u001b[0;34m(es, e1_alias, e2_alias)\u001b[0m\n\u001b[1;32m    231\u001b[0m \u001b[38;5;28;01mdef\u001b[39;00m \u001b[38;5;21ma_beats_b_generator\u001b[39m(\n\u001b[1;32m    232\u001b[0m     es: \u001b[38;5;28mlist\u001b[39m[EvalData], e1_alias: \u001b[38;5;28mstr\u001b[39m, e2_alias: \u001b[38;5;28mstr\u001b[39m\n\u001b[1;32m    233\u001b[0m ) \u001b[38;5;241m-\u001b[39m\u001b[38;5;241m>\u001b[39m Generator[\u001b[38;5;28mtuple\u001b[39m[ProofPair, Summary, Summary], \u001b[38;5;28;01mNone\u001b[39;00m, \u001b[38;5;28;01mNone\u001b[39;00m]:\n\u001b[0;32m--> 234\u001b[0m     e1 \u001b[38;5;241m=\u001b[39m \u001b[43mget_eval\u001b[49m\u001b[43m(\u001b[49m\u001b[43mes\u001b[49m\u001b[43m,\u001b[49m\u001b[43m \u001b[49m\u001b[43me1_alias\u001b[49m\u001b[43m)\u001b[49m\n\u001b[1;32m    235\u001b[0m     e2 \u001b[38;5;241m=\u001b[39m get_eval(es, e2_alias)\n\u001b[1;32m    236\u001b[0m     e2_map \u001b[38;5;241m=\u001b[39m results_to_proof_map(e2\u001b[38;5;241m.\u001b[39mresults)\n",
      "File \u001b[0;32m/work/pi_brun_umass_edu/kthompson/coq-modeling/src/evaluation/eval_analysis.py:159\u001b[0m, in \u001b[0;36mget_eval\u001b[0;34m(evals, alias)\u001b[0m\n\u001b[1;32m    157\u001b[0m \u001b[38;5;28;01mdef\u001b[39;00m \u001b[38;5;21mget_eval\u001b[39m(evals: \u001b[38;5;28mlist\u001b[39m[EvalData], alias: \u001b[38;5;28mstr\u001b[39m) \u001b[38;5;241m-\u001b[39m\u001b[38;5;241m>\u001b[39m EvalData:\n\u001b[1;32m    158\u001b[0m     eval_list \u001b[38;5;241m=\u001b[39m [e \u001b[38;5;28;01mfor\u001b[39;00m e \u001b[38;5;129;01min\u001b[39;00m evals \u001b[38;5;28;01mif\u001b[39;00m e\u001b[38;5;241m.\u001b[39malias \u001b[38;5;241m==\u001b[39m alias]\n\u001b[0;32m--> 159\u001b[0m     \u001b[38;5;28;01massert\u001b[39;00m \u001b[38;5;28mlen\u001b[39m(eval_list) \u001b[38;5;241m==\u001b[39m \u001b[38;5;241m1\u001b[39m\n\u001b[1;32m    160\u001b[0m     \u001b[38;5;28;01mreturn\u001b[39;00m eval_list[\u001b[38;5;241m0\u001b[39m]\n",
      "\u001b[0;31mAssertionError\u001b[0m: "
     ]
    }
   ],
   "source": [
    "p, s1, s2 = next(better_gen)\n",
    "display_diff(p, A, B, s1, s2)\n"
   ]
  }
 ],
 "metadata": {
  "kernelspec": {
   "display_name": "venv",
   "language": "python",
   "name": "python3"
  },
  "language_info": {
   "codemirror_mode": {
    "name": "ipython",
    "version": 3
   },
   "file_extension": ".py",
   "mimetype": "text/x-python",
   "name": "python",
   "nbconvert_exporter": "python",
   "pygments_lexer": "ipython3",
   "version": "3.11.0"
  }
 },
 "nbformat": 4,
 "nbformat_minor": 2
}
