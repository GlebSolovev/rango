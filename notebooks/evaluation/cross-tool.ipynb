{
 "cells": [
  {
   "cell_type": "code",
   "execution_count": 7,
   "metadata": {},
   "outputs": [],
   "source": [
    "import os\n",
    "import matplotlib.pyplot as plt\n",
    "from matplotlib_venn import venn2, venn3\n",
    "import pandas as pd\n",
    "from pathlib import Path\n",
    "from evaluation.cross_tool_analysis import load_proverbot, load_tactician, load_rango, get_unique_files, get_mutual_proof_pairs, NamedEval, get_two_eval_subsets, SuccessfulResult, GeneralResult"
   ]
  },
  {
   "cell_type": "code",
   "execution_count": 8,
   "metadata": {},
   "outputs": [],
   "source": [
    "if Path(os.curdir).resolve().name == \"evaluation\":\n",
    "    os.chdir(\"../..\")\n",
    "elif Path(os.curdir).resolve().name == \"coq-modeling\": \n",
    "    pass\n",
    "else:\n",
    "    raise ValueError(f\"In an unexpected directory: {os.curdir}\")"
   ]
  },
  {
   "cell_type": "code",
   "execution_count": 11,
   "metadata": {},
   "outputs": [],
   "source": [
    "PROVERBOT_LOC = Path(\"evaluations/proverbot\")\n",
    "TACTICIAN_LOC = Path(\"evaluations/tactician/results-24-07-22\")\n",
    "RANGO_LOC = Path(\"evaluations/eval-results/deepseek-bm-25-proof-ret-final-test-500\")\n",
    "#RANGO_LOC = Path(\"evaluations/eval-results/deepseek-proof-prem-final-test-500\")\n",
    "#RANGO_LOC = Path(\"evaluations/eval-results/deepseek-proof-final-test-500\")"
   ]
  },
  {
   "cell_type": "code",
   "execution_count": 12,
   "metadata": {},
   "outputs": [],
   "source": [
    "proverbot_eval = NamedEval(\"proverbot\", load_proverbot(PROVERBOT_LOC))\n",
    "proverbot_files = get_unique_files(proverbot_eval.results)\n",
    "\n",
    "tactician_eval = NamedEval(\"tactician\", load_tactician(TACTICIAN_LOC, proverbot_files))\n",
    "rango_eval = NamedEval(\"rango\", load_rango(RANGO_LOC, proverbot_files))"
   ]
  },
  {
   "cell_type": "code",
   "execution_count": 13,
   "metadata": {},
   "outputs": [],
   "source": [
    "raw_evals = [\n",
    "    proverbot_eval,\n",
    "    tactician_eval,\n",
    "    #rango_eval,\n",
    "]"
   ]
  },
  {
   "cell_type": "code",
   "execution_count": 14,
   "metadata": {},
   "outputs": [
    {
     "data": {
      "text/plain": [
       "['Theorem compare_refl {A:Type} (C: Comparable A) : forall x, compare x x = Eq.',\n",
       " 'Global Instance ComparableLtStrictOrder {A:Type} (C: Comparable A) : StrictOrder (comparableLt C).',\n",
       " 'Next Obligation.',\n",
       " 'Lemma compare_sym x y : (y?=x) = CompOpp (x?=y).',\n",
       " 'Lemma compare_trans c x y z : (x?=y) = c -> (y?=z) = c -> (x?=z) = c.',\n",
       " 'Next Obligation.',\n",
       " 'Next Obligation.',\n",
       " 'Next Obligation.',\n",
       " 'Next Obligation.',\n",
       " 'Theorem compare_eqb_iff {A:Type} {C:Comparable A} {U:ComparableLeibnizEq C} : forall x y, compare_eqb x y = true <-> x = y.']"
      ]
     },
     "execution_count": 14,
     "metadata": {},
     "output_type": "execute_result"
    }
   ],
   "source": [
    "[r.theorem for r in tactician_eval.results][:10]"
   ]
  },
  {
   "cell_type": "code",
   "execution_count": 15,
   "metadata": {},
   "outputs": [
    {
     "data": {
      "text/plain": [
       "[PosixPath('AbsInt-CompCert/MenhirLib/Alphabet.v'),\n",
       " PosixPath('AbsInt-CompCert/MenhirLib/Alphabet.v'),\n",
       " PosixPath('AbsInt-CompCert/MenhirLib/Alphabet.v'),\n",
       " PosixPath('AbsInt-CompCert/MenhirLib/Alphabet.v'),\n",
       " PosixPath('AbsInt-CompCert/MenhirLib/Alphabet.v'),\n",
       " PosixPath('AbsInt-CompCert/MenhirLib/Alphabet.v'),\n",
       " PosixPath('AbsInt-CompCert/MenhirLib/Alphabet.v'),\n",
       " PosixPath('AbsInt-CompCert/MenhirLib/Alphabet.v'),\n",
       " PosixPath('AbsInt-CompCert/MenhirLib/Alphabet.v'),\n",
       " PosixPath('AbsInt-CompCert/MenhirLib/Alphabet.v')]"
      ]
     },
     "execution_count": 15,
     "metadata": {},
     "output_type": "execute_result"
    }
   ],
   "source": [
    "[r.file for r in tactician_eval.results][:10]"
   ]
  },
  {
   "cell_type": "code",
   "execution_count": 16,
   "metadata": {},
   "outputs": [
    {
     "data": {
      "text/plain": [
       "['Theorem Ackermann: forall n m : nat, {p : nat | Ack n m p}.',\n",
       " 'Theorem Ack_ack: forall n m : nat, Ack n m (ack n m).',\n",
       " 'Theorem ack_Ack: forall n m p : nat, Ack n m p -> p = ack n m :>nat.',\n",
       " 'Lemma skip_step_sem s1 (S : skip_safe s1) s2 r: skip_step S s2 r -> network_step W this s1 s2.',\n",
       " 'Lemma skip_safe_coh s1 : skip_safe s1 -> Coh W s1.',\n",
       " \"(* Lemma skip_step_safe s1 s2 r: skip_step s1 s2 r -> skip_safe s1. *) (* Proof. by case. Qed. *) Lemma skip_step_total s (S : skip_safe s) : exists s' r, skip_step S s' r.\",\n",
       " \"Lemma send_act_step_total s (S: send_act_safe s): exists s' r , send_act_step S s' r.\",\n",
       " 'Lemma safe_local s : skip_safe s -> coh p (getS s l).',\n",
       " 'Lemma tryrecv_act_safe_coh s : tryrecv_act_safe s -> Coh W s.',\n",
       " 'Lemma safe_safe s : send_act_safe s -> send_safe st this to (getS s l) msg.']"
      ]
     },
     "execution_count": 16,
     "metadata": {},
     "output_type": "execute_result"
    }
   ],
   "source": [
    "[r.theorem for r in proverbot_eval.results][:10]"
   ]
  },
  {
   "cell_type": "code",
   "execution_count": 17,
   "metadata": {},
   "outputs": [
    {
     "data": {
      "text/plain": [
       "[PosixPath('demos/Ack.v'),\n",
       " PosixPath('demos/Ack.v'),\n",
       " PosixPath('demos/Ack.v'),\n",
       " PosixPath('disel/Core/Actions.v'),\n",
       " PosixPath('disel/Core/Actions.v'),\n",
       " PosixPath('disel/Core/Actions.v'),\n",
       " PosixPath('disel/Core/Actions.v'),\n",
       " PosixPath('disel/Core/Actions.v'),\n",
       " PosixPath('disel/Core/Actions.v'),\n",
       " PosixPath('disel/Core/Actions.v')]"
      ]
     },
     "execution_count": 17,
     "metadata": {},
     "output_type": "execute_result"
    }
   ],
   "source": [
    "[r.file for r in proverbot_eval.results][:10]"
   ]
  },
  {
   "cell_type": "code",
   "execution_count": 18,
   "metadata": {},
   "outputs": [],
   "source": [
    "mutual_proofs = get_mutual_proof_pairs(raw_evals)\n",
    "evals = [e.filter_results(mutual_proofs) for e in raw_evals]\n",
    "assert all(len(e.results) == len(mutual_proofs) for e in evals)"
   ]
  },
  {
   "cell_type": "code",
   "execution_count": 19,
   "metadata": {},
   "outputs": [
    {
     "data": {
      "text/plain": [
       "[428, 428]"
      ]
     },
     "execution_count": 19,
     "metadata": {},
     "output_type": "execute_result"
    }
   ],
   "source": [
    "[len(e.results) for e in evals]"
   ]
  },
  {
   "cell_type": "code",
   "execution_count": 20,
   "metadata": {},
   "outputs": [
    {
     "data": {
      "text/plain": [
       "428"
      ]
     },
     "execution_count": 20,
     "metadata": {},
     "output_type": "execute_result"
    }
   ],
   "source": [
    "len(mutual_proofs)"
   ]
  },
  {
   "cell_type": "code",
   "execution_count": 22,
   "metadata": {},
   "outputs": [
    {
     "ename": "ValueError",
     "evalue": "4 columns passed, passed data had 5 columns",
     "output_type": "error",
     "traceback": [
      "\u001b[0;31m---------------------------------------------------------------------------\u001b[0m",
      "\u001b[0;31mAssertionError\u001b[0m                            Traceback (most recent call last)",
      "File \u001b[0;32m/work/pi_brun_umass_edu/kthompson/coq-modeling/venv/lib/python3.11/site-packages/pandas/core/internals/construction.py:939\u001b[0m, in \u001b[0;36m_finalize_columns_and_data\u001b[0;34m(content, columns, dtype)\u001b[0m\n\u001b[1;32m    938\u001b[0m \u001b[38;5;28;01mtry\u001b[39;00m:\n\u001b[0;32m--> 939\u001b[0m     columns \u001b[38;5;241m=\u001b[39m \u001b[43m_validate_or_indexify_columns\u001b[49m\u001b[43m(\u001b[49m\u001b[43mcontents\u001b[49m\u001b[43m,\u001b[49m\u001b[43m \u001b[49m\u001b[43mcolumns\u001b[49m\u001b[43m)\u001b[49m\n\u001b[1;32m    940\u001b[0m \u001b[38;5;28;01mexcept\u001b[39;00m \u001b[38;5;167;01mAssertionError\u001b[39;00m \u001b[38;5;28;01mas\u001b[39;00m err:\n\u001b[1;32m    941\u001b[0m     \u001b[38;5;66;03m# GH#26429 do not raise user-facing AssertionError\u001b[39;00m\n",
      "File \u001b[0;32m/work/pi_brun_umass_edu/kthompson/coq-modeling/venv/lib/python3.11/site-packages/pandas/core/internals/construction.py:986\u001b[0m, in \u001b[0;36m_validate_or_indexify_columns\u001b[0;34m(content, columns)\u001b[0m\n\u001b[1;32m    984\u001b[0m \u001b[38;5;28;01mif\u001b[39;00m \u001b[38;5;129;01mnot\u001b[39;00m is_mi_list \u001b[38;5;129;01mand\u001b[39;00m \u001b[38;5;28mlen\u001b[39m(columns) \u001b[38;5;241m!=\u001b[39m \u001b[38;5;28mlen\u001b[39m(content):  \u001b[38;5;66;03m# pragma: no cover\u001b[39;00m\n\u001b[1;32m    985\u001b[0m     \u001b[38;5;66;03m# caller's responsibility to check for this...\u001b[39;00m\n\u001b[0;32m--> 986\u001b[0m     \u001b[38;5;28;01mraise\u001b[39;00m \u001b[38;5;167;01mAssertionError\u001b[39;00m(\n\u001b[1;32m    987\u001b[0m         \u001b[38;5;124mf\u001b[39m\u001b[38;5;124m\"\u001b[39m\u001b[38;5;132;01m{\u001b[39;00m\u001b[38;5;28mlen\u001b[39m(columns)\u001b[38;5;132;01m}\u001b[39;00m\u001b[38;5;124m columns passed, passed data had \u001b[39m\u001b[38;5;124m\"\u001b[39m\n\u001b[1;32m    988\u001b[0m         \u001b[38;5;124mf\u001b[39m\u001b[38;5;124m\"\u001b[39m\u001b[38;5;132;01m{\u001b[39;00m\u001b[38;5;28mlen\u001b[39m(content)\u001b[38;5;132;01m}\u001b[39;00m\u001b[38;5;124m columns\u001b[39m\u001b[38;5;124m\"\u001b[39m\n\u001b[1;32m    989\u001b[0m     )\n\u001b[1;32m    990\u001b[0m \u001b[38;5;28;01mif\u001b[39;00m is_mi_list:\n\u001b[1;32m    991\u001b[0m     \u001b[38;5;66;03m# check if nested list column, length of each sub-list should be equal\u001b[39;00m\n",
      "\u001b[0;31mAssertionError\u001b[0m: 4 columns passed, passed data had 5 columns",
      "\nThe above exception was the direct cause of the following exception:\n",
      "\u001b[0;31mValueError\u001b[0m                                Traceback (most recent call last)",
      "Cell \u001b[0;32mIn[22], line 21\u001b[0m\n\u001b[1;32m     19\u001b[0m         p \u001b[38;5;241m=\u001b[39m n_successes \u001b[38;5;241m/\u001b[39m n_attempts\n\u001b[1;32m     20\u001b[0m         rows\u001b[38;5;241m.\u001b[39mappend((e\u001b[38;5;241m.\u001b[39mname, proj, n_successes, n_attempts, p))\n\u001b[0;32m---> 21\u001b[0m \u001b[43mpd\u001b[49m\u001b[38;5;241;43m.\u001b[39;49m\u001b[43mDataFrame\u001b[49m\u001b[43m(\u001b[49m\u001b[43mrows\u001b[49m\u001b[43m,\u001b[49m\u001b[43m \u001b[49m\u001b[43mcolumns\u001b[49m\u001b[38;5;241;43m=\u001b[39;49m\u001b[43m[\u001b[49m\u001b[38;5;124;43m\"\u001b[39;49m\u001b[38;5;124;43mProject\u001b[39;49m\u001b[38;5;124;43m\"\u001b[39;49m\u001b[43m,\u001b[49m\u001b[43m \u001b[49m\u001b[38;5;124;43m\"\u001b[39;49m\u001b[38;5;124;43mSuccesses\u001b[39;49m\u001b[38;5;124;43m\"\u001b[39;49m\u001b[43m,\u001b[49m\u001b[43m \u001b[49m\u001b[38;5;124;43m\"\u001b[39;49m\u001b[38;5;124;43mAttempts\u001b[39;49m\u001b[38;5;124;43m\"\u001b[39;49m\u001b[43m,\u001b[49m\u001b[43m \u001b[49m\u001b[38;5;124;43m\"\u001b[39;49m\u001b[38;5;124;43mSuccess Rate\u001b[39;49m\u001b[38;5;124;43m\"\u001b[39;49m\u001b[43m]\u001b[49m\u001b[43m)\u001b[49m\n",
      "File \u001b[0;32m/work/pi_brun_umass_edu/kthompson/coq-modeling/venv/lib/python3.11/site-packages/pandas/core/frame.py:851\u001b[0m, in \u001b[0;36mDataFrame.__init__\u001b[0;34m(self, data, index, columns, dtype, copy)\u001b[0m\n\u001b[1;32m    849\u001b[0m     \u001b[38;5;28;01mif\u001b[39;00m columns \u001b[38;5;129;01mis\u001b[39;00m \u001b[38;5;129;01mnot\u001b[39;00m \u001b[38;5;28;01mNone\u001b[39;00m:\n\u001b[1;32m    850\u001b[0m         columns \u001b[38;5;241m=\u001b[39m ensure_index(columns)\n\u001b[0;32m--> 851\u001b[0m     arrays, columns, index \u001b[38;5;241m=\u001b[39m \u001b[43mnested_data_to_arrays\u001b[49m\u001b[43m(\u001b[49m\n\u001b[1;32m    852\u001b[0m \u001b[43m        \u001b[49m\u001b[38;5;66;43;03m# error: Argument 3 to \"nested_data_to_arrays\" has incompatible\u001b[39;49;00m\n\u001b[1;32m    853\u001b[0m \u001b[43m        \u001b[49m\u001b[38;5;66;43;03m# type \"Optional[Collection[Any]]\"; expected \"Optional[Index]\"\u001b[39;49;00m\n\u001b[1;32m    854\u001b[0m \u001b[43m        \u001b[49m\u001b[43mdata\u001b[49m\u001b[43m,\u001b[49m\n\u001b[1;32m    855\u001b[0m \u001b[43m        \u001b[49m\u001b[43mcolumns\u001b[49m\u001b[43m,\u001b[49m\n\u001b[1;32m    856\u001b[0m \u001b[43m        \u001b[49m\u001b[43mindex\u001b[49m\u001b[43m,\u001b[49m\u001b[43m  \u001b[49m\u001b[38;5;66;43;03m# type: ignore[arg-type]\u001b[39;49;00m\n\u001b[1;32m    857\u001b[0m \u001b[43m        \u001b[49m\u001b[43mdtype\u001b[49m\u001b[43m,\u001b[49m\n\u001b[1;32m    858\u001b[0m \u001b[43m    \u001b[49m\u001b[43m)\u001b[49m\n\u001b[1;32m    859\u001b[0m     mgr \u001b[38;5;241m=\u001b[39m arrays_to_mgr(\n\u001b[1;32m    860\u001b[0m         arrays,\n\u001b[1;32m    861\u001b[0m         columns,\n\u001b[0;32m   (...)\u001b[0m\n\u001b[1;32m    864\u001b[0m         typ\u001b[38;5;241m=\u001b[39mmanager,\n\u001b[1;32m    865\u001b[0m     )\n\u001b[1;32m    866\u001b[0m \u001b[38;5;28;01melse\u001b[39;00m:\n",
      "File \u001b[0;32m/work/pi_brun_umass_edu/kthompson/coq-modeling/venv/lib/python3.11/site-packages/pandas/core/internals/construction.py:520\u001b[0m, in \u001b[0;36mnested_data_to_arrays\u001b[0;34m(data, columns, index, dtype)\u001b[0m\n\u001b[1;32m    517\u001b[0m \u001b[38;5;28;01mif\u001b[39;00m is_named_tuple(data[\u001b[38;5;241m0\u001b[39m]) \u001b[38;5;129;01mand\u001b[39;00m columns \u001b[38;5;129;01mis\u001b[39;00m \u001b[38;5;28;01mNone\u001b[39;00m:\n\u001b[1;32m    518\u001b[0m     columns \u001b[38;5;241m=\u001b[39m ensure_index(data[\u001b[38;5;241m0\u001b[39m]\u001b[38;5;241m.\u001b[39m_fields)\n\u001b[0;32m--> 520\u001b[0m arrays, columns \u001b[38;5;241m=\u001b[39m \u001b[43mto_arrays\u001b[49m\u001b[43m(\u001b[49m\u001b[43mdata\u001b[49m\u001b[43m,\u001b[49m\u001b[43m \u001b[49m\u001b[43mcolumns\u001b[49m\u001b[43m,\u001b[49m\u001b[43m \u001b[49m\u001b[43mdtype\u001b[49m\u001b[38;5;241;43m=\u001b[39;49m\u001b[43mdtype\u001b[49m\u001b[43m)\u001b[49m\n\u001b[1;32m    521\u001b[0m columns \u001b[38;5;241m=\u001b[39m ensure_index(columns)\n\u001b[1;32m    523\u001b[0m \u001b[38;5;28;01mif\u001b[39;00m index \u001b[38;5;129;01mis\u001b[39;00m \u001b[38;5;28;01mNone\u001b[39;00m:\n",
      "File \u001b[0;32m/work/pi_brun_umass_edu/kthompson/coq-modeling/venv/lib/python3.11/site-packages/pandas/core/internals/construction.py:845\u001b[0m, in \u001b[0;36mto_arrays\u001b[0;34m(data, columns, dtype)\u001b[0m\n\u001b[1;32m    842\u001b[0m     data \u001b[38;5;241m=\u001b[39m [\u001b[38;5;28mtuple\u001b[39m(x) \u001b[38;5;28;01mfor\u001b[39;00m x \u001b[38;5;129;01min\u001b[39;00m data]\n\u001b[1;32m    843\u001b[0m     arr \u001b[38;5;241m=\u001b[39m _list_to_arrays(data)\n\u001b[0;32m--> 845\u001b[0m content, columns \u001b[38;5;241m=\u001b[39m \u001b[43m_finalize_columns_and_data\u001b[49m\u001b[43m(\u001b[49m\u001b[43marr\u001b[49m\u001b[43m,\u001b[49m\u001b[43m \u001b[49m\u001b[43mcolumns\u001b[49m\u001b[43m,\u001b[49m\u001b[43m \u001b[49m\u001b[43mdtype\u001b[49m\u001b[43m)\u001b[49m\n\u001b[1;32m    846\u001b[0m \u001b[38;5;28;01mreturn\u001b[39;00m content, columns\n",
      "File \u001b[0;32m/work/pi_brun_umass_edu/kthompson/coq-modeling/venv/lib/python3.11/site-packages/pandas/core/internals/construction.py:942\u001b[0m, in \u001b[0;36m_finalize_columns_and_data\u001b[0;34m(content, columns, dtype)\u001b[0m\n\u001b[1;32m    939\u001b[0m     columns \u001b[38;5;241m=\u001b[39m _validate_or_indexify_columns(contents, columns)\n\u001b[1;32m    940\u001b[0m \u001b[38;5;28;01mexcept\u001b[39;00m \u001b[38;5;167;01mAssertionError\u001b[39;00m \u001b[38;5;28;01mas\u001b[39;00m err:\n\u001b[1;32m    941\u001b[0m     \u001b[38;5;66;03m# GH#26429 do not raise user-facing AssertionError\u001b[39;00m\n\u001b[0;32m--> 942\u001b[0m     \u001b[38;5;28;01mraise\u001b[39;00m \u001b[38;5;167;01mValueError\u001b[39;00m(err) \u001b[38;5;28;01mfrom\u001b[39;00m \u001b[38;5;21;01merr\u001b[39;00m\n\u001b[1;32m    944\u001b[0m \u001b[38;5;28;01mif\u001b[39;00m \u001b[38;5;28mlen\u001b[39m(contents) \u001b[38;5;129;01mand\u001b[39;00m contents[\u001b[38;5;241m0\u001b[39m]\u001b[38;5;241m.\u001b[39mdtype \u001b[38;5;241m==\u001b[39m np\u001b[38;5;241m.\u001b[39mobject_:\n\u001b[1;32m    945\u001b[0m     contents \u001b[38;5;241m=\u001b[39m convert_object_array(contents, dtype\u001b[38;5;241m=\u001b[39mdtype)\n",
      "\u001b[0;31mValueError\u001b[0m: 4 columns passed, passed data had 5 columns"
     ]
    }
   ],
   "source": [
    "\n",
    "def attempts_by_project(e: NamedEval) -> dict[str, list[GeneralResult]]:\n",
    "    grouped_results: dict[str, list[GeneralResult]] = {}\n",
    "    for r in e.results: \n",
    "        project = r.file.parts[0]\n",
    "        if project not in grouped_results:\n",
    "            grouped_results[project] = []\n",
    "        grouped_results[project].append(r)\n",
    "    return grouped_results\n",
    "\n",
    "def count_successes(results: list[GeneralResult]) -> int:\n",
    "    return sum(1 for r in results if r.success)\n",
    "\n",
    "rows: list[tuple[str, str, int, int, float]] = []\n",
    "for e in evals:\n",
    "    attempts_by_proj = attempts_by_project(e)\n",
    "    for proj, attempts in attempts_by_project(e).items():\n",
    "        n_successes = count_successes(attempts)\n",
    "        n_attempts = len(attempts)\n",
    "        p = n_successes / n_attempts\n",
    "        rows.append((e.name, proj, n_successes, n_attempts, p))\n",
    "pd.DataFrame(rows, columns=[\"System\", \"Project\", \"Successes\", \"Attempts\", \"Success Rate\"])"
   ]
  },
  {
   "cell_type": "code",
   "execution_count": null,
   "metadata": {},
   "outputs": [
    {
     "data": {
      "image/png": "[encoded data removed]",
      "text/plain": [
       "<Figure size 640x480 with 1 Axes>"
      ]
     },
     "metadata": {},
     "output_type": "display_data"
    }
   ],
   "source": [
    "def plot_times(es: list[NamedEval]):\n",
    "    times = [e.get_time_points() for e in es]\n",
    "    fig, ax = plt.subplots()\n",
    "    for e, time_list in zip(es, times):\n",
    "        xs = [t.x for t in time_list]\n",
    "        ys = [t.y for t in time_list]\n",
    "        ax.plot(xs, ys, label=e.name)\n",
    "    ax.set_xlabel(\"Time (s)\")\n",
    "    ax.set_ylabel(\"# Proofs Completed\")\n",
    "    ax.set_title(\"Proofs Completed Over Time\")\n",
    "    ax.legend(loc=\"lower right\")\n",
    "\n",
    "\n",
    "plot_times(evals)"
   ]
  },
  {
   "cell_type": "code",
   "execution_count": null,
   "metadata": {},
   "outputs": [
    {
     "name": "stdout",
     "output_type": "stream",
     "text": [
      "Total # Found =  166\n"
     ]
    },
    {
     "data": {
      "image/png": "[encoded data removed]",
      "text/plain": [
       "<Figure size 640x480 with 1 Axes>"
      ]
     },
     "metadata": {},
     "output_type": "display_data"
    }
   ],
   "source": [
    "def compare_two(es: list[NamedEval], e1_alias: str, e2_alias: str) -> int:\n",
    "    fig, ax = plt.subplots()\n",
    "    subsets = get_two_eval_subsets(es, e1_alias, e2_alias)\n",
    "    venn2((len(subsets.one_only), len(subsets.two_only), len(subsets.one_two)),\n",
    "          set_labels=(e1_alias, e2_alias), ax=ax)\n",
    "    get_two_eval_subsets(es, e1_alias, e2_alias)\n",
    "    return len(subsets.one_only) + len(subsets.one_two) + len(subsets.two_only)\n",
    "\n",
    "\n",
    "total_found = compare_two(evals, \"tactician\", \"rango\")\n",
    "print(\"Total # Found = \", total_found)\n",
    "\n",
    "\n"
   ]
  },
  {
   "cell_type": "code",
   "execution_count": null,
   "metadata": {},
   "outputs": [],
   "source": [
    "subsets = get_two_eval_subsets(evals, \"tactician\", \"rango\")"
   ]
  },
  {
   "cell_type": "code",
   "execution_count": null,
   "metadata": {},
   "outputs": [],
   "source": [
    "import json\n",
    "with open(\"tactician_only.json\", \"w\") as fout:\n",
    "    fout.write(json.dumps([{\"file\": str(s.file), \"theorem\": s.theorem} for s in subsets.one_only], indent=2))"
   ]
  }
 ],
 "metadata": {
  "kernelspec": {
   "display_name": "venv",
   "language": "python",
   "name": "python3"
  },
  "language_info": {
   "codemirror_mode": {
    "name": "ipython",
    "version": 3
   },
   "file_extension": ".py",
   "mimetype": "text/x-python",
   "name": "python",
   "nbconvert_exporter": "python",
   "pygments_lexer": "ipython3",
   "version": "3.11.0"
  }
 },
 "nbformat": 4,
 "nbformat_minor": 2
}
