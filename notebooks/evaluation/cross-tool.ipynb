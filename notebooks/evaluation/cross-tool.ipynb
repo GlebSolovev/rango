{
 "cells": [
  {
   "cell_type": "code",
   "execution_count": 76,
   "metadata": {},
   "outputs": [],
   "source": [
    "import os\n",
    "import matplotlib.pyplot as plt\n",
    "from matplotlib_venn import venn2, venn3\n",
    "import pandas as pd\n",
    "from pathlib import Path\n",
    "from evaluation.cross_tool_analysis import load_proverbot, load_tactician, load_rango, get_unique_files, get_mutual_proof_pairs, NamedEval, get_two_eval_subsets, SuccessfulResult, GeneralResult"
   ]
  },
  {
   "cell_type": "code",
   "execution_count": 77,
   "metadata": {},
   "outputs": [],
   "source": [
    "if Path(os.curdir).resolve().name == \"evaluation\":\n",
    "    os.chdir(\"../..\")\n",
    "elif Path(os.curdir).resolve().name == \"coq-modeling\": \n",
    "    pass\n",
    "else:\n",
    "    raise ValueError(f\"In an unexpected directory: {os.curdir}\")"
   ]
  },
  {
   "cell_type": "code",
   "execution_count": 78,
   "metadata": {},
   "outputs": [],
   "source": [
    "PROVERBOT_LOC = Path(\"evaluations/proverbot\")\n",
    "TACTICIAN_LOC = Path(\"evaluations/tactician/results-24-07-22\")\n",
    "GRAPH2TAC_LOC = Path(\"evaluations/graph2tac/results\")\n",
    "RANGO_LOC = Path(\"evaluations/eval-results/deepseek-proof-prem-final\")\n",
    "#RANGO_LOC = Path(\"evaluations/eval-results/deepseek-proof-prem-final-test-500\")\n",
    "#RANGO_LOC = Path(\"evaluations/eval-results/deepseek-proof-final-test-500\")"
   ]
  },
  {
   "cell_type": "code",
   "execution_count": 79,
   "metadata": {},
   "outputs": [],
   "source": [
    "proverbot_eval = NamedEval(\"proverbot\", load_proverbot(PROVERBOT_LOC))\n",
    "tactician_eval = NamedEval(\"tactician\", load_tactician(TACTICIAN_LOC))\n",
    "graph2tac_eval = NamedEval(\"graph2tac\", load_tactician(GRAPH2TAC_LOC))\n",
    "rango_eval = NamedEval(\"rango\", load_rango(RANGO_LOC))"
   ]
  },
  {
   "cell_type": "code",
   "execution_count": null,
   "metadata": {},
   "outputs": [],
   "source": [
    "raw_evals = [\n",
    "    proverbot_eval,\n",
    "    tactician_eval,\n",
    "    graph2tac_eval,\n",
    "    rango_eval,\n",
    "]"
   ]
  },
  {
   "cell_type": "code",
   "execution_count": null,
   "metadata": {},
   "outputs": [
    {
     "data": {
      "text/plain": [
       "[10714, 1389]"
      ]
     },
     "execution_count": 66,
     "metadata": {},
     "output_type": "execute_result"
    }
   ],
   "source": [
    "[len(e.results) for e in raw_evals]"
   ]
  },
  {
   "cell_type": "code",
   "execution_count": null,
   "metadata": {},
   "outputs": [],
   "source": [
    "mutual_proofs = get_mutual_proof_pairs(raw_evals)\n",
    "evals = [e.filter_results(mutual_proofs) for e in raw_evals]\n",
    "assert all(len(e.results) == len(mutual_proofs) for e in evals)"
   ]
  },
  {
   "cell_type": "code",
   "execution_count": null,
   "metadata": {},
   "outputs": [
    {
     "data": {
      "text/plain": [
       "[1220, 1220]"
      ]
     },
     "execution_count": 68,
     "metadata": {},
     "output_type": "execute_result"
    }
   ],
   "source": [
    "[len(e.results) for e in evals]"
   ]
  },
  {
   "cell_type": "code",
   "execution_count": null,
   "metadata": {},
   "outputs": [
    {
     "data": {
      "text/plain": [
       "1220"
      ]
     },
     "execution_count": 69,
     "metadata": {},
     "output_type": "execute_result"
    }
   ],
   "source": [
    "len(mutual_proofs)"
   ]
  },
  {
   "cell_type": "code",
   "execution_count": null,
   "metadata": {},
   "outputs": [],
   "source": [
    "\n",
    "def attempts_by_project(e: NamedEval) -> dict[str, list[GeneralResult]]:\n",
    "    grouped_results: dict[str, list[GeneralResult]] = {}\n",
    "    for r in e.results: \n",
    "        project = r.file.parts[0]\n",
    "        if project not in grouped_results:\n",
    "            grouped_results[project] = []\n",
    "        grouped_results[project].append(r)\n",
    "    return grouped_results\n",
    "\n",
    "def count_successes(results: list[GeneralResult]) -> int:\n",
    "    return sum(1 for r in results if r.success)\n",
    "\n",
    "rows: list[tuple[str, str, int, int, float, str]] = []\n",
    "for e in raw_evals:\n",
    "    attempts_by_proj = attempts_by_project(e)\n",
    "    for proj, attempts in attempts_by_project(e).items():\n",
    "        n_successes = count_successes(attempts)\n",
    "        n_attempts = len(attempts)\n",
    "        p = n_successes / n_attempts\n",
    "        p_str = f\"{p:.3f} ({n_successes}/{n_attempts})\"\n",
    "        rows.append((e.name, proj, n_successes, n_attempts, p, p_str))\n",
    "total_df = pd.DataFrame(rows, columns=[\"System\", \"Project\", \"Successes\", \"Attempts\", \"Success Rate [f]\", \"Success Rate\"])"
   ]
  },
  {
   "cell_type": "code",
   "execution_count": null,
   "metadata": {},
   "outputs": [
    {
     "data": {
      "text/html": [
       "<div>\n",
       "<style scoped>\n",
       "    .dataframe tbody tr th:only-of-type {\n",
       "        vertical-align: middle;\n",
       "    }\n",
       "\n",
       "    .dataframe tbody tr th {\n",
       "        vertical-align: top;\n",
       "    }\n",
       "\n",
       "    .dataframe thead th {\n",
       "        text-align: right;\n",
       "    }\n",
       "</style>\n",
       "<table border=\"1\" class=\"dataframe\">\n",
       "  <thead>\n",
       "    <tr style=\"text-align: right;\">\n",
       "      <th>System</th>\n",
       "      <th>rango</th>\n",
       "      <th>tactician</th>\n",
       "    </tr>\n",
       "    <tr>\n",
       "      <th>Project</th>\n",
       "      <th></th>\n",
       "      <th></th>\n",
       "    </tr>\n",
       "  </thead>\n",
       "  <tbody>\n",
       "    <tr>\n",
       "      <th>CompCert</th>\n",
       "      <td>0.28 (209/743)</td>\n",
       "      <td>0.24 (1304/5330)</td>\n",
       "    </tr>\n",
       "    <tr>\n",
       "      <th>PolTac</th>\n",
       "      <td>0.77 (30/39)</td>\n",
       "      <td>0.85 (264/309)</td>\n",
       "    </tr>\n",
       "    <tr>\n",
       "      <th>buchberger</th>\n",
       "      <td>0.17 (13/77)</td>\n",
       "      <td>0.23 (149/658)</td>\n",
       "    </tr>\n",
       "    <tr>\n",
       "      <th>coq-ext-lib</th>\n",
       "      <td>0.50 (13/26)</td>\n",
       "      <td>0.58 (132/227)</td>\n",
       "    </tr>\n",
       "    <tr>\n",
       "      <th>dblib</th>\n",
       "      <td>0.42 (8/19)</td>\n",
       "      <td>0.47 (96/203)</td>\n",
       "    </tr>\n",
       "    <tr>\n",
       "      <th>fourcolor</th>\n",
       "      <td>0.19 (31/162)</td>\n",
       "      <td>0.05 (70/1494)</td>\n",
       "    </tr>\n",
       "    <tr>\n",
       "      <th>hoare-tut</th>\n",
       "      <td>NaN</td>\n",
       "      <td>0.22 (2/9)</td>\n",
       "    </tr>\n",
       "    <tr>\n",
       "      <th>huffman</th>\n",
       "      <td>0.12 (4/34)</td>\n",
       "      <td>0.22 (59/270)</td>\n",
       "    </tr>\n",
       "    <tr>\n",
       "      <th>math-classes</th>\n",
       "      <td>0.34 (63/186)</td>\n",
       "      <td>0.34 (512/1501)</td>\n",
       "    </tr>\n",
       "    <tr>\n",
       "      <th>reglang</th>\n",
       "      <td>0.26 (11/43)</td>\n",
       "      <td>0.13 (44/331)</td>\n",
       "    </tr>\n",
       "    <tr>\n",
       "      <th>zfc</th>\n",
       "      <td>0.14 (3/21)</td>\n",
       "      <td>0.37 (77/207)</td>\n",
       "    </tr>\n",
       "    <tr>\n",
       "      <th>zorns-lemma</th>\n",
       "      <td>0.35 (7/20)</td>\n",
       "      <td>0.21 (36/175)</td>\n",
       "    </tr>\n",
       "  </tbody>\n",
       "</table>\n",
       "</div>"
      ],
      "text/plain": [
       "System                 rango         tactician\n",
       "Project                                       \n",
       "CompCert      0.28 (209/743)  0.24 (1304/5330)\n",
       "PolTac          0.77 (30/39)    0.85 (264/309)\n",
       "buchberger      0.17 (13/77)    0.23 (149/658)\n",
       "coq-ext-lib     0.50 (13/26)    0.58 (132/227)\n",
       "dblib            0.42 (8/19)     0.47 (96/203)\n",
       "fourcolor      0.19 (31/162)    0.05 (70/1494)\n",
       "hoare-tut                NaN        0.22 (2/9)\n",
       "huffman          0.12 (4/34)     0.22 (59/270)\n",
       "math-classes   0.34 (63/186)   0.34 (512/1501)\n",
       "reglang         0.26 (11/43)     0.13 (44/331)\n",
       "zfc              0.14 (3/21)     0.37 (77/207)\n",
       "zorns-lemma      0.35 (7/20)     0.21 (36/175)"
      ]
     },
     "execution_count": 71,
     "metadata": {},
     "output_type": "execute_result"
    }
   ],
   "source": [
    "system_cols = total_df.set_index([\"Project\", \"System\"])[\"Success Rate\"].unstack()\n",
    "system_cols.loc[~pd.isna(system_cols[\"tactician\"])]"
   ]
  },
  {
   "cell_type": "code",
   "execution_count": null,
   "metadata": {},
   "outputs": [
    {
     "data": {
      "image/png": "[encoded data removed]",
      "text/plain": [
       "<Figure size 640x480 with 1 Axes>"
      ]
     },
     "metadata": {},
     "output_type": "display_data"
    }
   ],
   "source": [
    "def plot_times(es: list[NamedEval]):\n",
    "    times = [e.get_time_points() for e in es]\n",
    "    fig, ax = plt.subplots()\n",
    "    for e, time_list in zip(es, times):\n",
    "        xs = [t.x for t in time_list]\n",
    "        ys = [t.y for t in time_list]\n",
    "        ax.plot(xs, ys, label=e.name)\n",
    "    ax.set_xlabel(\"Time (s)\")\n",
    "    ax.set_ylabel(\"# Proofs Completed\")\n",
    "    ax.set_title(\"Proofs Completed Over Time\")\n",
    "    ax.legend(loc=\"lower right\")\n",
    "\n",
    "\n",
    "plot_times(evals)"
   ]
  },
  {
   "cell_type": "code",
   "execution_count": null,
   "metadata": {},
   "outputs": [
    {
     "name": "stdout",
     "output_type": "stream",
     "text": [
      "Total # Found =  440\n"
     ]
    },
    {
     "data": {
      "image/png": "[encoded data removed]",
      "text/plain": [
       "<Figure size 640x480 with 1 Axes>"
      ]
     },
     "metadata": {},
     "output_type": "display_data"
    }
   ],
   "source": [
    "def compare_two(es: list[NamedEval], e1_alias: str, e2_alias: str) -> int:\n",
    "    fig, ax = plt.subplots()\n",
    "    subsets = get_two_eval_subsets(es, e1_alias, e2_alias)\n",
    "    venn2((len(subsets.one_only), len(subsets.two_only), len(subsets.one_two)),\n",
    "          set_labels=(e1_alias, e2_alias), ax=ax)\n",
    "    get_two_eval_subsets(es, e1_alias, e2_alias)\n",
    "    return len(subsets.one_only) + len(subsets.one_two) + len(subsets.two_only)\n",
    "\n",
    "\n",
    "total_found = compare_two(evals, \"tactician\", \"rango\")\n",
    "print(\"Total # Found = \", total_found)\n",
    "\n",
    "\n"
   ]
  },
  {
   "cell_type": "code",
   "execution_count": null,
   "metadata": {},
   "outputs": [],
   "source": [
    "subsets = get_two_eval_subsets(evals, \"tactician\", \"rango\")"
   ]
  },
  {
   "cell_type": "code",
   "execution_count": null,
   "metadata": {},
   "outputs": [],
   "source": [
    "import json\n",
    "with open(\"tactician_only.json\", \"w\") as fout:\n",
    "    fout.write(json.dumps([{\"file\": str(s.file), \"theorem\": s.theorem} for s in subsets.one_only], indent=2))"
   ]
  }
 ],
 "metadata": {
  "kernelspec": {
   "display_name": "venv",
   "language": "python",
   "name": "python3"
  },
  "language_info": {
   "codemirror_mode": {
    "name": "ipython",
    "version": 3
   },
   "file_extension": ".py",
   "mimetype": "text/x-python",
   "name": "python",
   "nbconvert_exporter": "python",
   "pygments_lexer": "ipython3",
   "version": "3.11.0"
  }
 },
 "nbformat": 4,
 "nbformat_minor": 2
}
