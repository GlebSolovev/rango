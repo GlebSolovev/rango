{
 "cells": [
  {
   "cell_type": "code",
   "execution_count": 2,
   "metadata": {},
   "outputs": [
    {
     "name": "stderr",
     "output_type": "stream",
     "text": [
      "/home/ubuntu/coq-modeling/venv/lib/python3.10/site-packages/tqdm/auto.py:21: TqdmWarning: IProgress not found. Please update jupyter and ipywidgets. See https://ipywidgets.readthedocs.io/en/stable/user_install.html\n",
      "  from .autonotebook import tqdm as notebook_tqdm\n"
     ]
    },
    {
     "name": "stdout",
     "output_type": "stream",
     "text": [
      "[2023-12-21 20:20:59,980] [INFO] [real_accelerator.py:158:get_accelerator] Setting ds_accelerator to cuda (auto detect)\n"
     ]
    }
   ],
   "source": [
    "import os\n",
    "from evaluation.evaluate import EvalSearchResult\n",
    "from model_deployment.searcher import SearchResult, ErroredSearch\n",
    "import tqdm"
   ]
  },
  {
   "cell_type": "code",
   "execution_count": 3,
   "metadata": {},
   "outputs": [],
   "source": [
    "EVAL_LOC = \"/home/ubuntu/coq-modeling/evals/codellama-7b-basic-rnd-split-rnd-samp-15-pct-2-2\""
   ]
  },
  {
   "cell_type": "code",
   "execution_count": 4,
   "metadata": {},
   "outputs": [],
   "source": [
    "attempts_loc = os.path.join(EVAL_LOC, EvalSearchResult.ATTEMPTS_NAME)\n",
    "assertion_errors: list[str] = []\n",
    "index_errors: list[str] = []\n",
    "value_errors: list[str] = []\n",
    "other_errors: list[str] = []\n",
    "for eval_file in os.listdir(attempts_loc):\n",
    "    eval_loc = os.path.join(attempts_loc, eval_file)\n",
    "    if not eval_loc.endswith(\".json\"):\n",
    "        continue\n",
    "    result = EvalSearchResult.load(eval_loc)\n",
    "    match result.search_result:\n",
    "        case ErroredSearch():\n",
    "            if \"AssertionError\" in result.search_result.message:\n",
    "                assertion_errors.append(result.search_result.message)\n",
    "            elif \"IndexError\" in result.search_result.message:\n",
    "                index_errors.append(result.search_result.message)\n",
    "            elif \"ValueError\" in result.search_result.message:\n",
    "                value_errors.append(result.search_result.message)\n",
    "            else:\n",
    "                other_errors.append(result.search_result.message)\n",
    "        case _:\n",
    "            pass"
   ]
  }
 ],
 "metadata": {
  "kernelspec": {
   "display_name": "venv",
   "language": "python",
   "name": "python3"
  },
  "language_info": {
   "codemirror_mode": {
    "name": "ipython",
    "version": 3
   },
   "file_extension": ".py",
   "mimetype": "text/x-python",
   "name": "python",
   "nbconvert_exporter": "python",
   "pygments_lexer": "ipython3",
   "version": "3.10.12"
  }
 },
 "nbformat": 4,
 "nbformat_minor": 2
}
