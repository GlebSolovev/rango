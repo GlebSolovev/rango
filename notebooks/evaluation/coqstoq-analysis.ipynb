{
 "cells": [
  {
   "cell_type": "code",
   "execution_count": null,
   "metadata": {},
   "outputs": [],
   "source": [
    "import os\n",
    "from typing import Optional\n",
    "from pathlib import Path \n",
    "import json\n",
    "from dataclasses import dataclass\n",
    "\n",
    "import pandas as pd\n",
    "import numpy as np\n",
    "import matplotlib.pyplot as plt\n",
    "import scienceplots\n",
    "plt.style.use(['science', 'ieee', 'no-latex'])\n",
    "plt.rc(\"legend\", fontsize=\"small\")\n",
    "plt.rc(\"pdf\", fonttype=42)\n",
    "\n",
    "\n",
    "from coqstoq import get_theorem_list, Split\n",
    "from coqstoq.check import Result"
   ]
  },
  {
   "cell_type": "code",
   "execution_count": 3,
   "metadata": {},
   "outputs": [],
   "source": [
    "if Path(os.curdir).resolve().name == \"evaluation\":\n",
    "    os.chdir(\"../..\")\n",
    "elif Path(os.curdir).resolve().name == \"coq-modeling\":\n",
    "    pass\n",
    "else:\n",
    "    raise ValueError(f\"In an unexpected directory: {os.curdir}\")"
   ]
  },
  {
   "cell_type": "code",
   "execution_count": 4,
   "metadata": {},
   "outputs": [],
   "source": [
    "\n",
    "@dataclass\n",
    "class NamedDF:\n",
    "    name: str\n",
    "    df: pd.DataFrame\n",
    "\n",
    "def load_results(p: Path, sysname: str, timeout: int = 600) -> NamedDF:\n",
    "    rows = [] \n",
    "    for r_path in p.glob(\"**/*.json\"):\n",
    "        with r_path.open() as f:\n",
    "            r_data = json.load(f)\n",
    "            result = Result.from_json(r_data)\n",
    "            rows.append({\n",
    "                \"project\": result.thm.project.workspace.name, \n",
    "                \"path\": result.thm.path,\n",
    "                \"line\": result.thm.theorem_start_pos.line,\n",
    "                \"success\": result.proof is not None and result.time is not None and result.time < timeout,\n",
    "                \"time\": result.time,\n",
    "            })\n",
    "    df = pd.DataFrame(rows)\n",
    "    return NamedDF(sysname, df.set_index([\"project\", \"path\", \"line\"]))\n",
    "\n",
    "def create_joint_eval(df1: NamedDF, df2: NamedDF, normalize: bool=True, timeout: int=600) -> NamedDF:\n",
    "    if normalize:\n",
    "        new_name = f\"Adjusted {df1.name} + {df2.name}\"\n",
    "    else:\n",
    "        new_name = f\"Unadjusted {df1.name} + {df2.name}\"\n",
    "    merged_df = df1.df.merge(df2.df, left_index=True, right_index=True, how=\"outer\", suffixes=(\"_1\", \"_2\"))\n",
    "    if normalize:\n",
    "        merged_df[\"time\"] = merged_df.apply(lambda row: min(row[\"time_1\"], row[\"time_2\"]) * 2, axis=1)\n",
    "    else:\n",
    "        merged_df[\"time\"] = merged_df.apply(lambda row: min(row[\"time_1\"], row[\"time_2\"]), axis=1)\n",
    "    merged_df[\"success\"] = (merged_df[\"success_1\"] | merged_df[\"success_2\"]) & (merged_df[\"time\"] < timeout)\n",
    "    return NamedDF(new_name, merged_df[[\"success\", \"time\"]])\n",
    "\n",
    "\n",
    "def filter_df(named_df: NamedDF, idx : pd.Index) -> NamedDF:\n",
    "    return NamedDF(named_df.name, named_df.df.loc[idx])\n",
    "\n",
    "\n",
    "def mk_time_plot(ndfs: list[NamedDF], timeout: int = 600, save_path: Optional[Path] = None): \n",
    "    fig, ax = plt.subplots()\n",
    "    for ndf in ndfs:\n",
    "        success_df = ndf.df.loc[ndf.df[\"success\"]]\n",
    "        by_time = list(success_df.sort_values(\"time\")[\"time\"]) + [timeout]\n",
    "        successes = list(np.arange(len(success_df)) + 1) + [len(success_df)]\n",
    "        ax.plot(by_time, successes, label=ndf.name)\n",
    "    ax.set_xlabel(\"Time (s)\")\n",
    "    ax.set_ylabel(\"# Theorems Proven\")\n",
    "    ax.set_title(\"# Theorems Proven over Time\")\n",
    "    ax.legend()\n",
    "    if save_path is not None:\n",
    "        plt.savefig(save_path)\n",
    "    \n",
    "\n",
    "def get_by_project_summary(named_df: NamedDF) -> pd.DataFrame:\n",
    "    return named_df.df.groupby(\"project\").agg(\n",
    "        RATE=(\"success\", \"mean\"), \n",
    "        SUCCESSES=(\"success\", \"sum\"), \n",
    "        TOTAL=(\"success\", \"count\")\n",
    "    ).sort_values(\"TOTAL\", ascending=False)\n",
    "\n",
    "\n",
    "def get_totals(named_df: NamedDF) -> pd.Series:\n",
    "    n_df = NamedDF(named_df.name, named_df.df.agg(\n",
    "        RATE=(\"success\", \"mean\"), \n",
    "        SUCCESSES=(\"success\", \"sum\"), \n",
    "        TOTAL=(\"success\", \"count\")\n",
    "    ))\n",
    "    series = n_df.df[\"success\"]\n",
    "    series.name = named_df.name\n",
    "    return series"
   ]
  },
  {
   "cell_type": "code",
   "execution_count": null,
   "metadata": {},
   "outputs": [],
   "source": []
  },
  {
   "cell_type": "markdown",
   "metadata": {},
   "source": [
    "## Ablations (CoqStoq 0-499)"
   ]
  },
  {
   "cell_type": "code",
   "execution_count": 4,
   "metadata": {},
   "outputs": [],
   "source": [
    "RANGO_RESULT = load_results(Path(\"evaluations/coqstoq-results/test-rango\"), \"Rango\")"
   ]
  },
  {
   "cell_type": "code",
   "execution_count": 22,
   "metadata": {},
   "outputs": [],
   "source": [
    "RANGO_NO_LEMMA = load_results(Path(\"evaluations/coqstoq-results/test-abl-no-lemma\"), \"Rango w/o Lemmas\")\n",
    "RANGO_NO_PROOF = load_results(Path(\"evaluations/coqstoq-results/test-abl-no-proof\"), \"Rango w/o Proofs\")\n",
    "RANGO_NO_RETRIEVAL = load_results(Path(\"evaluations/coqstoq-results/test-abl-no-retrieval\"), \"Rango w/o Retrieval\")\n",
    "RANGO_FIRST_STEP = load_results(Path(\"evaluations/coqstoq-results/test-abl-first-step\"), \"first-step\")\n",
    "# PREFIX = load_results(Path(\"evaluations/coqstoq-results/test-abl-prefix\"), \"Rango w/ Prefix Retrieval\")\n",
    "TFIDF_PROOF = load_results(Path(\"evaluations/coqstoq-results/test-abl-tfidf-proof\"), \"tfidf-proof\")\n",
    "# BM25_LEMMA = load_results(Path(\"evaluations/coqstoq-results/test-abl-bm25-lemma\"), \"bm25-lemma\") \n",
    "BEST_FIRST_BEAM = load_results(Path(\"evaluations/coqstoq-results/test-abl-best-first-beam\"), \"best-first-beam\")\n",
    "BEST_FIRST_RANDOM = load_results(Path(\"evaluations/coqstoq-results/test-abl-best-first-random\"), \"best-first-random\")\n",
    "\n",
    "ABL_RESULTS = [\n",
    "    RANGO_FIRST_STEP,\n",
    "    RANGO_NO_LEMMA,\n",
    "    RANGO_NO_PROOF,\n",
    "    RANGO_NO_RETRIEVAL,\n",
    "    BEST_FIRST_BEAM,\n",
    "    BEST_FIRST_RANDOM,\n",
    "]"
   ]
  },
  {
   "cell_type": "code",
   "execution_count": 23,
   "metadata": {},
   "outputs": [
    {
     "data": {
      "text/html": [
       "<div>\n",
       "<style scoped>\n",
       "    .dataframe tbody tr th:only-of-type {\n",
       "        vertical-align: middle;\n",
       "    }\n",
       "\n",
       "    .dataframe tbody tr th {\n",
       "        vertical-align: top;\n",
       "    }\n",
       "\n",
       "    .dataframe thead th {\n",
       "        text-align: right;\n",
       "    }\n",
       "</style>\n",
       "<table border=\"1\" class=\"dataframe\">\n",
       "  <thead>\n",
       "    <tr style=\"text-align: right;\">\n",
       "      <th></th>\n",
       "      <th>rango</th>\n",
       "      <th>first-step</th>\n",
       "      <th>Rango w/o Lemmas</th>\n",
       "      <th>Rango w/o Proofs</th>\n",
       "      <th>Rango w/o Retrieval</th>\n",
       "      <th>best-first-beam</th>\n",
       "      <th>best-first-random</th>\n",
       "    </tr>\n",
       "  </thead>\n",
       "  <tbody>\n",
       "    <tr>\n",
       "      <th>RATE</th>\n",
       "      <td>0.3</td>\n",
       "      <td>0.222</td>\n",
       "      <td>0.29</td>\n",
       "      <td>0.204</td>\n",
       "      <td>0.186</td>\n",
       "      <td>0.284</td>\n",
       "      <td>0.25</td>\n",
       "    </tr>\n",
       "    <tr>\n",
       "      <th>SUCCESSES</th>\n",
       "      <td>150.0</td>\n",
       "      <td>111.000</td>\n",
       "      <td>145.00</td>\n",
       "      <td>102.000</td>\n",
       "      <td>93.000</td>\n",
       "      <td>142.000</td>\n",
       "      <td>125.00</td>\n",
       "    </tr>\n",
       "    <tr>\n",
       "      <th>TOTAL</th>\n",
       "      <td>500.0</td>\n",
       "      <td>500.000</td>\n",
       "      <td>500.00</td>\n",
       "      <td>500.000</td>\n",
       "      <td>500.000</td>\n",
       "      <td>500.000</td>\n",
       "      <td>500.00</td>\n",
       "    </tr>\n",
       "  </tbody>\n",
       "</table>\n",
       "</div>"
      ],
      "text/plain": [
       "           rango  first-step  Rango w/o Lemmas  Rango w/o Proofs  \\\n",
       "RATE         0.3       0.222              0.29             0.204   \n",
       "SUCCESSES  150.0     111.000            145.00           102.000   \n",
       "TOTAL      500.0     500.000            500.00           500.000   \n",
       "\n",
       "           Rango w/o Retrieval  best-first-beam  best-first-random  \n",
       "RATE                     0.186            0.284               0.25  \n",
       "SUCCESSES               93.000          142.000             125.00  \n",
       "TOTAL                  500.000          500.000             500.00  "
      ]
     },
     "execution_count": 23,
     "metadata": {},
     "output_type": "execute_result"
    }
   ],
   "source": [
    "assert 0 < len(ABL_RESULTS)\n",
    "filtered_rango = filter_df(RANGO_RESULT, ABL_RESULTS[0].df.index)\n",
    "rango_total = get_totals(filtered_rango)\n",
    "abl_totals = [get_totals(r) for r in ABL_RESULTS]\n",
    "pd.concat([rango_total] + abl_totals, axis=1)"
   ]
  },
  {
   "cell_type": "code",
   "execution_count": 19,
   "metadata": {},
   "outputs": [
    {
     "data": {
      "image/png": "[encoded data removed]",
      "text/plain": [
       "<Figure size 350x262.5 with 1 Axes>"
      ]
     },
     "metadata": {},
     "output_type": "display_data"
    }
   ],
   "source": [
    "save_path = Path(\"evaluations/stuff/retriever-abl.pdf\")\n",
    "mk_time_plot([filtered_rango, RANGO_NO_LEMMA, RANGO_NO_PROOF, RANGO_NO_RETRIEVAL], save_path=save_path)"
   ]
  },
  {
   "cell_type": "code",
   "execution_count": 28,
   "metadata": {},
   "outputs": [
    {
     "data": {
      "text/plain": [
       "RATE           0.356\n",
       "SUCCESSES    178.000\n",
       "TOTAL        500.000\n",
       "Name: tactitian + Rango w/ Prefix Retrieval, dtype: float64"
      ]
     },
     "execution_count": 28,
     "metadata": {},
     "output_type": "execute_result"
    }
   ],
   "source": [
    "filtered_tactician = filter_df(TACTICIAN_RESULT, ABL_RESULTS[0].df.index)\n",
    "get_totals(create_joint_eval(filtered_tactician, PREFIX))"
   ]
  },
  {
   "cell_type": "code",
   "execution_count": 29,
   "metadata": {},
   "outputs": [
    {
     "data": {
      "text/plain": [
       "RATE           0.354\n",
       "SUCCESSES    177.000\n",
       "TOTAL        500.000\n",
       "Name: tactitian + Rango, dtype: float64"
      ]
     },
     "execution_count": 29,
     "metadata": {},
     "output_type": "execute_result"
    }
   ],
   "source": [
    "get_totals(create_joint_eval(filtered_tactician, filtered_rango))"
   ]
  },
  {
   "cell_type": "code",
   "execution_count": 30,
   "metadata": {},
   "outputs": [
    {
     "data": {
      "image/png": "[encoded data removed]",
      "text/plain": [
       "<Figure size 640x480 with 1 Axes>"
      ]
     },
     "metadata": {},
     "output_type": "display_data"
    }
   ],
   "source": [
    "mk_time_plot([filtered_rango, *ABL_RESULTS])"
   ]
  },
  {
   "cell_type": "code",
   "execution_count": 31,
   "metadata": {},
   "outputs": [
    {
     "data": {
      "text/plain": [
       "RATE           0.338\n",
       "SUCCESSES    169.000\n",
       "TOTAL        500.000\n",
       "Name: Rango + tfidf-proof, dtype: float64"
      ]
     },
     "execution_count": 31,
     "metadata": {},
     "output_type": "execute_result"
    }
   ],
   "source": [
    "get_totals(create_joint_eval(filtered_rango, TFIDF_PROOF))"
   ]
  },
  {
   "cell_type": "code",
   "execution_count": 32,
   "metadata": {},
   "outputs": [
    {
     "data": {
      "text/plain": [
       "RATE           0.342\n",
       "SUCCESSES    171.000\n",
       "TOTAL        500.000\n",
       "Name: Rango + bm25-lemma, dtype: float64"
      ]
     },
     "execution_count": 32,
     "metadata": {},
     "output_type": "execute_result"
    }
   ],
   "source": [
    "get_totals(create_joint_eval(filtered_rango, BM25_LEMMA))"
   ]
  },
  {
   "cell_type": "markdown",
   "metadata": {},
   "source": [
    "## Rand Ablations"
   ]
  },
  {
   "cell_type": "code",
   "execution_count": 5,
   "metadata": {},
   "outputs": [],
   "source": [
    "RANGO_RESULT = load_results(Path(\"evaluations/coqstoq-results/test-rango\"), \"Rango\")\n",
    "RANGO_NO_LEMMA_FNL = load_results(Path(\"evaluations/coqstoq-results/test-abl-intersect-no-lemma-final\"), \"Rango w/o Lemmas FNL\")\n",
    "RANGO_NO_PROOF_FNL = load_results(Path(\"evaluations/coqstoq-results/test-abl-intersect-no-proof-final\"), \"Rango w/o Proofs FNL\")\n",
    "RANGO_NO_RETRIEVAL_FNL = load_results(Path(\"evaluations/coqstoq-results/test-abl-intersect-no-retrieval-final\"), \"Rango w/o Retrieval FNL\")\n",
    "\n",
    "RANGO_RESULT_RND = load_results(Path(\"evaluations/coqstoq-results/test-abl-intersect-rango-random\"), \"Rango RND\")\n",
    "RANGO_NO_LEMMA_RND = load_results(Path(\"evaluations/coqstoq-results/test-abl-intersect-no-lemma-random\"), \"Rango w/o Lemmas RND\")\n",
    "RANGO_NO_PROOF_RND = load_results(Path(\"evaluations/coqstoq-results/test-abl-intersect-no-proof-random\"), \"Rango w/o Proofs RND\")\n",
    "RANGO_NO_RETRIEVAL_RND = load_results(Path(\"evaluations/coqstoq-results/test-abl-intersect-no-retrieval-random\"), \"Rango w/o Retrieval RND\")"
   ]
  },
  {
   "cell_type": "code",
   "execution_count": 7,
   "metadata": {},
   "outputs": [
    {
     "data": {
      "text/html": [
       "<div>\n",
       "<style scoped>\n",
       "    .dataframe tbody tr th:only-of-type {\n",
       "        vertical-align: middle;\n",
       "    }\n",
       "\n",
       "    .dataframe tbody tr th {\n",
       "        vertical-align: top;\n",
       "    }\n",
       "\n",
       "    .dataframe thead th {\n",
       "        text-align: right;\n",
       "    }\n",
       "</style>\n",
       "<table border=\"1\" class=\"dataframe\">\n",
       "  <thead>\n",
       "    <tr style=\"text-align: right;\">\n",
       "      <th></th>\n",
       "      <th>Rango</th>\n",
       "      <th>Rango w/o Lemmas FNL</th>\n",
       "      <th>Rango w/o Proofs FNL</th>\n",
       "      <th>Rango w/o Retrieval FNL</th>\n",
       "      <th>Rango RND</th>\n",
       "      <th>Rango w/o Lemmas RND</th>\n",
       "      <th>Rango w/o Proofs RND</th>\n",
       "      <th>Rango w/o Retrieval RND</th>\n",
       "    </tr>\n",
       "  </thead>\n",
       "  <tbody>\n",
       "    <tr>\n",
       "      <th>RATE</th>\n",
       "      <td>0.32</td>\n",
       "      <td>0.318</td>\n",
       "      <td>0.222</td>\n",
       "      <td>0.178</td>\n",
       "      <td>0.368</td>\n",
       "      <td>0.354</td>\n",
       "      <td>0.28</td>\n",
       "      <td>0.254</td>\n",
       "    </tr>\n",
       "    <tr>\n",
       "      <th>SUCCESSES</th>\n",
       "      <td>160.00</td>\n",
       "      <td>159.000</td>\n",
       "      <td>111.000</td>\n",
       "      <td>89.000</td>\n",
       "      <td>184.000</td>\n",
       "      <td>177.000</td>\n",
       "      <td>140.00</td>\n",
       "      <td>127.000</td>\n",
       "    </tr>\n",
       "    <tr>\n",
       "      <th>TOTAL</th>\n",
       "      <td>500.00</td>\n",
       "      <td>500.000</td>\n",
       "      <td>500.000</td>\n",
       "      <td>500.000</td>\n",
       "      <td>500.000</td>\n",
       "      <td>500.000</td>\n",
       "      <td>500.00</td>\n",
       "      <td>500.000</td>\n",
       "    </tr>\n",
       "  </tbody>\n",
       "</table>\n",
       "</div>"
      ],
      "text/plain": [
       "            Rango  Rango w/o Lemmas FNL  Rango w/o Proofs FNL  \\\n",
       "RATE         0.32                 0.318                 0.222   \n",
       "SUCCESSES  160.00               159.000               111.000   \n",
       "TOTAL      500.00               500.000               500.000   \n",
       "\n",
       "           Rango w/o Retrieval FNL  Rango RND  Rango w/o Lemmas RND  \\\n",
       "RATE                         0.178      0.368                 0.354   \n",
       "SUCCESSES                   89.000    184.000               177.000   \n",
       "TOTAL                      500.000    500.000               500.000   \n",
       "\n",
       "           Rango w/o Proofs RND  Rango w/o Retrieval RND  \n",
       "RATE                       0.28                    0.254  \n",
       "SUCCESSES                140.00                  127.000  \n",
       "TOTAL                    500.00                  500.000  "
      ]
     },
     "execution_count": 7,
     "metadata": {},
     "output_type": "execute_result"
    }
   ],
   "source": [
    "pd.concat([\n",
    "    get_totals(filter_df(RANGO_RESULT, RANGO_NO_LEMMA_FNL.df.index)),\n",
    "    get_totals(RANGO_NO_LEMMA_FNL),\n",
    "    get_totals(RANGO_NO_PROOF_FNL),\n",
    "    get_totals(RANGO_NO_RETRIEVAL_FNL),\n",
    "    get_totals(RANGO_RESULT_RND),\n",
    "    get_totals(RANGO_NO_LEMMA_RND),\n",
    "    get_totals(RANGO_NO_PROOF_RND),\n",
    "    get_totals(RANGO_NO_RETRIEVAL_RND),\n",
    "], axis=1)"
   ]
  },
  {
   "cell_type": "code",
   "execution_count": 9,
   "metadata": {},
   "outputs": [
    {
     "data": {
      "text/plain": [
       "0.11320754716981132"
      ]
     },
     "execution_count": 9,
     "metadata": {},
     "output_type": "execute_result"
    }
   ],
   "source": [
    "(177 - 159) / 159"
   ]
  },
  {
   "cell_type": "markdown",
   "metadata": {},
   "source": [
    "## Cross-Tool Comparison (Cutoff)"
   ]
  },
  {
   "cell_type": "code",
   "execution_count": 34,
   "metadata": {},
   "outputs": [],
   "source": [
    "RANGO_RESULT = load_results(Path(\"evaluations/coqstoq-results/cutoff-rango\"), \"rango\")\n",
    "PREFIX_RESULT = load_results(Path(\"evaluations/coqstoq-results/cutoff-prefix\"), \"prefix\")\n",
    "# TACTICIAN_RESULT = load_results(Path(\"evaluations/coqstoq-results/cutoff-tactician\"), \"tactitian\")\n",
    "PROVERBOT_RESULT = load_results(Path(\"evaluations/coqstoq-results/cutoff-proverbot\"), \"proverbot\")"
   ]
  },
  {
   "cell_type": "code",
   "execution_count": 35,
   "metadata": {},
   "outputs": [
    {
     "data": {
      "text/html": [
       "<div>\n",
       "<style scoped>\n",
       "    .dataframe tbody tr th:only-of-type {\n",
       "        vertical-align: middle;\n",
       "    }\n",
       "\n",
       "    .dataframe tbody tr th {\n",
       "        vertical-align: top;\n",
       "    }\n",
       "\n",
       "    .dataframe thead th {\n",
       "        text-align: right;\n",
       "    }\n",
       "</style>\n",
       "<table border=\"1\" class=\"dataframe\">\n",
       "  <thead>\n",
       "    <tr style=\"text-align: right;\">\n",
       "      <th></th>\n",
       "      <th>RATE</th>\n",
       "      <th>SUCCESSES</th>\n",
       "      <th>TOTAL</th>\n",
       "    </tr>\n",
       "    <tr>\n",
       "      <th>project</th>\n",
       "      <th></th>\n",
       "      <th></th>\n",
       "      <th></th>\n",
       "    </tr>\n",
       "  </thead>\n",
       "  <tbody>\n",
       "    <tr>\n",
       "      <th>pnvrocqlib</th>\n",
       "      <td>0.245640</td>\n",
       "      <td>169</td>\n",
       "      <td>688</td>\n",
       "    </tr>\n",
       "    <tr>\n",
       "      <th>bb5</th>\n",
       "      <td>0.374741</td>\n",
       "      <td>181</td>\n",
       "      <td>483</td>\n",
       "    </tr>\n",
       "  </tbody>\n",
       "</table>\n",
       "</div>"
      ],
      "text/plain": [
       "                RATE  SUCCESSES  TOTAL\n",
       "project                               \n",
       "pnvrocqlib  0.245640        169    688\n",
       "bb5         0.374741        181    483"
      ]
     },
     "execution_count": 35,
     "metadata": {},
     "output_type": "execute_result"
    }
   ],
   "source": [
    "get_by_project_summary(PREFIX_RESULT)"
   ]
  },
  {
   "cell_type": "code",
   "execution_count": 36,
   "metadata": {},
   "outputs": [
    {
     "data": {
      "image/png": "[encoded data removed]",
      "text/plain": [
       "<Figure size 640x480 with 1 Axes>"
      ]
     },
     "metadata": {},
     "output_type": "display_data"
    }
   ],
   "source": [
    "PREFIX_RESULT_NO_INCOMPLETE = NamedDF(\"prefix\", PREFIX_RESULT.df.dropna())\n",
    "RANGO_RESULT_NO_INCOMPLETE = NamedDF(\"rango\", RANGO_RESULT.df.dropna())\n",
    "intersection_idx = PREFIX_RESULT_NO_INCOMPLETE.df.index.intersection(RANGO_RESULT_NO_INCOMPLETE.df.index) \n",
    "filtered_rango = filter_df(RANGO_RESULT, intersection_idx)\n",
    "filtered_proverbot = filter_df(PROVERBOT_RESULT, intersection_idx)\n",
    "filtered_prefix = filter_df(PREFIX_RESULT, intersection_idx)\n",
    "joint_eval = create_joint_eval(filtered_rango, filtered_prefix)\n",
    "\n",
    "mk_time_plot([filtered_rango, filtered_prefix, filtered_proverbot, joint_eval])"
   ]
  },
  {
   "cell_type": "code",
   "execution_count": 37,
   "metadata": {},
   "outputs": [
    {
     "data": {
      "text/plain": [
       "RATE            0.330172\n",
       "SUCCESSES     383.000000\n",
       "TOTAL        1160.000000\n",
       "Name: Adjusted rango + prefix, dtype: float64"
      ]
     },
     "execution_count": 37,
     "metadata": {},
     "output_type": "execute_result"
    }
   ],
   "source": [
    "get_totals(joint_eval)"
   ]
  },
  {
   "cell_type": "code",
   "execution_count": 39,
   "metadata": {},
   "outputs": [
    {
     "data": {
      "text/plain": [
       "0.056739717802461724"
      ]
     },
     "execution_count": 39,
     "metadata": {},
     "output_type": "execute_result"
    }
   ],
   "source": [
    "(3520 - 3331) / 3331"
   ]
  },
  {
   "cell_type": "code",
   "execution_count": 40,
   "metadata": {},
   "outputs": [
    {
     "data": {
      "text/plain": [
       "0.07975460122699386"
      ]
     },
     "execution_count": 40,
     "metadata": {},
     "output_type": "execute_result"
    }
   ],
   "source": [
    "(3520 - 3260) / 3260"
   ]
  },
  {
   "cell_type": "code",
   "execution_count": 10,
   "metadata": {},
   "outputs": [
    {
     "data": {
      "text/html": [
       "<div>\n",
       "<style scoped>\n",
       "    .dataframe tbody tr th:only-of-type {\n",
       "        vertical-align: middle;\n",
       "    }\n",
       "\n",
       "    .dataframe tbody tr th {\n",
       "        vertical-align: top;\n",
       "    }\n",
       "\n",
       "    .dataframe thead th {\n",
       "        text-align: right;\n",
       "    }\n",
       "</style>\n",
       "<table border=\"1\" class=\"dataframe\">\n",
       "  <thead>\n",
       "    <tr style=\"text-align: right;\">\n",
       "      <th></th>\n",
       "      <th>RATE</th>\n",
       "      <th>SUCCESSES</th>\n",
       "      <th>TOTAL</th>\n",
       "    </tr>\n",
       "    <tr>\n",
       "      <th>project</th>\n",
       "      <th></th>\n",
       "      <th></th>\n",
       "      <th></th>\n",
       "    </tr>\n",
       "  </thead>\n",
       "  <tbody>\n",
       "    <tr>\n",
       "      <th>pnvrocqlib</th>\n",
       "      <td>0.255924</td>\n",
       "      <td>162</td>\n",
       "      <td>633</td>\n",
       "    </tr>\n",
       "    <tr>\n",
       "      <th>bb5</th>\n",
       "      <td>0.391204</td>\n",
       "      <td>169</td>\n",
       "      <td>432</td>\n",
       "    </tr>\n",
       "  </tbody>\n",
       "</table>\n",
       "</div>"
      ],
      "text/plain": [
       "                RATE  SUCCESSES  TOTAL\n",
       "project                               \n",
       "pnvrocqlib  0.255924        162    633\n",
       "bb5         0.391204        169    432"
      ]
     },
     "execution_count": 10,
     "metadata": {},
     "output_type": "execute_result"
    }
   ],
   "source": [
    "get_by_project_summary(filtered_prefix)"
   ]
  },
  {
   "cell_type": "code",
   "execution_count": 9,
   "metadata": {},
   "outputs": [
    {
     "data": {
      "text/html": [
       "<div>\n",
       "<style scoped>\n",
       "    .dataframe tbody tr th:only-of-type {\n",
       "        vertical-align: middle;\n",
       "    }\n",
       "\n",
       "    .dataframe tbody tr th {\n",
       "        vertical-align: top;\n",
       "    }\n",
       "\n",
       "    .dataframe thead th {\n",
       "        text-align: right;\n",
       "    }\n",
       "</style>\n",
       "<table border=\"1\" class=\"dataframe\">\n",
       "  <thead>\n",
       "    <tr style=\"text-align: right;\">\n",
       "      <th></th>\n",
       "      <th>RATE</th>\n",
       "      <th>SUCCESSES</th>\n",
       "      <th>TOTAL</th>\n",
       "    </tr>\n",
       "    <tr>\n",
       "      <th>project</th>\n",
       "      <th></th>\n",
       "      <th></th>\n",
       "      <th></th>\n",
       "    </tr>\n",
       "  </thead>\n",
       "  <tbody>\n",
       "    <tr>\n",
       "      <th>pnvrocqlib</th>\n",
       "      <td>0.251185</td>\n",
       "      <td>159</td>\n",
       "      <td>633</td>\n",
       "    </tr>\n",
       "    <tr>\n",
       "      <th>bb5</th>\n",
       "      <td>0.400463</td>\n",
       "      <td>173</td>\n",
       "      <td>432</td>\n",
       "    </tr>\n",
       "  </tbody>\n",
       "</table>\n",
       "</div>"
      ],
      "text/plain": [
       "                RATE  SUCCESSES  TOTAL\n",
       "project                               \n",
       "pnvrocqlib  0.251185        159    633\n",
       "bb5         0.400463        173    432"
      ]
     },
     "execution_count": 9,
     "metadata": {},
     "output_type": "execute_result"
    }
   ],
   "source": [
    "get_by_project_summary(filtered_rango)"
   ]
  },
  {
   "cell_type": "code",
   "execution_count": 42,
   "metadata": {},
   "outputs": [
    {
     "data": {
      "text/plain": [
       "0.2"
      ]
     },
     "execution_count": 42,
     "metadata": {},
     "output_type": "execute_result"
    }
   ],
   "source": [
    "(150 - 125) / 125 "
   ]
  },
  {
   "cell_type": "code",
   "execution_count": 9,
   "metadata": {},
   "outputs": [
    {
     "ename": "NameError",
     "evalue": "name 'TACTICIAN_RESULT' is not defined",
     "output_type": "error",
     "traceback": [
      "\u001b[0;31m---------------------------------------------------------------------------\u001b[0m",
      "\u001b[0;31mNameError\u001b[0m                                 Traceback (most recent call last)",
      "Cell \u001b[0;32mIn[9], line 1\u001b[0m\n\u001b[0;32m----> 1\u001b[0m get_totals(\u001b[43mTACTICIAN_RESULT\u001b[49m)\n",
      "\u001b[0;31mNameError\u001b[0m: name 'TACTICIAN_RESULT' is not defined"
     ]
    }
   ],
   "source": [
    "get_totals(TACTICIAN_RESULT)"
   ]
  },
  {
   "cell_type": "code",
   "execution_count": 35,
   "metadata": {},
   "outputs": [
    {
     "data": {
      "text/html": [
       "<div>\n",
       "<style scoped>\n",
       "    .dataframe tbody tr th:only-of-type {\n",
       "        vertical-align: middle;\n",
       "    }\n",
       "\n",
       "    .dataframe tbody tr th {\n",
       "        vertical-align: top;\n",
       "    }\n",
       "\n",
       "    .dataframe thead th {\n",
       "        text-align: right;\n",
       "    }\n",
       "</style>\n",
       "<table border=\"1\" class=\"dataframe\">\n",
       "  <thead>\n",
       "    <tr style=\"text-align: right;\">\n",
       "      <th></th>\n",
       "      <th>RATE</th>\n",
       "      <th>SUCCESSES</th>\n",
       "      <th>TOTAL</th>\n",
       "    </tr>\n",
       "    <tr>\n",
       "      <th>project</th>\n",
       "      <th></th>\n",
       "      <th></th>\n",
       "      <th></th>\n",
       "    </tr>\n",
       "  </thead>\n",
       "  <tbody>\n",
       "    <tr>\n",
       "      <th>pnvrocqlib</th>\n",
       "      <td>0.164244</td>\n",
       "      <td>113</td>\n",
       "      <td>688</td>\n",
       "    </tr>\n",
       "    <tr>\n",
       "      <th>bb5</th>\n",
       "      <td>0.215321</td>\n",
       "      <td>104</td>\n",
       "      <td>483</td>\n",
       "    </tr>\n",
       "  </tbody>\n",
       "</table>\n",
       "</div>"
      ],
      "text/plain": [
       "                RATE  SUCCESSES  TOTAL\n",
       "project                               \n",
       "pnvrocqlib  0.164244        113    688\n",
       "bb5         0.215321        104    483"
      ]
     },
     "execution_count": 35,
     "metadata": {},
     "output_type": "execute_result"
    }
   ],
   "source": [
    "get_by_project_summary(PROVERBOT_RESULT)"
   ]
  },
  {
   "cell_type": "code",
   "execution_count": 36,
   "metadata": {},
   "outputs": [
    {
     "data": {
      "text/plain": [
       "RATE            0.185312\n",
       "SUCCESSES     217.000000\n",
       "TOTAL        1171.000000\n",
       "Name: proverbot, dtype: float64"
      ]
     },
     "execution_count": 36,
     "metadata": {},
     "output_type": "execute_result"
    }
   ],
   "source": [
    "get_totals(PROVERBOT_RESULT)"
   ]
  },
  {
   "cell_type": "markdown",
   "metadata": {},
   "source": [
    "## Cross-Tool Comparison (Graph2Tac)"
   ]
  },
  {
   "cell_type": "code",
   "execution_count": 6,
   "metadata": {},
   "outputs": [],
   "source": [
    "RANGO_RESULT = load_results(Path(\"evaluations/coqstoq-results/test-rango\"), \"rango\")\n",
    "GRAPH2TAC_RESULT = load_results(Path(\"evaluations/coqstoq-results/test-graph2tac\"), \"graph2tac\")"
   ]
  },
  {
   "cell_type": "code",
   "execution_count": 7,
   "metadata": {},
   "outputs": [],
   "source": [
    "filtered_rango = filter_df(RANGO_RESULT, GRAPH2TAC_RESULT.df.index)"
   ]
  },
  {
   "cell_type": "code",
   "execution_count": 8,
   "metadata": {},
   "outputs": [
    {
     "data": {
      "text/html": [
       "<div>\n",
       "<style scoped>\n",
       "    .dataframe tbody tr th:only-of-type {\n",
       "        vertical-align: middle;\n",
       "    }\n",
       "\n",
       "    .dataframe tbody tr th {\n",
       "        vertical-align: top;\n",
       "    }\n",
       "\n",
       "    .dataframe thead th {\n",
       "        text-align: right;\n",
       "    }\n",
       "</style>\n",
       "<table border=\"1\" class=\"dataframe\">\n",
       "  <thead>\n",
       "    <tr style=\"text-align: right;\">\n",
       "      <th></th>\n",
       "      <th>RATE</th>\n",
       "      <th>SUCCESSES</th>\n",
       "      <th>TOTAL</th>\n",
       "    </tr>\n",
       "    <tr>\n",
       "      <th>project</th>\n",
       "      <th></th>\n",
       "      <th></th>\n",
       "      <th></th>\n",
       "    </tr>\n",
       "  </thead>\n",
       "  <tbody>\n",
       "    <tr>\n",
       "      <th>zfc</th>\n",
       "      <td>0.362319</td>\n",
       "      <td>75</td>\n",
       "      <td>207</td>\n",
       "    </tr>\n",
       "    <tr>\n",
       "      <th>poltac</th>\n",
       "      <td>0.835526</td>\n",
       "      <td>127</td>\n",
       "      <td>152</td>\n",
       "    </tr>\n",
       "    <tr>\n",
       "      <th>dblib</th>\n",
       "      <td>0.540146</td>\n",
       "      <td>74</td>\n",
       "      <td>137</td>\n",
       "    </tr>\n",
       "  </tbody>\n",
       "</table>\n",
       "</div>"
      ],
      "text/plain": [
       "             RATE  SUCCESSES  TOTAL\n",
       "project                            \n",
       "zfc      0.362319         75    207\n",
       "poltac   0.835526        127    152\n",
       "dblib    0.540146         74    137"
      ]
     },
     "execution_count": 8,
     "metadata": {},
     "output_type": "execute_result"
    }
   ],
   "source": [
    "get_by_project_summary(filtered_rango)"
   ]
  },
  {
   "cell_type": "code",
   "execution_count": 9,
   "metadata": {},
   "outputs": [
    {
     "data": {
      "text/html": [
       "<div>\n",
       "<style scoped>\n",
       "    .dataframe tbody tr th:only-of-type {\n",
       "        vertical-align: middle;\n",
       "    }\n",
       "\n",
       "    .dataframe tbody tr th {\n",
       "        vertical-align: top;\n",
       "    }\n",
       "\n",
       "    .dataframe thead th {\n",
       "        text-align: right;\n",
       "    }\n",
       "</style>\n",
       "<table border=\"1\" class=\"dataframe\">\n",
       "  <thead>\n",
       "    <tr style=\"text-align: right;\">\n",
       "      <th></th>\n",
       "      <th>RATE</th>\n",
       "      <th>SUCCESSES</th>\n",
       "      <th>TOTAL</th>\n",
       "    </tr>\n",
       "    <tr>\n",
       "      <th>project</th>\n",
       "      <th></th>\n",
       "      <th></th>\n",
       "      <th></th>\n",
       "    </tr>\n",
       "  </thead>\n",
       "  <tbody>\n",
       "    <tr>\n",
       "      <th>zfc</th>\n",
       "      <td>0.285024</td>\n",
       "      <td>59</td>\n",
       "      <td>207</td>\n",
       "    </tr>\n",
       "    <tr>\n",
       "      <th>poltac</th>\n",
       "      <td>0.907895</td>\n",
       "      <td>138</td>\n",
       "      <td>152</td>\n",
       "    </tr>\n",
       "    <tr>\n",
       "      <th>dblib</th>\n",
       "      <td>0.496350</td>\n",
       "      <td>68</td>\n",
       "      <td>137</td>\n",
       "    </tr>\n",
       "  </tbody>\n",
       "</table>\n",
       "</div>"
      ],
      "text/plain": [
       "             RATE  SUCCESSES  TOTAL\n",
       "project                            \n",
       "zfc      0.285024         59    207\n",
       "poltac   0.907895        138    152\n",
       "dblib    0.496350         68    137"
      ]
     },
     "execution_count": 9,
     "metadata": {},
     "output_type": "execute_result"
    }
   ],
   "source": [
    "get_by_project_summary(GRAPH2TAC_RESULT)"
   ]
  },
  {
   "cell_type": "code",
   "execution_count": 11,
   "metadata": {},
   "outputs": [
    {
     "data": {
      "text/plain": [
       "RATE           0.556452\n",
       "SUCCESSES    276.000000\n",
       "TOTAL        496.000000\n",
       "Name: rango, dtype: float64"
      ]
     },
     "execution_count": 11,
     "metadata": {},
     "output_type": "execute_result"
    }
   ],
   "source": [
    "get_totals(filtered_rango)"
   ]
  },
  {
   "cell_type": "code",
   "execution_count": 10,
   "metadata": {},
   "outputs": [
    {
     "data": {
      "text/plain": [
       "RATE           0.534274\n",
       "SUCCESSES    265.000000\n",
       "TOTAL        496.000000\n",
       "Name: graph2tac, dtype: float64"
      ]
     },
     "execution_count": 10,
     "metadata": {},
     "output_type": "execute_result"
    }
   ],
   "source": [
    "get_totals(GRAPH2TAC_RESULT)"
   ]
  },
  {
   "cell_type": "markdown",
   "metadata": {},
   "source": [
    "## Cross-Tool Comparison (Test)"
   ]
  },
  {
   "cell_type": "code",
   "execution_count": 15,
   "metadata": {},
   "outputs": [],
   "source": [
    "RANGO_RESULT = load_results(Path(\"evaluations/coqstoq-results/test-rango\"), \"rango\")\n",
    "PREFIX_RESULT = load_results(Path(\"evaluations/coqstoq-results/test-abl-prefix\"), \"prefix\")\n",
    "HYBRID_PREFIX = load_results(Path(\"evaluations/coqstoq-results/test-hybrid-prefix\"), \"hybrid-prefix\")\n",
    "TFIDF_PROOF = load_results(Path(\"evaluations/coqstoq-results/test-orig-rango\"), \"tfidf-proof\")\n",
    "CODEBERT_PROOF = load_results(Path(\"evaluations/coqstoq-results/test-codebert-proof\"), \"codebert-proof\")\n",
    "PROVERBOT_RESULT = load_results(Path(\"evaluations/coqstoq-results/test-proverbot\"), \"proverbot\")\n",
    "# TACTICIAN_RESULT = load_results(Path(\"evaluations/coqstoq-results/test-tactician\"), \"tactitian\")\n",
    "# ORIG_RANGO_RESULT = load_results(Path(\"evaluations/coqstoq-results/test-orig-rango\"), \"rango (tfidf proof, tfidf prem)\")"
   ]
  },
  {
   "cell_type": "code",
   "execution_count": 18,
   "metadata": {},
   "outputs": [
    {
     "data": {
      "text/plain": [
       "RATE             0.319835\n",
       "SUCCESSES     3325.000000\n",
       "TOTAL        10396.000000\n",
       "Name: rango, dtype: float64"
      ]
     },
     "execution_count": 18,
     "metadata": {},
     "output_type": "execute_result"
    }
   ],
   "source": [
    "get_totals(RANGO_RESULT)"
   ]
  },
  {
   "cell_type": "code",
   "execution_count": 16,
   "metadata": {},
   "outputs": [
    {
     "data": {
      "text/plain": [
       "RATE             0.316564\n",
       "SUCCESSES     3291.000000\n",
       "TOTAL        10396.000000\n",
       "Name: tfidf-proof, dtype: float64"
      ]
     },
     "execution_count": 16,
     "metadata": {},
     "output_type": "execute_result"
    }
   ],
   "source": [
    "get_totals(TFIDF_PROOF)"
   ]
  },
  {
   "cell_type": "code",
   "execution_count": 17,
   "metadata": {},
   "outputs": [
    {
     "data": {
      "text/plain": [
       "RATE             0.219604\n",
       "SUCCESSES     2283.000000\n",
       "TOTAL        10396.000000\n",
       "Name: codebert-proof, dtype: float64"
      ]
     },
     "execution_count": 17,
     "metadata": {},
     "output_type": "execute_result"
    }
   ],
   "source": [
    "get_totals(CODEBERT_PROOF)  "
   ]
  },
  {
   "cell_type": "code",
   "execution_count": 20,
   "metadata": {},
   "outputs": [
    {
     "data": {
      "text/plain": [
       "0.45641699518177836"
      ]
     },
     "execution_count": 20,
     "metadata": {},
     "output_type": "execute_result"
    }
   ],
   "source": [
    "(3325 - 2283) / 2283"
   ]
  },
  {
   "cell_type": "code",
   "execution_count": 9,
   "metadata": {},
   "outputs": [
    {
     "data": {
      "text/html": [
       "<div>\n",
       "<style scoped>\n",
       "    .dataframe tbody tr th:only-of-type {\n",
       "        vertical-align: middle;\n",
       "    }\n",
       "\n",
       "    .dataframe tbody tr th {\n",
       "        vertical-align: top;\n",
       "    }\n",
       "\n",
       "    .dataframe thead th {\n",
       "        text-align: right;\n",
       "    }\n",
       "</style>\n",
       "<table border=\"1\" class=\"dataframe\">\n",
       "  <thead>\n",
       "    <tr style=\"text-align: right;\">\n",
       "      <th></th>\n",
       "      <th>RATE</th>\n",
       "      <th>SUCCESSES</th>\n",
       "      <th>TOTAL</th>\n",
       "    </tr>\n",
       "    <tr>\n",
       "      <th>project</th>\n",
       "      <th></th>\n",
       "      <th></th>\n",
       "      <th></th>\n",
       "    </tr>\n",
       "  </thead>\n",
       "  <tbody>\n",
       "    <tr>\n",
       "      <th>compcert</th>\n",
       "      <td>0.214884</td>\n",
       "      <td>1308</td>\n",
       "      <td>6087</td>\n",
       "    </tr>\n",
       "    <tr>\n",
       "      <th>fourcolor</th>\n",
       "      <td>0.099402</td>\n",
       "      <td>133</td>\n",
       "      <td>1338</td>\n",
       "    </tr>\n",
       "    <tr>\n",
       "      <th>math-classes</th>\n",
       "      <td>0.128440</td>\n",
       "      <td>98</td>\n",
       "      <td>763</td>\n",
       "    </tr>\n",
       "    <tr>\n",
       "      <th>buchberger</th>\n",
       "      <td>0.156535</td>\n",
       "      <td>103</td>\n",
       "      <td>658</td>\n",
       "    </tr>\n",
       "    <tr>\n",
       "      <th>reglang</th>\n",
       "      <td>0.091195</td>\n",
       "      <td>29</td>\n",
       "      <td>318</td>\n",
       "    </tr>\n",
       "    <tr>\n",
       "      <th>poltac</th>\n",
       "      <td>0.540541</td>\n",
       "      <td>140</td>\n",
       "      <td>259</td>\n",
       "    </tr>\n",
       "    <tr>\n",
       "      <th>huffman</th>\n",
       "      <td>0.183594</td>\n",
       "      <td>47</td>\n",
       "      <td>256</td>\n",
       "    </tr>\n",
       "    <tr>\n",
       "      <th>zfc</th>\n",
       "      <td>0.178744</td>\n",
       "      <td>37</td>\n",
       "      <td>207</td>\n",
       "    </tr>\n",
       "    <tr>\n",
       "      <th>zorns-lemma</th>\n",
       "      <td>0.125714</td>\n",
       "      <td>22</td>\n",
       "      <td>175</td>\n",
       "    </tr>\n",
       "    <tr>\n",
       "      <th>ext-lib</th>\n",
       "      <td>0.193939</td>\n",
       "      <td>32</td>\n",
       "      <td>165</td>\n",
       "    </tr>\n",
       "    <tr>\n",
       "      <th>dblib</th>\n",
       "      <td>0.369565</td>\n",
       "      <td>51</td>\n",
       "      <td>138</td>\n",
       "    </tr>\n",
       "    <tr>\n",
       "      <th>hoare-tut</th>\n",
       "      <td>0.291667</td>\n",
       "      <td>7</td>\n",
       "      <td>24</td>\n",
       "    </tr>\n",
       "  </tbody>\n",
       "</table>\n",
       "</div>"
      ],
      "text/plain": [
       "                  RATE  SUCCESSES  TOTAL\n",
       "project                                 \n",
       "compcert      0.214884       1308   6087\n",
       "fourcolor     0.099402        133   1338\n",
       "math-classes  0.128440         98    763\n",
       "buchberger    0.156535        103    658\n",
       "reglang       0.091195         29    318\n",
       "poltac        0.540541        140    259\n",
       "huffman       0.183594         47    256\n",
       "zfc           0.178744         37    207\n",
       "zorns-lemma   0.125714         22    175\n",
       "ext-lib       0.193939         32    165\n",
       "dblib         0.369565         51    138\n",
       "hoare-tut     0.291667          7     24"
      ]
     },
     "execution_count": 9,
     "metadata": {},
     "output_type": "execute_result"
    }
   ],
   "source": [
    "get_by_project_summary(PROVERBOT_RESULT)"
   ]
  },
  {
   "cell_type": "code",
   "execution_count": 24,
   "metadata": {},
   "outputs": [
    {
     "data": {
      "text/plain": [
       "RATE             0.193204\n",
       "SUCCESSES     2007.000000\n",
       "TOTAL        10388.000000\n",
       "Name: proverbot, dtype: float64"
      ]
     },
     "execution_count": 24,
     "metadata": {},
     "output_type": "execute_result"
    }
   ],
   "source": [
    "get_totals(PROVERBOT_RESULT)"
   ]
  },
  {
   "cell_type": "code",
   "execution_count": 29,
   "metadata": {},
   "outputs": [
    {
     "data": {
      "text/plain": [
       "RATE             0.351193\n",
       "SUCCESSES     3651.000000\n",
       "TOTAL        10396.000000\n",
       "Name: Adjusted rango + proverbot, dtype: float64"
      ]
     },
     "execution_count": 29,
     "metadata": {},
     "output_type": "execute_result"
    }
   ],
   "source": [
    "get_totals(create_joint_eval(RANGO_RESULT, PROVERBOT_RESULT))"
   ]
  },
  {
   "cell_type": "code",
   "execution_count": 25,
   "metadata": {},
   "outputs": [
    {
     "data": {
      "text/plain": [
       "0.1930550211619854"
      ]
     },
     "execution_count": 25,
     "metadata": {},
     "output_type": "execute_result"
    }
   ],
   "source": [
    "2007 / 10396"
   ]
  },
  {
   "cell_type": "code",
   "execution_count": 5,
   "metadata": {},
   "outputs": [
    {
     "data": {
      "text/html": [
       "<div>\n",
       "<style scoped>\n",
       "    .dataframe tbody tr th:only-of-type {\n",
       "        vertical-align: middle;\n",
       "    }\n",
       "\n",
       "    .dataframe tbody tr th {\n",
       "        vertical-align: top;\n",
       "    }\n",
       "\n",
       "    .dataframe thead th {\n",
       "        text-align: right;\n",
       "    }\n",
       "</style>\n",
       "<table border=\"1\" class=\"dataframe\">\n",
       "  <thead>\n",
       "    <tr style=\"text-align: right;\">\n",
       "      <th></th>\n",
       "      <th>RATE</th>\n",
       "      <th>SUCCESSES</th>\n",
       "      <th>TOTAL</th>\n",
       "    </tr>\n",
       "    <tr>\n",
       "      <th>project</th>\n",
       "      <th></th>\n",
       "      <th></th>\n",
       "      <th></th>\n",
       "    </tr>\n",
       "  </thead>\n",
       "  <tbody>\n",
       "    <tr>\n",
       "      <th>compcert</th>\n",
       "      <td>0.214544</td>\n",
       "      <td>1304</td>\n",
       "      <td>6078</td>\n",
       "    </tr>\n",
       "    <tr>\n",
       "      <th>fourcolor</th>\n",
       "      <td>0.099402</td>\n",
       "      <td>133</td>\n",
       "      <td>1338</td>\n",
       "    </tr>\n",
       "    <tr>\n",
       "      <th>math-classes</th>\n",
       "      <td>0.128440</td>\n",
       "      <td>98</td>\n",
       "      <td>763</td>\n",
       "    </tr>\n",
       "    <tr>\n",
       "      <th>buchberger</th>\n",
       "      <td>0.156535</td>\n",
       "      <td>103</td>\n",
       "      <td>658</td>\n",
       "    </tr>\n",
       "    <tr>\n",
       "      <th>reglang</th>\n",
       "      <td>0.091195</td>\n",
       "      <td>29</td>\n",
       "      <td>318</td>\n",
       "    </tr>\n",
       "    <tr>\n",
       "      <th>poltac</th>\n",
       "      <td>0.540541</td>\n",
       "      <td>140</td>\n",
       "      <td>259</td>\n",
       "    </tr>\n",
       "    <tr>\n",
       "      <th>huffman</th>\n",
       "      <td>0.183594</td>\n",
       "      <td>47</td>\n",
       "      <td>256</td>\n",
       "    </tr>\n",
       "    <tr>\n",
       "      <th>zfc</th>\n",
       "      <td>0.178744</td>\n",
       "      <td>37</td>\n",
       "      <td>207</td>\n",
       "    </tr>\n",
       "    <tr>\n",
       "      <th>zorns-lemma</th>\n",
       "      <td>0.125714</td>\n",
       "      <td>22</td>\n",
       "      <td>175</td>\n",
       "    </tr>\n",
       "    <tr>\n",
       "      <th>ext-lib</th>\n",
       "      <td>0.193939</td>\n",
       "      <td>32</td>\n",
       "      <td>165</td>\n",
       "    </tr>\n",
       "    <tr>\n",
       "      <th>dblib</th>\n",
       "      <td>0.369565</td>\n",
       "      <td>51</td>\n",
       "      <td>138</td>\n",
       "    </tr>\n",
       "    <tr>\n",
       "      <th>hoare-tut</th>\n",
       "      <td>0.291667</td>\n",
       "      <td>7</td>\n",
       "      <td>24</td>\n",
       "    </tr>\n",
       "  </tbody>\n",
       "</table>\n",
       "</div>"
      ],
      "text/plain": [
       "                  RATE  SUCCESSES  TOTAL\n",
       "project                                 \n",
       "compcert      0.214544       1304   6078\n",
       "fourcolor     0.099402        133   1338\n",
       "math-classes  0.128440         98    763\n",
       "buchberger    0.156535        103    658\n",
       "reglang       0.091195         29    318\n",
       "poltac        0.540541        140    259\n",
       "huffman       0.183594         47    256\n",
       "zfc           0.178744         37    207\n",
       "zorns-lemma   0.125714         22    175\n",
       "ext-lib       0.193939         32    165\n",
       "dblib         0.369565         51    138\n",
       "hoare-tut     0.291667          7     24"
      ]
     },
     "execution_count": 5,
     "metadata": {},
     "output_type": "execute_result"
    }
   ],
   "source": [
    "get_by_project_summary(PROVERBOT_RESULT)"
   ]
  },
  {
   "cell_type": "code",
   "execution_count": 8,
   "metadata": {},
   "outputs": [
    {
     "data": {
      "image/png": "[encoded data removed]",
      "text/plain": [
       "<Figure size 640x480 with 1 Axes>"
      ]
     },
     "metadata": {},
     "output_type": "display_data"
    }
   ],
   "source": [
    "HYBRID_PREFIX = load_results(Path(\"evaluations/coqstoq-results/test-hybrid-prefix\"), \"hybrid-prefix\")\n",
    "# HYBRID_PREFIX = NamedDF(HYBRID_PREFIX.name, HYBRID_PREFIX.df.dropna())\n",
    "mutual_idx = RANGO_RESULT.df.index.intersection(PREFIX_RESULT.df.index).intersection(HYBRID_PREFIX.df.index)\n",
    "filtered_rango = filter_df(RANGO_RESULT, mutual_idx)\n",
    "filtered_prefix = filter_df(PREFIX_RESULT, mutual_idx)\n",
    "filtered_hybrid_prefix = filter_df(HYBRID_PREFIX, mutual_idx)\n",
    "joint_eval = create_joint_eval(filtered_rango, filtered_prefix)\n",
    "mk_time_plot([filtered_rango, filtered_prefix, filtered_hybrid_prefix, joint_eval])\n",
    "\n",
    "# joint_full_eval = create_joint_eval(RANGO_RESULT, PREFIX_RESULT)\n",
    "# mk_time_plot([RANGO_RESULT, PREFIX_RESULT, joint_full_eval])\n",
    "\n",
    "\n",
    "# mutual_idx = RANGO_RESULT.df.index.intersection(PREFIX_RESULT.df.index)\n",
    "# filtered_rango = filter_df(RANGO_RESULT, mutual_idx)\n",
    "# filtered_prefix = filter_df(PREFIX_RESULT, mutual_idx)\n",
    "# joint_eval = create_joint_eval(filtered_rango, filtered_prefix)\n",
    "# # joint_eval = create_joint_eval(filtered_rango, filtered_prefix, normalize=False)\n",
    "# mk_time_plot([filtered_rango, filtered_prefix, joint_eval])"
   ]
  },
  {
   "cell_type": "code",
   "execution_count": 9,
   "metadata": {},
   "outputs": [
    {
     "data": {
      "text/plain": [
       "RATE             0.334552\n",
       "SUCCESSES     3478.000000\n",
       "TOTAL        10396.000000\n",
       "Name: hybrid-prefix, dtype: float64"
      ]
     },
     "execution_count": 9,
     "metadata": {},
     "output_type": "execute_result"
    }
   ],
   "source": [
    "get_totals(filtered_hybrid_prefix)"
   ]
  },
  {
   "cell_type": "code",
   "execution_count": 11,
   "metadata": {},
   "outputs": [
    {
     "data": {
      "text/html": [
       "<div>\n",
       "<style scoped>\n",
       "    .dataframe tbody tr th:only-of-type {\n",
       "        vertical-align: middle;\n",
       "    }\n",
       "\n",
       "    .dataframe tbody tr th {\n",
       "        vertical-align: top;\n",
       "    }\n",
       "\n",
       "    .dataframe thead th {\n",
       "        text-align: right;\n",
       "    }\n",
       "</style>\n",
       "<table border=\"1\" class=\"dataframe\">\n",
       "  <thead>\n",
       "    <tr style=\"text-align: right;\">\n",
       "      <th></th>\n",
       "      <th>hybrid-prefix</th>\n",
       "      <th>prefix</th>\n",
       "      <th>rango</th>\n",
       "    </tr>\n",
       "  </thead>\n",
       "  <tbody>\n",
       "    <tr>\n",
       "      <th>RATE</th>\n",
       "      <td>0.339229</td>\n",
       "      <td>0.317592</td>\n",
       "      <td>0.323612</td>\n",
       "    </tr>\n",
       "    <tr>\n",
       "      <th>SUCCESSES</th>\n",
       "      <td>1803.000000</td>\n",
       "      <td>1688.000000</td>\n",
       "      <td>1720.000000</td>\n",
       "    </tr>\n",
       "    <tr>\n",
       "      <th>TOTAL</th>\n",
       "      <td>5315.000000</td>\n",
       "      <td>5315.000000</td>\n",
       "      <td>5315.000000</td>\n",
       "    </tr>\n",
       "  </tbody>\n",
       "</table>\n",
       "</div>"
      ],
      "text/plain": [
       "           hybrid-prefix       prefix        rango\n",
       "RATE            0.339229     0.317592     0.323612\n",
       "SUCCESSES    1803.000000  1688.000000  1720.000000\n",
       "TOTAL        5315.000000  5315.000000  5315.000000"
      ]
     },
     "execution_count": 11,
     "metadata": {},
     "output_type": "execute_result"
    }
   ],
   "source": [
    "pd.concat([get_totals(filtered_hybrid_prefix), get_totals(filtered_prefix), get_totals(filtered_rango)], axis=1)"
   ]
  },
  {
   "cell_type": "code",
   "execution_count": 11,
   "metadata": {},
   "outputs": [
    {
     "data": {
      "text/plain": [
       "0.06687116564417178"
      ]
     },
     "execution_count": 11,
     "metadata": {},
     "output_type": "execute_result"
    }
   ],
   "source": [
    "(3478 - 3260) / 3260"
   ]
  },
  {
   "cell_type": "code",
   "execution_count": 9,
   "metadata": {},
   "outputs": [
    {
     "data": {
      "text/plain": [
       "NamedDF(name='hybrid-prefix', df=                                         success        time\n",
       "project     path                   line                     \n",
       "buchberger  theories/Bar.v         120      True    9.562225\n",
       "            theories/BuchAux.v     723     False  602.549119\n",
       "            theories/Dickson.v     58      False  600.338570\n",
       "            theories/POrder.v      465     False  602.159694\n",
       "            theories/Pmults.v      124      True  228.955140\n",
       "...                                          ...         ...\n",
       "reglang     theories/regexp.v      88      False  601.140259\n",
       "            theories/shepherdson.v 330     False  952.293543\n",
       "zfc         zfc.v                  1411    False  600.195252\n",
       "                                   261      True   49.110951\n",
       "zorns-lemma Quotients.v            158      True  130.584918\n",
       "\n",
       "[93 rows x 2 columns])"
      ]
     },
     "execution_count": 9,
     "metadata": {},
     "output_type": "execute_result"
    }
   ],
   "source": [
    "HYBRID_PREFIX"
   ]
  },
  {
   "cell_type": "code",
   "execution_count": 12,
   "metadata": {},
   "outputs": [
    {
     "data": {
      "text/plain": [
       "RATE            0.321325\n",
       "SUCCESSES    3202.000000\n",
       "TOTAL        9965.000000\n",
       "Name: rango, dtype: float64"
      ]
     },
     "execution_count": 12,
     "metadata": {},
     "output_type": "execute_result"
    }
   ],
   "source": [
    "get_totals(filtered_rango)"
   ]
  },
  {
   "cell_type": "code",
   "execution_count": 13,
   "metadata": {},
   "outputs": [
    {
     "data": {
      "text/plain": [
       "RATE            0.315605\n",
       "SUCCESSES    3145.000000\n",
       "TOTAL        9965.000000\n",
       "Name: prefix, dtype: float64"
      ]
     },
     "execution_count": 13,
     "metadata": {},
     "output_type": "execute_result"
    }
   ],
   "source": [
    "get_totals(filtered_prefix)"
   ]
  },
  {
   "cell_type": "code",
   "execution_count": 8,
   "metadata": {},
   "outputs": [],
   "source": [
    "PROVERBOT_RESULT = load_results(Path(\"evaluations/coqstoq-results/test-proverbot\"), \"proverbot\")"
   ]
  },
  {
   "cell_type": "code",
   "execution_count": 9,
   "metadata": {},
   "outputs": [
    {
     "data": {
      "text/html": [
       "<div>\n",
       "<style scoped>\n",
       "    .dataframe tbody tr th:only-of-type {\n",
       "        vertical-align: middle;\n",
       "    }\n",
       "\n",
       "    .dataframe tbody tr th {\n",
       "        vertical-align: top;\n",
       "    }\n",
       "\n",
       "    .dataframe thead th {\n",
       "        text-align: right;\n",
       "    }\n",
       "</style>\n",
       "<table border=\"1\" class=\"dataframe\">\n",
       "  <thead>\n",
       "    <tr style=\"text-align: right;\">\n",
       "      <th></th>\n",
       "      <th>RATE</th>\n",
       "      <th>SUCCESSES</th>\n",
       "      <th>TOTAL</th>\n",
       "    </tr>\n",
       "    <tr>\n",
       "      <th>project</th>\n",
       "      <th></th>\n",
       "      <th></th>\n",
       "      <th></th>\n",
       "    </tr>\n",
       "  </thead>\n",
       "  <tbody>\n",
       "    <tr>\n",
       "      <th>compcert</th>\n",
       "      <td>0.325562</td>\n",
       "      <td>1983</td>\n",
       "      <td>6091</td>\n",
       "    </tr>\n",
       "    <tr>\n",
       "      <th>fourcolor</th>\n",
       "      <td>0.158091</td>\n",
       "      <td>212</td>\n",
       "      <td>1341</td>\n",
       "    </tr>\n",
       "    <tr>\n",
       "      <th>math-classes</th>\n",
       "      <td>0.397117</td>\n",
       "      <td>303</td>\n",
       "      <td>763</td>\n",
       "    </tr>\n",
       "    <tr>\n",
       "      <th>buchberger</th>\n",
       "      <td>0.273556</td>\n",
       "      <td>180</td>\n",
       "      <td>658</td>\n",
       "    </tr>\n",
       "    <tr>\n",
       "      <th>reglang</th>\n",
       "      <td>0.132075</td>\n",
       "      <td>42</td>\n",
       "      <td>318</td>\n",
       "    </tr>\n",
       "    <tr>\n",
       "      <th>poltac</th>\n",
       "      <td>0.833977</td>\n",
       "      <td>216</td>\n",
       "      <td>259</td>\n",
       "    </tr>\n",
       "    <tr>\n",
       "      <th>huffman</th>\n",
       "      <td>0.320312</td>\n",
       "      <td>82</td>\n",
       "      <td>256</td>\n",
       "    </tr>\n",
       "    <tr>\n",
       "      <th>zfc</th>\n",
       "      <td>0.362319</td>\n",
       "      <td>75</td>\n",
       "      <td>207</td>\n",
       "    </tr>\n",
       "    <tr>\n",
       "      <th>zorns-lemma</th>\n",
       "      <td>0.291429</td>\n",
       "      <td>51</td>\n",
       "      <td>175</td>\n",
       "    </tr>\n",
       "    <tr>\n",
       "      <th>ext-lib</th>\n",
       "      <td>0.636364</td>\n",
       "      <td>105</td>\n",
       "      <td>165</td>\n",
       "    </tr>\n",
       "    <tr>\n",
       "      <th>dblib</th>\n",
       "      <td>0.536232</td>\n",
       "      <td>74</td>\n",
       "      <td>138</td>\n",
       "    </tr>\n",
       "    <tr>\n",
       "      <th>hoare-tut</th>\n",
       "      <td>0.320000</td>\n",
       "      <td>8</td>\n",
       "      <td>25</td>\n",
       "    </tr>\n",
       "  </tbody>\n",
       "</table>\n",
       "</div>"
      ],
      "text/plain": [
       "                  RATE  SUCCESSES  TOTAL\n",
       "project                                 \n",
       "compcert      0.325562       1983   6091\n",
       "fourcolor     0.158091        212   1341\n",
       "math-classes  0.397117        303    763\n",
       "buchberger    0.273556        180    658\n",
       "reglang       0.132075         42    318\n",
       "poltac        0.833977        216    259\n",
       "huffman       0.320312         82    256\n",
       "zfc           0.362319         75    207\n",
       "zorns-lemma   0.291429         51    175\n",
       "ext-lib       0.636364        105    165\n",
       "dblib         0.536232         74    138\n",
       "hoare-tut     0.320000          8     25"
      ]
     },
     "execution_count": 9,
     "metadata": {},
     "output_type": "execute_result"
    }
   ],
   "source": [
    "get_by_project_summary(RANGO_RESULT)"
   ]
  },
  {
   "cell_type": "code",
   "execution_count": 10,
   "metadata": {},
   "outputs": [
    {
     "data": {
      "text/html": [
       "<div>\n",
       "<style scoped>\n",
       "    .dataframe tbody tr th:only-of-type {\n",
       "        vertical-align: middle;\n",
       "    }\n",
       "\n",
       "    .dataframe tbody tr th {\n",
       "        vertical-align: top;\n",
       "    }\n",
       "\n",
       "    .dataframe thead th {\n",
       "        text-align: right;\n",
       "    }\n",
       "</style>\n",
       "<table border=\"1\" class=\"dataframe\">\n",
       "  <thead>\n",
       "    <tr style=\"text-align: right;\">\n",
       "      <th></th>\n",
       "      <th>RATE</th>\n",
       "      <th>SUCCESSES</th>\n",
       "      <th>TOTAL</th>\n",
       "    </tr>\n",
       "    <tr>\n",
       "      <th>project</th>\n",
       "      <th></th>\n",
       "      <th></th>\n",
       "      <th></th>\n",
       "    </tr>\n",
       "  </thead>\n",
       "  <tbody>\n",
       "    <tr>\n",
       "      <th>compcert</th>\n",
       "      <td>0.325562</td>\n",
       "      <td>1983</td>\n",
       "      <td>6091</td>\n",
       "    </tr>\n",
       "    <tr>\n",
       "      <th>fourcolor</th>\n",
       "      <td>0.158091</td>\n",
       "      <td>212</td>\n",
       "      <td>1341</td>\n",
       "    </tr>\n",
       "    <tr>\n",
       "      <th>math-classes</th>\n",
       "      <td>0.397117</td>\n",
       "      <td>303</td>\n",
       "      <td>763</td>\n",
       "    </tr>\n",
       "    <tr>\n",
       "      <th>buchberger</th>\n",
       "      <td>0.273556</td>\n",
       "      <td>180</td>\n",
       "      <td>658</td>\n",
       "    </tr>\n",
       "    <tr>\n",
       "      <th>reglang</th>\n",
       "      <td>0.132075</td>\n",
       "      <td>42</td>\n",
       "      <td>318</td>\n",
       "    </tr>\n",
       "    <tr>\n",
       "      <th>poltac</th>\n",
       "      <td>0.833977</td>\n",
       "      <td>216</td>\n",
       "      <td>259</td>\n",
       "    </tr>\n",
       "    <tr>\n",
       "      <th>huffman</th>\n",
       "      <td>0.320312</td>\n",
       "      <td>82</td>\n",
       "      <td>256</td>\n",
       "    </tr>\n",
       "    <tr>\n",
       "      <th>zfc</th>\n",
       "      <td>0.362319</td>\n",
       "      <td>75</td>\n",
       "      <td>207</td>\n",
       "    </tr>\n",
       "    <tr>\n",
       "      <th>zorns-lemma</th>\n",
       "      <td>0.291429</td>\n",
       "      <td>51</td>\n",
       "      <td>175</td>\n",
       "    </tr>\n",
       "    <tr>\n",
       "      <th>ext-lib</th>\n",
       "      <td>0.636364</td>\n",
       "      <td>105</td>\n",
       "      <td>165</td>\n",
       "    </tr>\n",
       "    <tr>\n",
       "      <th>dblib</th>\n",
       "      <td>0.536232</td>\n",
       "      <td>74</td>\n",
       "      <td>138</td>\n",
       "    </tr>\n",
       "    <tr>\n",
       "      <th>hoare-tut</th>\n",
       "      <td>0.320000</td>\n",
       "      <td>8</td>\n",
       "      <td>25</td>\n",
       "    </tr>\n",
       "  </tbody>\n",
       "</table>\n",
       "</div>"
      ],
      "text/plain": [
       "                  RATE  SUCCESSES  TOTAL\n",
       "project                                 \n",
       "compcert      0.325562       1983   6091\n",
       "fourcolor     0.158091        212   1341\n",
       "math-classes  0.397117        303    763\n",
       "buchberger    0.273556        180    658\n",
       "reglang       0.132075         42    318\n",
       "poltac        0.833977        216    259\n",
       "huffman       0.320312         82    256\n",
       "zfc           0.362319         75    207\n",
       "zorns-lemma   0.291429         51    175\n",
       "ext-lib       0.636364        105    165\n",
       "dblib         0.536232         74    138\n",
       "hoare-tut     0.320000          8     25"
      ]
     },
     "execution_count": 10,
     "metadata": {},
     "output_type": "execute_result"
    }
   ],
   "source": [
    "get_by_project_summary(RANGO_RESULT)"
   ]
  },
  {
   "cell_type": "code",
   "execution_count": 11,
   "metadata": {},
   "outputs": [
    {
     "data": {
      "text/plain": [
       "RATE             0.202866\n",
       "SUCCESSES     2109.000000\n",
       "TOTAL        10396.000000\n",
       "Name: tactitian, dtype: float64"
      ]
     },
     "execution_count": 11,
     "metadata": {},
     "output_type": "execute_result"
    }
   ],
   "source": [
    "get_totals(TACTICIAN_RESULT)"
   ]
  },
  {
   "cell_type": "code",
   "execution_count": 12,
   "metadata": {},
   "outputs": [
    {
     "data": {
      "text/plain": [
       "RATE             0.320412\n",
       "SUCCESSES     3331.000000\n",
       "TOTAL        10396.000000\n",
       "Name: rango, dtype: float64"
      ]
     },
     "execution_count": 12,
     "metadata": {},
     "output_type": "execute_result"
    }
   ],
   "source": [
    "get_totals(RANGO_RESULT)"
   ]
  },
  {
   "cell_type": "code",
   "execution_count": 16,
   "metadata": {},
   "outputs": [
    {
     "data": {
      "text/plain": [
       "0.12999099369558692"
      ]
     },
     "execution_count": 16,
     "metadata": {},
     "output_type": "execute_result"
    }
   ],
   "source": [
    "(3764 - 3331) / 3331"
   ]
  },
  {
   "cell_type": "code",
   "execution_count": 17,
   "metadata": {},
   "outputs": [
    {
     "data": {
      "text/plain": [
       "0.09606724707295107"
      ]
     },
     "execution_count": 17,
     "metadata": {},
     "output_type": "execute_result"
    }
   ],
   "source": [
    "(3651 - 3331) / 3331"
   ]
  },
  {
   "cell_type": "code",
   "execution_count": 20,
   "metadata": {},
   "outputs": [
    {
     "data": {
      "text/plain": [
       "0.0634441087613293"
      ]
     },
     "execution_count": 20,
     "metadata": {},
     "output_type": "execute_result"
    }
   ],
   "source": [
    "(352 - 331) / 331"
   ]
  },
  {
   "cell_type": "code",
   "execution_count": 21,
   "metadata": {},
   "outputs": [
    {
     "data": {
      "text/plain": [
       "0.6221198156682027"
      ]
     },
     "execution_count": 21,
     "metadata": {},
     "output_type": "execute_result"
    }
   ],
   "source": [
    "(352 - 217) / 217"
   ]
  },
  {
   "cell_type": "code",
   "execution_count": 22,
   "metadata": {},
   "outputs": [
    {
     "data": {
      "text/plain": [
       "0.6129032258064516"
      ]
     },
     "execution_count": 22,
     "metadata": {},
     "output_type": "execute_result"
    }
   ],
   "source": [
    "(150 - 93) / 93"
   ]
  },
  {
   "cell_type": "code",
   "execution_count": 23,
   "metadata": {},
   "outputs": [
    {
     "data": {
      "text/plain": [
       "0.034482758620689655"
      ]
     },
     "execution_count": 23,
     "metadata": {},
     "output_type": "execute_result"
    }
   ],
   "source": [
    "(150 - 145) / 145"
   ]
  },
  {
   "cell_type": "code",
   "execution_count": 25,
   "metadata": {},
   "outputs": [
    {
     "data": {
      "text/plain": [
       "0.08235294117647059"
      ]
     },
     "execution_count": 25,
     "metadata": {},
     "output_type": "execute_result"
    }
   ],
   "source": [
    "(184 - 170) / 170"
   ]
  },
  {
   "cell_type": "code",
   "execution_count": 26,
   "metadata": {},
   "outputs": [
    {
     "data": {
      "text/plain": [
       "0.10625"
      ]
     },
     "execution_count": 26,
     "metadata": {},
     "output_type": "execute_result"
    }
   ],
   "source": [
    "(177 - 160) / 160"
   ]
  },
  {
   "cell_type": "code",
   "execution_count": 27,
   "metadata": {},
   "outputs": [
    {
     "data": {
      "text/plain": [
       "0.26126126126126126"
      ]
     },
     "execution_count": 27,
     "metadata": {},
     "output_type": "execute_result"
    }
   ],
   "source": [
    "(140 - 111) / 111"
   ]
  },
  {
   "cell_type": "code",
   "execution_count": 28,
   "metadata": {},
   "outputs": [
    {
     "data": {
      "text/plain": [
       "0.42696629213483145"
      ]
     },
     "execution_count": 28,
     "metadata": {},
     "output_type": "execute_result"
    }
   ],
   "source": [
    "(127 - 89) / 89"
   ]
  },
  {
   "cell_type": "code",
   "execution_count": 29,
   "metadata": {},
   "outputs": [
    {
     "data": {
      "text/plain": [
       "0.010312405216863815"
      ]
     },
     "execution_count": 29,
     "metadata": {},
     "output_type": "execute_result"
    }
   ],
   "source": [
    "(3331 - 3297) / 3297"
   ]
  },
  {
   "cell_type": "code",
   "execution_count": 30,
   "metadata": {},
   "outputs": [
    {
     "data": {
      "text/plain": [
       "0.4590451160753395"
      ]
     },
     "execution_count": 30,
     "metadata": {},
     "output_type": "execute_result"
    }
   ],
   "source": [
    "(3331 - 2283) / 2283"
   ]
  }
 ],
 "metadata": {
  "kernelspec": {
   "display_name": "venv",
   "language": "python",
   "name": "python3"
  },
  "language_info": {
   "codemirror_mode": {
    "name": "ipython",
    "version": 3
   },
   "file_extension": ".py",
   "mimetype": "text/x-python",
   "name": "python",
   "nbconvert_exporter": "python",
   "pygments_lexer": "ipython3",
   "version": "3.11.0"
  }
 },
 "nbformat": 4,
 "nbformat_minor": 2
}
