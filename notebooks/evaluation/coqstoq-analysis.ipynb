{
 "cells": [
  {
   "cell_type": "code",
   "execution_count": 1,
   "metadata": {},
   "outputs": [],
   "source": [
    "import os\n",
    "from pathlib import Path \n",
    "import json\n",
    "from dataclasses import dataclass\n",
    "\n",
    "import pandas as pd\n",
    "import numpy as np\n",
    "import matplotlib.pyplot as plt\n",
    "\n",
    "from coqstoq import get_theorem_list, Split\n",
    "from coqstoq.check import Result"
   ]
  },
  {
   "cell_type": "code",
   "execution_count": 2,
   "metadata": {},
   "outputs": [],
   "source": [
    "if Path(os.curdir).resolve().name == \"evaluation\":\n",
    "    os.chdir(\"../..\")\n",
    "elif Path(os.curdir).resolve().name == \"coq-modeling\":\n",
    "    pass\n",
    "else:\n",
    "    raise ValueError(f\"In an unexpected directory: {os.curdir}\")"
   ]
  },
  {
   "cell_type": "code",
   "execution_count": 3,
   "metadata": {},
   "outputs": [],
   "source": [
    "\n",
    "@dataclass\n",
    "class NamedDF:\n",
    "    name: str\n",
    "    df: pd.DataFrame\n",
    "\n",
    "def load_results(p: Path, sysname: str, timeout: int = 600) -> NamedDF:\n",
    "    rows = [] \n",
    "    for r_path in p.glob(\"**/*.json\"):\n",
    "        with r_path.open() as f:\n",
    "            r_data = json.load(f)\n",
    "            result = Result.from_json(r_data)\n",
    "            rows.append({\n",
    "                \"project\": result.thm.project.workspace.name, \n",
    "                \"path\": result.thm.path,\n",
    "                \"line\": result.thm.theorem_start_pos.line,\n",
    "                \"success\": result.proof is not None and result.time < timeout,\n",
    "                \"time\": result.time,\n",
    "            })\n",
    "    df = pd.DataFrame(rows)\n",
    "    return NamedDF(sysname, df.set_index([\"project\", \"path\", \"line\"]))\n",
    "\n",
    "def create_joint_eval(df1: NamedDF, df2: NamedDF, normalize: bool=True, timeout: int=600) -> NamedDF:\n",
    "    if normalize:\n",
    "        new_name = f\"Adjusted {df1.name} + {df2.name}\"\n",
    "    else:\n",
    "        new_name = f\"Unadjusted {df1.name} + {df2.name}\"\n",
    "    merged_df = df1.df.merge(df2.df, left_index=True, right_index=True, suffixes=(\"_1\", \"_2\"))\n",
    "    if normalize:\n",
    "        merged_df[\"time\"] = merged_df.apply(lambda row: min(row[\"time_1\"], row[\"time_2\"]) * 2, axis=1)\n",
    "    else:\n",
    "        merged_df[\"time\"] = merged_df.apply(lambda row: min(row[\"time_1\"], row[\"time_2\"]), axis=1)\n",
    "    merged_df[\"success\"] = (merged_df[\"success_1\"] | merged_df[\"success_2\"]) & (merged_df[\"time\"] < timeout)\n",
    "    return NamedDF(new_name, merged_df[[\"success\", \"time\"]])\n",
    "\n",
    "\n",
    "def filter_df(named_df: NamedDF, idx : pd.Index) -> NamedDF:\n",
    "    return NamedDF(named_df.name, named_df.df.loc[idx])\n",
    "\n",
    "\n",
    "def mk_time_plot(ndfs: list[NamedDF], timeout: int = 600): \n",
    "    fig, ax = plt.subplots()\n",
    "    for ndf in ndfs:\n",
    "        success_df = ndf.df.loc[ndf.df[\"success\"]]\n",
    "        by_time = success_df.sort_values(\"time\")\n",
    "        successes = list(np.arange(len(by_time)) + 1) + [len(by_time)]\n",
    "        ax.plot(by_time[\"time\"] + [timeout], np.arange(len(by_time)) + 1, label=ndf.name)\n",
    "    ax.set_xlabel(\"Time (s)\")\n",
    "    ax.set_ylabel(\"# Theorems Proven\")\n",
    "    ax.set_title(\"# Theorems Proven over Time\")\n",
    "    ax.legend()\n",
    "    \n",
    "\n",
    "def get_by_project_summary(named_df: NamedDF) -> pd.DataFrame:\n",
    "    return named_df.df.groupby(\"project\").agg(\n",
    "        RATE=(\"success\", \"mean\"), \n",
    "        SUCCESSES=(\"success\", \"sum\"), \n",
    "        TOTAL=(\"success\", \"count\")\n",
    "    ).sort_values(\"TOTAL\", ascending=False)\n",
    "\n",
    "\n",
    "def get_totals(named_df: NamedDF) -> pd.Series:\n",
    "    n_df = NamedDF(named_df.name, named_df.df.agg(\n",
    "        RATE=(\"success\", \"mean\"), \n",
    "        SUCCESSES=(\"success\", \"sum\"), \n",
    "        TOTAL=(\"success\", \"count\")\n",
    "    ))\n",
    "    series = n_df.df[\"success\"]\n",
    "    series.name = named_df.name\n",
    "    return series"
   ]
  },
  {
   "cell_type": "code",
   "execution_count": null,
   "metadata": {},
   "outputs": [],
   "source": []
  },
  {
   "cell_type": "markdown",
   "metadata": {},
   "source": [
    "## Ablations (CoqStoq 0-499)"
   ]
  },
  {
   "cell_type": "code",
   "execution_count": 7,
   "metadata": {},
   "outputs": [],
   "source": [
    "RANGO_RESULT = load_results(Path(\"evaluations/coqstoq-results/test-rango\"), \"Rango\")"
   ]
  },
  {
   "cell_type": "code",
   "execution_count": 8,
   "metadata": {},
   "outputs": [],
   "source": [
    "RANGO_NO_LEMMA = load_results(Path(\"evaluations/coqstoq-results/test-abl-no-lemma\"), \"Rango w/o Lemmas\")\n",
    "RANGO_NO_PROOF = load_results(Path(\"evaluations/coqstoq-results/test-abl-no-proof\"), \"Rango w/o Proofs\")\n",
    "RANGO_NO_RETRIEVAL = load_results(Path(\"evaluations/coqstoq-results/test-abl-no-retrieval\"), \"Rango w/o Proofs and Lemmas\")\n",
    "# RANGO_FIRST_STEP = load_results(Path(\"evaluations/coqstoq-results/test-abl-first-step\"), \"first-step\")\n",
    "# PREFIX = load_results(Path(\"evaluations/coqstoq-results/test-abl-prefix\"), \"Rango w/ Prefix Retrieval\")\n",
    "# TFIDF_PROOF = load_results(Path(\"evaluations/coqstoq-results/test-abl-tfidf-proof\"), \"tfidf-proof\")\n",
    "# BM25_LEMMA = load_results(Path(\"evaluations/coqstoq-results/test-abl-bm25-lemma\"), \"bm25-lemma\") \n",
    "\n",
    "ABL_RESULTS = [\n",
    "    RANGO_NO_LEMMA,\n",
    "    RANGO_NO_PROOF,\n",
    "    RANGO_NO_RETRIEVAL,\n",
    "]"
   ]
  },
  {
   "cell_type": "code",
   "execution_count": 10,
   "metadata": {},
   "outputs": [
    {
     "data": {
      "text/html": [
       "<div>\n",
       "<style scoped>\n",
       "    .dataframe tbody tr th:only-of-type {\n",
       "        vertical-align: middle;\n",
       "    }\n",
       "\n",
       "    .dataframe tbody tr th {\n",
       "        vertical-align: top;\n",
       "    }\n",
       "\n",
       "    .dataframe thead th {\n",
       "        text-align: right;\n",
       "    }\n",
       "</style>\n",
       "<table border=\"1\" class=\"dataframe\">\n",
       "  <thead>\n",
       "    <tr style=\"text-align: right;\">\n",
       "      <th></th>\n",
       "      <th>Rango</th>\n",
       "      <th>Rango w/o Lemmas</th>\n",
       "      <th>Rango w/o Proofs</th>\n",
       "      <th>Rango w/o Proofs and Lemmas</th>\n",
       "    </tr>\n",
       "  </thead>\n",
       "  <tbody>\n",
       "    <tr>\n",
       "      <th>RATE</th>\n",
       "      <td>0.3</td>\n",
       "      <td>0.29</td>\n",
       "      <td>0.204</td>\n",
       "      <td>0.186</td>\n",
       "    </tr>\n",
       "    <tr>\n",
       "      <th>SUCCESSES</th>\n",
       "      <td>150.0</td>\n",
       "      <td>145.00</td>\n",
       "      <td>102.000</td>\n",
       "      <td>93.000</td>\n",
       "    </tr>\n",
       "    <tr>\n",
       "      <th>TOTAL</th>\n",
       "      <td>500.0</td>\n",
       "      <td>500.00</td>\n",
       "      <td>500.000</td>\n",
       "      <td>500.000</td>\n",
       "    </tr>\n",
       "  </tbody>\n",
       "</table>\n",
       "</div>"
      ],
      "text/plain": [
       "           Rango  Rango w/o Lemmas  Rango w/o Proofs  \\\n",
       "RATE         0.3              0.29             0.204   \n",
       "SUCCESSES  150.0            145.00           102.000   \n",
       "TOTAL      500.0            500.00           500.000   \n",
       "\n",
       "           Rango w/o Proofs and Lemmas  \n",
       "RATE                             0.186  \n",
       "SUCCESSES                       93.000  \n",
       "TOTAL                          500.000  "
      ]
     },
     "execution_count": 10,
     "metadata": {},
     "output_type": "execute_result"
    }
   ],
   "source": [
    "assert 0 < len(ABL_RESULTS)\n",
    "filtered_rango = filter_df(RANGO_RESULT, ABL_RESULTS[0].df.index)\n",
    "rango_total = get_totals(filtered_rango)\n",
    "abl_totals = [get_totals(r) for r in ABL_RESULTS]\n",
    "pd.concat([rango_total] + abl_totals, axis=1)"
   ]
  },
  {
   "cell_type": "code",
   "execution_count": 11,
   "metadata": {},
   "outputs": [
    {
     "data": {
      "image/png": "[encoded data removed]",
      "text/plain": [
       "<Figure size 640x480 with 1 Axes>"
      ]
     },
     "metadata": {},
     "output_type": "display_data"
    }
   ],
   "source": [
    "mk_time_plot([filtered_rango, RANGO_NO_LEMMA, RANGO_NO_PROOF, RANGO_NO_RETRIEVAL])"
   ]
  },
  {
   "cell_type": "code",
   "execution_count": 28,
   "metadata": {},
   "outputs": [
    {
     "data": {
      "text/plain": [
       "RATE           0.356\n",
       "SUCCESSES    178.000\n",
       "TOTAL        500.000\n",
       "Name: tactitian + Rango w/ Prefix Retrieval, dtype: float64"
      ]
     },
     "execution_count": 28,
     "metadata": {},
     "output_type": "execute_result"
    }
   ],
   "source": [
    "filtered_tactician = filter_df(TACTICIAN_RESULT, ABL_RESULTS[0].df.index)\n",
    "get_totals(create_joint_eval(filtered_tactician, PREFIX))"
   ]
  },
  {
   "cell_type": "code",
   "execution_count": 29,
   "metadata": {},
   "outputs": [
    {
     "data": {
      "text/plain": [
       "RATE           0.354\n",
       "SUCCESSES    177.000\n",
       "TOTAL        500.000\n",
       "Name: tactitian + Rango, dtype: float64"
      ]
     },
     "execution_count": 29,
     "metadata": {},
     "output_type": "execute_result"
    }
   ],
   "source": [
    "get_totals(create_joint_eval(filtered_tactician, filtered_rango))"
   ]
  },
  {
   "cell_type": "code",
   "execution_count": 30,
   "metadata": {},
   "outputs": [
    {
     "data": {
      "image/png": "[encoded data removed]",
      "text/plain": [
       "<Figure size 640x480 with 1 Axes>"
      ]
     },
     "metadata": {},
     "output_type": "display_data"
    }
   ],
   "source": [
    "mk_time_plot([filtered_rango, *ABL_RESULTS])"
   ]
  },
  {
   "cell_type": "code",
   "execution_count": 31,
   "metadata": {},
   "outputs": [
    {
     "data": {
      "text/plain": [
       "RATE           0.338\n",
       "SUCCESSES    169.000\n",
       "TOTAL        500.000\n",
       "Name: Rango + tfidf-proof, dtype: float64"
      ]
     },
     "execution_count": 31,
     "metadata": {},
     "output_type": "execute_result"
    }
   ],
   "source": [
    "get_totals(create_joint_eval(filtered_rango, TFIDF_PROOF))"
   ]
  },
  {
   "cell_type": "code",
   "execution_count": 32,
   "metadata": {},
   "outputs": [
    {
     "data": {
      "text/plain": [
       "RATE           0.342\n",
       "SUCCESSES    171.000\n",
       "TOTAL        500.000\n",
       "Name: Rango + bm25-lemma, dtype: float64"
      ]
     },
     "execution_count": 32,
     "metadata": {},
     "output_type": "execute_result"
    }
   ],
   "source": [
    "get_totals(create_joint_eval(filtered_rango, BM25_LEMMA))"
   ]
  },
  {
   "cell_type": "markdown",
   "metadata": {},
   "source": [
    "## Cross-Tool Comparison (Cutoff)"
   ]
  },
  {
   "cell_type": "code",
   "execution_count": 4,
   "metadata": {},
   "outputs": [],
   "source": [
    "RANGO_RESULT = load_results(Path(\"evaluations/coqstoq-results/cutoff-rango\"), \"rango\")\n",
    "PREFIX_RESULT = load_results(Path(\"evaluations/coqstoq-results/cutoff-prefix\"), \"prefix\")\n",
    "# TACTICIAN_RESULT = load_results(Path(\"evaluations/coqstoq-results/cutoff-tactician\"), \"tactitian\")\n",
    "PROVERBOT_RESULT = load_results(Path(\"evaluations/coqstoq-results/cutoff-proverbot\"), \"proverbot\")"
   ]
  },
  {
   "cell_type": "code",
   "execution_count": 5,
   "metadata": {},
   "outputs": [
    {
     "data": {
      "text/html": [
       "<div>\n",
       "<style scoped>\n",
       "    .dataframe tbody tr th:only-of-type {\n",
       "        vertical-align: middle;\n",
       "    }\n",
       "\n",
       "    .dataframe tbody tr th {\n",
       "        vertical-align: top;\n",
       "    }\n",
       "\n",
       "    .dataframe thead th {\n",
       "        text-align: right;\n",
       "    }\n",
       "</style>\n",
       "<table border=\"1\" class=\"dataframe\">\n",
       "  <thead>\n",
       "    <tr style=\"text-align: right;\">\n",
       "      <th></th>\n",
       "      <th>RATE</th>\n",
       "      <th>SUCCESSES</th>\n",
       "      <th>TOTAL</th>\n",
       "    </tr>\n",
       "    <tr>\n",
       "      <th>project</th>\n",
       "      <th></th>\n",
       "      <th></th>\n",
       "      <th></th>\n",
       "    </tr>\n",
       "  </thead>\n",
       "  <tbody>\n",
       "    <tr>\n",
       "      <th>pnvrocqlib</th>\n",
       "      <td>0.249249</td>\n",
       "      <td>166</td>\n",
       "      <td>666</td>\n",
       "    </tr>\n",
       "    <tr>\n",
       "      <th>bb5</th>\n",
       "      <td>0.365751</td>\n",
       "      <td>173</td>\n",
       "      <td>473</td>\n",
       "    </tr>\n",
       "  </tbody>\n",
       "</table>\n",
       "</div>"
      ],
      "text/plain": [
       "                RATE  SUCCESSES  TOTAL\n",
       "project                               \n",
       "pnvrocqlib  0.249249        166    666\n",
       "bb5         0.365751        173    473"
      ]
     },
     "execution_count": 5,
     "metadata": {},
     "output_type": "execute_result"
    }
   ],
   "source": [
    "get_by_project_summary(PREFIX_RESULT)"
   ]
  },
  {
   "cell_type": "code",
   "execution_count": 6,
   "metadata": {},
   "outputs": [
    {
     "data": {
      "image/png": "[encoded data removed]",
      "text/plain": [
       "<Figure size 640x480 with 1 Axes>"
      ]
     },
     "metadata": {},
     "output_type": "display_data"
    }
   ],
   "source": [
    "PREFIX_RESULT_NO_INCOMPLETE = NamedDF(\"prefix\", PREFIX_RESULT.df.dropna())\n",
    "RANGO_RESULT_NO_INCOMPLETE = NamedDF(\"rango\", RANGO_RESULT.df.dropna())\n",
    "intersection_idx = PREFIX_RESULT_NO_INCOMPLETE.df.index.intersection(RANGO_RESULT_NO_INCOMPLETE.df.index) \n",
    "filtered_rango = filter_df(RANGO_RESULT, intersection_idx)\n",
    "filtered_proverbot = filter_df(PROVERBOT_RESULT, intersection_idx)\n",
    "filtered_prefix = filter_df(PREFIX_RESULT, intersection_idx)\n",
    "joint_eval = create_joint_eval(filtered_rango, filtered_prefix)\n",
    "\n",
    "mk_time_plot([filtered_rango, filtered_prefix, filtered_proverbot, joint_eval])"
   ]
  },
  {
   "cell_type": "code",
   "execution_count": 7,
   "metadata": {},
   "outputs": [
    {
     "data": {
      "text/html": [
       "<div>\n",
       "<style scoped>\n",
       "    .dataframe tbody tr th:only-of-type {\n",
       "        vertical-align: middle;\n",
       "    }\n",
       "\n",
       "    .dataframe tbody tr th {\n",
       "        vertical-align: top;\n",
       "    }\n",
       "\n",
       "    .dataframe thead th {\n",
       "        text-align: right;\n",
       "    }\n",
       "</style>\n",
       "<table border=\"1\" class=\"dataframe\">\n",
       "  <thead>\n",
       "    <tr style=\"text-align: right;\">\n",
       "      <th></th>\n",
       "      <th>RATE</th>\n",
       "      <th>SUCCESSES</th>\n",
       "      <th>TOTAL</th>\n",
       "    </tr>\n",
       "    <tr>\n",
       "      <th>project</th>\n",
       "      <th></th>\n",
       "      <th></th>\n",
       "      <th></th>\n",
       "    </tr>\n",
       "  </thead>\n",
       "  <tbody>\n",
       "    <tr>\n",
       "      <th>pnvrocqlib</th>\n",
       "      <td>0.251185</td>\n",
       "      <td>159</td>\n",
       "      <td>633</td>\n",
       "    </tr>\n",
       "    <tr>\n",
       "      <th>bb5</th>\n",
       "      <td>0.400463</td>\n",
       "      <td>173</td>\n",
       "      <td>432</td>\n",
       "    </tr>\n",
       "  </tbody>\n",
       "</table>\n",
       "</div>"
      ],
      "text/plain": [
       "                RATE  SUCCESSES  TOTAL\n",
       "project                               \n",
       "pnvrocqlib  0.251185        159    633\n",
       "bb5         0.400463        173    432"
      ]
     },
     "execution_count": 7,
     "metadata": {},
     "output_type": "execute_result"
    }
   ],
   "source": [
    "get_by_project_summary(filtered_rango)"
   ]
  },
  {
   "cell_type": "code",
   "execution_count": 10,
   "metadata": {},
   "outputs": [
    {
     "data": {
      "text/html": [
       "<div>\n",
       "<style scoped>\n",
       "    .dataframe tbody tr th:only-of-type {\n",
       "        vertical-align: middle;\n",
       "    }\n",
       "\n",
       "    .dataframe tbody tr th {\n",
       "        vertical-align: top;\n",
       "    }\n",
       "\n",
       "    .dataframe thead th {\n",
       "        text-align: right;\n",
       "    }\n",
       "</style>\n",
       "<table border=\"1\" class=\"dataframe\">\n",
       "  <thead>\n",
       "    <tr style=\"text-align: right;\">\n",
       "      <th></th>\n",
       "      <th>RATE</th>\n",
       "      <th>SUCCESSES</th>\n",
       "      <th>TOTAL</th>\n",
       "    </tr>\n",
       "    <tr>\n",
       "      <th>project</th>\n",
       "      <th></th>\n",
       "      <th></th>\n",
       "      <th></th>\n",
       "    </tr>\n",
       "  </thead>\n",
       "  <tbody>\n",
       "    <tr>\n",
       "      <th>pnvrocqlib</th>\n",
       "      <td>0.255924</td>\n",
       "      <td>162</td>\n",
       "      <td>633</td>\n",
       "    </tr>\n",
       "    <tr>\n",
       "      <th>bb5</th>\n",
       "      <td>0.391204</td>\n",
       "      <td>169</td>\n",
       "      <td>432</td>\n",
       "    </tr>\n",
       "  </tbody>\n",
       "</table>\n",
       "</div>"
      ],
      "text/plain": [
       "                RATE  SUCCESSES  TOTAL\n",
       "project                               \n",
       "pnvrocqlib  0.255924        162    633\n",
       "bb5         0.391204        169    432"
      ]
     },
     "execution_count": 10,
     "metadata": {},
     "output_type": "execute_result"
    }
   ],
   "source": [
    "get_by_project_summary(filtered_prefix)"
   ]
  },
  {
   "cell_type": "code",
   "execution_count": 9,
   "metadata": {},
   "outputs": [
    {
     "data": {
      "text/html": [
       "<div>\n",
       "<style scoped>\n",
       "    .dataframe tbody tr th:only-of-type {\n",
       "        vertical-align: middle;\n",
       "    }\n",
       "\n",
       "    .dataframe tbody tr th {\n",
       "        vertical-align: top;\n",
       "    }\n",
       "\n",
       "    .dataframe thead th {\n",
       "        text-align: right;\n",
       "    }\n",
       "</style>\n",
       "<table border=\"1\" class=\"dataframe\">\n",
       "  <thead>\n",
       "    <tr style=\"text-align: right;\">\n",
       "      <th></th>\n",
       "      <th>RATE</th>\n",
       "      <th>SUCCESSES</th>\n",
       "      <th>TOTAL</th>\n",
       "    </tr>\n",
       "    <tr>\n",
       "      <th>project</th>\n",
       "      <th></th>\n",
       "      <th></th>\n",
       "      <th></th>\n",
       "    </tr>\n",
       "  </thead>\n",
       "  <tbody>\n",
       "    <tr>\n",
       "      <th>pnvrocqlib</th>\n",
       "      <td>0.251185</td>\n",
       "      <td>159</td>\n",
       "      <td>633</td>\n",
       "    </tr>\n",
       "    <tr>\n",
       "      <th>bb5</th>\n",
       "      <td>0.400463</td>\n",
       "      <td>173</td>\n",
       "      <td>432</td>\n",
       "    </tr>\n",
       "  </tbody>\n",
       "</table>\n",
       "</div>"
      ],
      "text/plain": [
       "                RATE  SUCCESSES  TOTAL\n",
       "project                               \n",
       "pnvrocqlib  0.251185        159    633\n",
       "bb5         0.400463        173    432"
      ]
     },
     "execution_count": 9,
     "metadata": {},
     "output_type": "execute_result"
    }
   ],
   "source": [
    "get_by_project_summary(filtered_rango)"
   ]
  },
  {
   "cell_type": "code",
   "execution_count": 8,
   "metadata": {},
   "outputs": [
    {
     "ename": "NameError",
     "evalue": "name 'TACTICIAN_RESULT' is not defined",
     "output_type": "error",
     "traceback": [
      "\u001b[0;31m---------------------------------------------------------------------------\u001b[0m",
      "\u001b[0;31mNameError\u001b[0m                                 Traceback (most recent call last)",
      "Cell \u001b[0;32mIn[8], line 1\u001b[0m\n\u001b[0;32m----> 1\u001b[0m get_by_project_summary(\u001b[43mTACTICIAN_RESULT\u001b[49m)\n",
      "\u001b[0;31mNameError\u001b[0m: name 'TACTICIAN_RESULT' is not defined"
     ]
    }
   ],
   "source": [
    "get_by_project_summary(TACTICIAN_RESULT)"
   ]
  },
  {
   "cell_type": "code",
   "execution_count": 9,
   "metadata": {},
   "outputs": [
    {
     "ename": "NameError",
     "evalue": "name 'TACTICIAN_RESULT' is not defined",
     "output_type": "error",
     "traceback": [
      "\u001b[0;31m---------------------------------------------------------------------------\u001b[0m",
      "\u001b[0;31mNameError\u001b[0m                                 Traceback (most recent call last)",
      "Cell \u001b[0;32mIn[9], line 1\u001b[0m\n\u001b[0;32m----> 1\u001b[0m get_totals(\u001b[43mTACTICIAN_RESULT\u001b[49m)\n",
      "\u001b[0;31mNameError\u001b[0m: name 'TACTICIAN_RESULT' is not defined"
     ]
    }
   ],
   "source": [
    "get_totals(TACTICIAN_RESULT)"
   ]
  },
  {
   "cell_type": "code",
   "execution_count": 35,
   "metadata": {},
   "outputs": [
    {
     "data": {
      "text/html": [
       "<div>\n",
       "<style scoped>\n",
       "    .dataframe tbody tr th:only-of-type {\n",
       "        vertical-align: middle;\n",
       "    }\n",
       "\n",
       "    .dataframe tbody tr th {\n",
       "        vertical-align: top;\n",
       "    }\n",
       "\n",
       "    .dataframe thead th {\n",
       "        text-align: right;\n",
       "    }\n",
       "</style>\n",
       "<table border=\"1\" class=\"dataframe\">\n",
       "  <thead>\n",
       "    <tr style=\"text-align: right;\">\n",
       "      <th></th>\n",
       "      <th>RATE</th>\n",
       "      <th>SUCCESSES</th>\n",
       "      <th>TOTAL</th>\n",
       "    </tr>\n",
       "    <tr>\n",
       "      <th>project</th>\n",
       "      <th></th>\n",
       "      <th></th>\n",
       "      <th></th>\n",
       "    </tr>\n",
       "  </thead>\n",
       "  <tbody>\n",
       "    <tr>\n",
       "      <th>pnvrocqlib</th>\n",
       "      <td>0.164244</td>\n",
       "      <td>113</td>\n",
       "      <td>688</td>\n",
       "    </tr>\n",
       "    <tr>\n",
       "      <th>bb5</th>\n",
       "      <td>0.215321</td>\n",
       "      <td>104</td>\n",
       "      <td>483</td>\n",
       "    </tr>\n",
       "  </tbody>\n",
       "</table>\n",
       "</div>"
      ],
      "text/plain": [
       "                RATE  SUCCESSES  TOTAL\n",
       "project                               \n",
       "pnvrocqlib  0.164244        113    688\n",
       "bb5         0.215321        104    483"
      ]
     },
     "execution_count": 35,
     "metadata": {},
     "output_type": "execute_result"
    }
   ],
   "source": [
    "get_by_project_summary(PROVERBOT_RESULT)"
   ]
  },
  {
   "cell_type": "code",
   "execution_count": 36,
   "metadata": {},
   "outputs": [
    {
     "data": {
      "text/plain": [
       "RATE            0.185312\n",
       "SUCCESSES     217.000000\n",
       "TOTAL        1171.000000\n",
       "Name: proverbot, dtype: float64"
      ]
     },
     "execution_count": 36,
     "metadata": {},
     "output_type": "execute_result"
    }
   ],
   "source": [
    "get_totals(PROVERBOT_RESULT)"
   ]
  },
  {
   "cell_type": "markdown",
   "metadata": {},
   "source": [
    "## Cross-Tool Comparison (Graph2Tac)"
   ]
  },
  {
   "cell_type": "code",
   "execution_count": 6,
   "metadata": {},
   "outputs": [],
   "source": [
    "RANGO_RESULT = load_results(Path(\"evaluations/coqstoq-results/test-rango\"), \"rango\")\n",
    "GRAPH2TAC_RESULT = load_results(Path(\"evaluations/coqstoq-results/test-graph2tac\"), \"graph2tac\")"
   ]
  },
  {
   "cell_type": "code",
   "execution_count": 7,
   "metadata": {},
   "outputs": [],
   "source": [
    "filtered_rango = filter_df(RANGO_RESULT, GRAPH2TAC_RESULT.df.index)"
   ]
  },
  {
   "cell_type": "code",
   "execution_count": 8,
   "metadata": {},
   "outputs": [
    {
     "data": {
      "text/html": [
       "<div>\n",
       "<style scoped>\n",
       "    .dataframe tbody tr th:only-of-type {\n",
       "        vertical-align: middle;\n",
       "    }\n",
       "\n",
       "    .dataframe tbody tr th {\n",
       "        vertical-align: top;\n",
       "    }\n",
       "\n",
       "    .dataframe thead th {\n",
       "        text-align: right;\n",
       "    }\n",
       "</style>\n",
       "<table border=\"1\" class=\"dataframe\">\n",
       "  <thead>\n",
       "    <tr style=\"text-align: right;\">\n",
       "      <th></th>\n",
       "      <th>RATE</th>\n",
       "      <th>SUCCESSES</th>\n",
       "      <th>TOTAL</th>\n",
       "    </tr>\n",
       "    <tr>\n",
       "      <th>project</th>\n",
       "      <th></th>\n",
       "      <th></th>\n",
       "      <th></th>\n",
       "    </tr>\n",
       "  </thead>\n",
       "  <tbody>\n",
       "    <tr>\n",
       "      <th>zfc</th>\n",
       "      <td>0.362319</td>\n",
       "      <td>75</td>\n",
       "      <td>207</td>\n",
       "    </tr>\n",
       "    <tr>\n",
       "      <th>poltac</th>\n",
       "      <td>0.835526</td>\n",
       "      <td>127</td>\n",
       "      <td>152</td>\n",
       "    </tr>\n",
       "    <tr>\n",
       "      <th>dblib</th>\n",
       "      <td>0.540146</td>\n",
       "      <td>74</td>\n",
       "      <td>137</td>\n",
       "    </tr>\n",
       "  </tbody>\n",
       "</table>\n",
       "</div>"
      ],
      "text/plain": [
       "             RATE  SUCCESSES  TOTAL\n",
       "project                            \n",
       "zfc      0.362319         75    207\n",
       "poltac   0.835526        127    152\n",
       "dblib    0.540146         74    137"
      ]
     },
     "execution_count": 8,
     "metadata": {},
     "output_type": "execute_result"
    }
   ],
   "source": [
    "get_by_project_summary(filtered_rango)"
   ]
  },
  {
   "cell_type": "code",
   "execution_count": 9,
   "metadata": {},
   "outputs": [
    {
     "data": {
      "text/html": [
       "<div>\n",
       "<style scoped>\n",
       "    .dataframe tbody tr th:only-of-type {\n",
       "        vertical-align: middle;\n",
       "    }\n",
       "\n",
       "    .dataframe tbody tr th {\n",
       "        vertical-align: top;\n",
       "    }\n",
       "\n",
       "    .dataframe thead th {\n",
       "        text-align: right;\n",
       "    }\n",
       "</style>\n",
       "<table border=\"1\" class=\"dataframe\">\n",
       "  <thead>\n",
       "    <tr style=\"text-align: right;\">\n",
       "      <th></th>\n",
       "      <th>RATE</th>\n",
       "      <th>SUCCESSES</th>\n",
       "      <th>TOTAL</th>\n",
       "    </tr>\n",
       "    <tr>\n",
       "      <th>project</th>\n",
       "      <th></th>\n",
       "      <th></th>\n",
       "      <th></th>\n",
       "    </tr>\n",
       "  </thead>\n",
       "  <tbody>\n",
       "    <tr>\n",
       "      <th>zfc</th>\n",
       "      <td>0.285024</td>\n",
       "      <td>59</td>\n",
       "      <td>207</td>\n",
       "    </tr>\n",
       "    <tr>\n",
       "      <th>poltac</th>\n",
       "      <td>0.907895</td>\n",
       "      <td>138</td>\n",
       "      <td>152</td>\n",
       "    </tr>\n",
       "    <tr>\n",
       "      <th>dblib</th>\n",
       "      <td>0.496350</td>\n",
       "      <td>68</td>\n",
       "      <td>137</td>\n",
       "    </tr>\n",
       "  </tbody>\n",
       "</table>\n",
       "</div>"
      ],
      "text/plain": [
       "             RATE  SUCCESSES  TOTAL\n",
       "project                            \n",
       "zfc      0.285024         59    207\n",
       "poltac   0.907895        138    152\n",
       "dblib    0.496350         68    137"
      ]
     },
     "execution_count": 9,
     "metadata": {},
     "output_type": "execute_result"
    }
   ],
   "source": [
    "get_by_project_summary(GRAPH2TAC_RESULT)"
   ]
  },
  {
   "cell_type": "code",
   "execution_count": 11,
   "metadata": {},
   "outputs": [
    {
     "data": {
      "text/plain": [
       "RATE           0.556452\n",
       "SUCCESSES    276.000000\n",
       "TOTAL        496.000000\n",
       "Name: rango, dtype: float64"
      ]
     },
     "execution_count": 11,
     "metadata": {},
     "output_type": "execute_result"
    }
   ],
   "source": [
    "get_totals(filtered_rango)"
   ]
  },
  {
   "cell_type": "code",
   "execution_count": 10,
   "metadata": {},
   "outputs": [
    {
     "data": {
      "text/plain": [
       "RATE           0.534274\n",
       "SUCCESSES    265.000000\n",
       "TOTAL        496.000000\n",
       "Name: graph2tac, dtype: float64"
      ]
     },
     "execution_count": 10,
     "metadata": {},
     "output_type": "execute_result"
    }
   ],
   "source": [
    "get_totals(GRAPH2TAC_RESULT)"
   ]
  },
  {
   "cell_type": "markdown",
   "metadata": {},
   "source": [
    "## Cross-Tool Comparison (Test)"
   ]
  },
  {
   "cell_type": "code",
   "execution_count": 4,
   "metadata": {},
   "outputs": [],
   "source": [
    "RANGO_RESULT = load_results(Path(\"evaluations/coqstoq-results/test-rango\"), \"rango\")\n",
    "# TACTICIAN_RESULT = load_results(Path(\"evaluations/coqstoq-results/test-tactician\"), \"tactitian\")\n",
    "# PREFIX_RESULT = load_results(Path(\"evaluations/coqstoq-results/test-abl-prefix\"), \"prefix\")\n",
    "PROVERBOT_RESULT = load_results(Path(\"evaluations/coqstoq-results/test-proverbot\"), \"proverbot\")\n",
    "# ORIG_RANGO_RESULT = load_results(Path(\"evaluations/coqstoq-results/test-orig-rango\"), \"rango (tfidf proof, tfidf prem)\")"
   ]
  },
  {
   "cell_type": "code",
   "execution_count": 5,
   "metadata": {},
   "outputs": [
    {
     "data": {
      "text/html": [
       "<div>\n",
       "<style scoped>\n",
       "    .dataframe tbody tr th:only-of-type {\n",
       "        vertical-align: middle;\n",
       "    }\n",
       "\n",
       "    .dataframe tbody tr th {\n",
       "        vertical-align: top;\n",
       "    }\n",
       "\n",
       "    .dataframe thead th {\n",
       "        text-align: right;\n",
       "    }\n",
       "</style>\n",
       "<table border=\"1\" class=\"dataframe\">\n",
       "  <thead>\n",
       "    <tr style=\"text-align: right;\">\n",
       "      <th></th>\n",
       "      <th>RATE</th>\n",
       "      <th>SUCCESSES</th>\n",
       "      <th>TOTAL</th>\n",
       "    </tr>\n",
       "    <tr>\n",
       "      <th>project</th>\n",
       "      <th></th>\n",
       "      <th></th>\n",
       "      <th></th>\n",
       "    </tr>\n",
       "  </thead>\n",
       "  <tbody>\n",
       "    <tr>\n",
       "      <th>compcert</th>\n",
       "      <td>0.214544</td>\n",
       "      <td>1304</td>\n",
       "      <td>6078</td>\n",
       "    </tr>\n",
       "    <tr>\n",
       "      <th>fourcolor</th>\n",
       "      <td>0.099402</td>\n",
       "      <td>133</td>\n",
       "      <td>1338</td>\n",
       "    </tr>\n",
       "    <tr>\n",
       "      <th>math-classes</th>\n",
       "      <td>0.128440</td>\n",
       "      <td>98</td>\n",
       "      <td>763</td>\n",
       "    </tr>\n",
       "    <tr>\n",
       "      <th>buchberger</th>\n",
       "      <td>0.156535</td>\n",
       "      <td>103</td>\n",
       "      <td>658</td>\n",
       "    </tr>\n",
       "    <tr>\n",
       "      <th>reglang</th>\n",
       "      <td>0.091195</td>\n",
       "      <td>29</td>\n",
       "      <td>318</td>\n",
       "    </tr>\n",
       "    <tr>\n",
       "      <th>poltac</th>\n",
       "      <td>0.540541</td>\n",
       "      <td>140</td>\n",
       "      <td>259</td>\n",
       "    </tr>\n",
       "    <tr>\n",
       "      <th>huffman</th>\n",
       "      <td>0.183594</td>\n",
       "      <td>47</td>\n",
       "      <td>256</td>\n",
       "    </tr>\n",
       "    <tr>\n",
       "      <th>zfc</th>\n",
       "      <td>0.178744</td>\n",
       "      <td>37</td>\n",
       "      <td>207</td>\n",
       "    </tr>\n",
       "    <tr>\n",
       "      <th>zorns-lemma</th>\n",
       "      <td>0.125714</td>\n",
       "      <td>22</td>\n",
       "      <td>175</td>\n",
       "    </tr>\n",
       "    <tr>\n",
       "      <th>ext-lib</th>\n",
       "      <td>0.193939</td>\n",
       "      <td>32</td>\n",
       "      <td>165</td>\n",
       "    </tr>\n",
       "    <tr>\n",
       "      <th>dblib</th>\n",
       "      <td>0.369565</td>\n",
       "      <td>51</td>\n",
       "      <td>138</td>\n",
       "    </tr>\n",
       "    <tr>\n",
       "      <th>hoare-tut</th>\n",
       "      <td>0.291667</td>\n",
       "      <td>7</td>\n",
       "      <td>24</td>\n",
       "    </tr>\n",
       "  </tbody>\n",
       "</table>\n",
       "</div>"
      ],
      "text/plain": [
       "                  RATE  SUCCESSES  TOTAL\n",
       "project                                 \n",
       "compcert      0.214544       1304   6078\n",
       "fourcolor     0.099402        133   1338\n",
       "math-classes  0.128440         98    763\n",
       "buchberger    0.156535        103    658\n",
       "reglang       0.091195         29    318\n",
       "poltac        0.540541        140    259\n",
       "huffman       0.183594         47    256\n",
       "zfc           0.178744         37    207\n",
       "zorns-lemma   0.125714         22    175\n",
       "ext-lib       0.193939         32    165\n",
       "dblib         0.369565         51    138\n",
       "hoare-tut     0.291667          7     24"
      ]
     },
     "execution_count": 5,
     "metadata": {},
     "output_type": "execute_result"
    }
   ],
   "source": [
    "get_by_project_summary(PROVERBOT_RESULT)"
   ]
  },
  {
   "cell_type": "code",
   "execution_count": 19,
   "metadata": {},
   "outputs": [
    {
     "data": {
      "image/png": "[encoded data removed]",
      "text/plain": [
       "<Figure size 640x480 with 1 Axes>"
      ]
     },
     "metadata": {},
     "output_type": "display_data"
    }
   ],
   "source": [
    "mutual_idx = RANGO_RESULT.df.index.intersection(PREFIX_RESULT.df.index).intersection(ORIG_RANGO_RESULT.df.index)\n",
    "filtered_rango = filter_df(RANGO_RESULT, mutual_idx)\n",
    "filtered_prefix = filter_df(PREFIX_RESULT, mutual_idx)\n",
    "filtered_orig_rango = filter_df(ORIG_RANGO_RESULT, mutual_idx)\n",
    "mk_time_plot([filtered_rango, filtered_prefix, filtered_orig_rango])\n",
    "\n",
    "\n",
    "# mutual_idx = RANGO_RESULT.df.index.intersection(PREFIX_RESULT.df.index)\n",
    "# filtered_rango = filter_df(RANGO_RESULT, mutual_idx)\n",
    "# filtered_prefix = filter_df(PREFIX_RESULT, mutual_idx)\n",
    "# joint_eval = create_joint_eval(filtered_rango, filtered_prefix)\n",
    "# # joint_eval = create_joint_eval(filtered_rango, filtered_prefix, normalize=False)\n",
    "# mk_time_plot([filtered_rango, filtered_prefix, joint_eval])"
   ]
  },
  {
   "cell_type": "code",
   "execution_count": 12,
   "metadata": {},
   "outputs": [
    {
     "data": {
      "text/plain": [
       "RATE            0.321325\n",
       "SUCCESSES    3202.000000\n",
       "TOTAL        9965.000000\n",
       "Name: rango, dtype: float64"
      ]
     },
     "execution_count": 12,
     "metadata": {},
     "output_type": "execute_result"
    }
   ],
   "source": [
    "get_totals(filtered_rango)"
   ]
  },
  {
   "cell_type": "code",
   "execution_count": 13,
   "metadata": {},
   "outputs": [
    {
     "data": {
      "text/plain": [
       "RATE            0.315605\n",
       "SUCCESSES    3145.000000\n",
       "TOTAL        9965.000000\n",
       "Name: prefix, dtype: float64"
      ]
     },
     "execution_count": 13,
     "metadata": {},
     "output_type": "execute_result"
    }
   ],
   "source": [
    "get_totals(filtered_prefix)"
   ]
  },
  {
   "cell_type": "code",
   "execution_count": 8,
   "metadata": {},
   "outputs": [],
   "source": [
    "PROVERBOT_RESULT = load_results(Path(\"evaluations/coqstoq-results/test-proverbot\"), \"proverbot\")"
   ]
  },
  {
   "cell_type": "code",
   "execution_count": 9,
   "metadata": {},
   "outputs": [
    {
     "data": {
      "text/html": [
       "<div>\n",
       "<style scoped>\n",
       "    .dataframe tbody tr th:only-of-type {\n",
       "        vertical-align: middle;\n",
       "    }\n",
       "\n",
       "    .dataframe tbody tr th {\n",
       "        vertical-align: top;\n",
       "    }\n",
       "\n",
       "    .dataframe thead th {\n",
       "        text-align: right;\n",
       "    }\n",
       "</style>\n",
       "<table border=\"1\" class=\"dataframe\">\n",
       "  <thead>\n",
       "    <tr style=\"text-align: right;\">\n",
       "      <th></th>\n",
       "      <th>RATE</th>\n",
       "      <th>SUCCESSES</th>\n",
       "      <th>TOTAL</th>\n",
       "    </tr>\n",
       "    <tr>\n",
       "      <th>project</th>\n",
       "      <th></th>\n",
       "      <th></th>\n",
       "      <th></th>\n",
       "    </tr>\n",
       "  </thead>\n",
       "  <tbody>\n",
       "    <tr>\n",
       "      <th>compcert</th>\n",
       "      <td>0.325562</td>\n",
       "      <td>1983</td>\n",
       "      <td>6091</td>\n",
       "    </tr>\n",
       "    <tr>\n",
       "      <th>fourcolor</th>\n",
       "      <td>0.158091</td>\n",
       "      <td>212</td>\n",
       "      <td>1341</td>\n",
       "    </tr>\n",
       "    <tr>\n",
       "      <th>math-classes</th>\n",
       "      <td>0.397117</td>\n",
       "      <td>303</td>\n",
       "      <td>763</td>\n",
       "    </tr>\n",
       "    <tr>\n",
       "      <th>buchberger</th>\n",
       "      <td>0.273556</td>\n",
       "      <td>180</td>\n",
       "      <td>658</td>\n",
       "    </tr>\n",
       "    <tr>\n",
       "      <th>reglang</th>\n",
       "      <td>0.132075</td>\n",
       "      <td>42</td>\n",
       "      <td>318</td>\n",
       "    </tr>\n",
       "    <tr>\n",
       "      <th>poltac</th>\n",
       "      <td>0.833977</td>\n",
       "      <td>216</td>\n",
       "      <td>259</td>\n",
       "    </tr>\n",
       "    <tr>\n",
       "      <th>huffman</th>\n",
       "      <td>0.320312</td>\n",
       "      <td>82</td>\n",
       "      <td>256</td>\n",
       "    </tr>\n",
       "    <tr>\n",
       "      <th>zfc</th>\n",
       "      <td>0.362319</td>\n",
       "      <td>75</td>\n",
       "      <td>207</td>\n",
       "    </tr>\n",
       "    <tr>\n",
       "      <th>zorns-lemma</th>\n",
       "      <td>0.291429</td>\n",
       "      <td>51</td>\n",
       "      <td>175</td>\n",
       "    </tr>\n",
       "    <tr>\n",
       "      <th>ext-lib</th>\n",
       "      <td>0.636364</td>\n",
       "      <td>105</td>\n",
       "      <td>165</td>\n",
       "    </tr>\n",
       "    <tr>\n",
       "      <th>dblib</th>\n",
       "      <td>0.536232</td>\n",
       "      <td>74</td>\n",
       "      <td>138</td>\n",
       "    </tr>\n",
       "    <tr>\n",
       "      <th>hoare-tut</th>\n",
       "      <td>0.320000</td>\n",
       "      <td>8</td>\n",
       "      <td>25</td>\n",
       "    </tr>\n",
       "  </tbody>\n",
       "</table>\n",
       "</div>"
      ],
      "text/plain": [
       "                  RATE  SUCCESSES  TOTAL\n",
       "project                                 \n",
       "compcert      0.325562       1983   6091\n",
       "fourcolor     0.158091        212   1341\n",
       "math-classes  0.397117        303    763\n",
       "buchberger    0.273556        180    658\n",
       "reglang       0.132075         42    318\n",
       "poltac        0.833977        216    259\n",
       "huffman       0.320312         82    256\n",
       "zfc           0.362319         75    207\n",
       "zorns-lemma   0.291429         51    175\n",
       "ext-lib       0.636364        105    165\n",
       "dblib         0.536232         74    138\n",
       "hoare-tut     0.320000          8     25"
      ]
     },
     "execution_count": 9,
     "metadata": {},
     "output_type": "execute_result"
    }
   ],
   "source": [
    "get_by_project_summary(RANGO_RESULT)"
   ]
  },
  {
   "cell_type": "code",
   "execution_count": 10,
   "metadata": {},
   "outputs": [
    {
     "data": {
      "text/html": [
       "<div>\n",
       "<style scoped>\n",
       "    .dataframe tbody tr th:only-of-type {\n",
       "        vertical-align: middle;\n",
       "    }\n",
       "\n",
       "    .dataframe tbody tr th {\n",
       "        vertical-align: top;\n",
       "    }\n",
       "\n",
       "    .dataframe thead th {\n",
       "        text-align: right;\n",
       "    }\n",
       "</style>\n",
       "<table border=\"1\" class=\"dataframe\">\n",
       "  <thead>\n",
       "    <tr style=\"text-align: right;\">\n",
       "      <th></th>\n",
       "      <th>RATE</th>\n",
       "      <th>SUCCESSES</th>\n",
       "      <th>TOTAL</th>\n",
       "    </tr>\n",
       "    <tr>\n",
       "      <th>project</th>\n",
       "      <th></th>\n",
       "      <th></th>\n",
       "      <th></th>\n",
       "    </tr>\n",
       "  </thead>\n",
       "  <tbody>\n",
       "    <tr>\n",
       "      <th>compcert</th>\n",
       "      <td>0.325562</td>\n",
       "      <td>1983</td>\n",
       "      <td>6091</td>\n",
       "    </tr>\n",
       "    <tr>\n",
       "      <th>fourcolor</th>\n",
       "      <td>0.158091</td>\n",
       "      <td>212</td>\n",
       "      <td>1341</td>\n",
       "    </tr>\n",
       "    <tr>\n",
       "      <th>math-classes</th>\n",
       "      <td>0.397117</td>\n",
       "      <td>303</td>\n",
       "      <td>763</td>\n",
       "    </tr>\n",
       "    <tr>\n",
       "      <th>buchberger</th>\n",
       "      <td>0.273556</td>\n",
       "      <td>180</td>\n",
       "      <td>658</td>\n",
       "    </tr>\n",
       "    <tr>\n",
       "      <th>reglang</th>\n",
       "      <td>0.132075</td>\n",
       "      <td>42</td>\n",
       "      <td>318</td>\n",
       "    </tr>\n",
       "    <tr>\n",
       "      <th>poltac</th>\n",
       "      <td>0.833977</td>\n",
       "      <td>216</td>\n",
       "      <td>259</td>\n",
       "    </tr>\n",
       "    <tr>\n",
       "      <th>huffman</th>\n",
       "      <td>0.320312</td>\n",
       "      <td>82</td>\n",
       "      <td>256</td>\n",
       "    </tr>\n",
       "    <tr>\n",
       "      <th>zfc</th>\n",
       "      <td>0.362319</td>\n",
       "      <td>75</td>\n",
       "      <td>207</td>\n",
       "    </tr>\n",
       "    <tr>\n",
       "      <th>zorns-lemma</th>\n",
       "      <td>0.291429</td>\n",
       "      <td>51</td>\n",
       "      <td>175</td>\n",
       "    </tr>\n",
       "    <tr>\n",
       "      <th>ext-lib</th>\n",
       "      <td>0.636364</td>\n",
       "      <td>105</td>\n",
       "      <td>165</td>\n",
       "    </tr>\n",
       "    <tr>\n",
       "      <th>dblib</th>\n",
       "      <td>0.536232</td>\n",
       "      <td>74</td>\n",
       "      <td>138</td>\n",
       "    </tr>\n",
       "    <tr>\n",
       "      <th>hoare-tut</th>\n",
       "      <td>0.320000</td>\n",
       "      <td>8</td>\n",
       "      <td>25</td>\n",
       "    </tr>\n",
       "  </tbody>\n",
       "</table>\n",
       "</div>"
      ],
      "text/plain": [
       "                  RATE  SUCCESSES  TOTAL\n",
       "project                                 \n",
       "compcert      0.325562       1983   6091\n",
       "fourcolor     0.158091        212   1341\n",
       "math-classes  0.397117        303    763\n",
       "buchberger    0.273556        180    658\n",
       "reglang       0.132075         42    318\n",
       "poltac        0.833977        216    259\n",
       "huffman       0.320312         82    256\n",
       "zfc           0.362319         75    207\n",
       "zorns-lemma   0.291429         51    175\n",
       "ext-lib       0.636364        105    165\n",
       "dblib         0.536232         74    138\n",
       "hoare-tut     0.320000          8     25"
      ]
     },
     "execution_count": 10,
     "metadata": {},
     "output_type": "execute_result"
    }
   ],
   "source": [
    "get_by_project_summary(RANGO_RESULT)"
   ]
  },
  {
   "cell_type": "code",
   "execution_count": 11,
   "metadata": {},
   "outputs": [
    {
     "data": {
      "text/plain": [
       "RATE             0.202866\n",
       "SUCCESSES     2109.000000\n",
       "TOTAL        10396.000000\n",
       "Name: tactitian, dtype: float64"
      ]
     },
     "execution_count": 11,
     "metadata": {},
     "output_type": "execute_result"
    }
   ],
   "source": [
    "get_totals(TACTICIAN_RESULT)"
   ]
  },
  {
   "cell_type": "code",
   "execution_count": 12,
   "metadata": {},
   "outputs": [
    {
     "data": {
      "text/plain": [
       "RATE             0.320412\n",
       "SUCCESSES     3331.000000\n",
       "TOTAL        10396.000000\n",
       "Name: rango, dtype: float64"
      ]
     },
     "execution_count": 12,
     "metadata": {},
     "output_type": "execute_result"
    }
   ],
   "source": [
    "get_totals(RANGO_RESULT)"
   ]
  }
 ],
 "metadata": {
  "kernelspec": {
   "display_name": "venv",
   "language": "python",
   "name": "python3"
  },
  "language_info": {
   "codemirror_mode": {
    "name": "ipython",
    "version": 3
   },
   "file_extension": ".py",
   "mimetype": "text/x-python",
   "name": "python",
   "nbconvert_exporter": "python",
   "pygments_lexer": "ipython3",
   "version": "3.11.0"
  }
 },
 "nbformat": 4,
 "nbformat_minor": 2
}
