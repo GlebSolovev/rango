{
 "cells": [
  {
   "cell_type": "code",
   "execution_count": 67,
   "metadata": {},
   "outputs": [],
   "source": [
    "import os\n",
    "import json\n",
    "from pathlib import Path\n",
    "from coqstoq import EvalTheorem\n",
    "from coqstoq.check import EvalResults\n",
    "import random"
   ]
  },
  {
   "cell_type": "code",
   "execution_count": 15,
   "metadata": {},
   "outputs": [],
   "source": [
    "if Path(os.curdir).resolve().name == \"evaluation\":\n",
    "    os.chdir(\"../..\")\n",
    "elif Path(os.curdir).resolve().name == \"coq-modeling\":\n",
    "    pass\n",
    "else:\n",
    "    raise ValueError(f\"In an unexpected directory: {os.curdir}\")"
   ]
  },
  {
   "cell_type": "code",
   "execution_count": 16,
   "metadata": {},
   "outputs": [],
   "source": [
    "def load_results(loc: Path) -> EvalResults:\n",
    "    with loc.open() as fin:\n",
    "        eval_data = json.load(fin) \n",
    "        return EvalResults.from_json(eval_data)"
   ]
  },
  {
   "cell_type": "code",
   "execution_count": 71,
   "metadata": {},
   "outputs": [],
   "source": [
    "HUMAN_LOC = Path(\"evaluations/human.json\")\n",
    "RANGO_LOC = Path(\"evaluations/rango-results.json\")\n",
    "TACTICIAN_LOC = Path(\"evaluations/tactician-results.json\")\n",
    "PROVERBOT_LOC = Path(\"evaluations/proverbot-results.json\")\n",
    "\n",
    "COQSTOQ_LOC = Path(\"/work/pi_brun_umass_edu/kthompson/CoqStoq\")\n",
    "ANALYSIS_LOC = Path(\"evaluations/analysis\")\n",
    "os.makedirs(ANALYSIS_LOC, exist_ok=True)\n",
    "SUCCESSES_HUMAN_LOC = ANALYSIS_LOC / \"successes-human.v\"\n",
    "SUCCESSES_RANGO_LOC = ANALYSIS_LOC / \"successes-rango.v\"\n",
    "FAILURES_LOC = ANALYSIS_LOC / \"failures.v\"\n",
    "\n"
   ]
  },
  {
   "cell_type": "code",
   "execution_count": 18,
   "metadata": {},
   "outputs": [],
   "source": [
    "HUMAN_EVAL = load_results(HUMAN_LOC)\n",
    "RANGO_EVAL = load_results(RANGO_LOC)\n",
    "TACTICIAN_EVAL = load_results(TACTICIAN_LOC)\n",
    "PROVERBOT_EVAL = load_results(PROVERBOT_LOC)"
   ]
  },
  {
   "cell_type": "code",
   "execution_count": 19,
   "metadata": {},
   "outputs": [],
   "source": [
    "def sample_successes(eval: EvalResults, sample_num: int, seed: int, timeout: int=600) -> list[int]:\n",
    "    random.seed(seed)\n",
    "    successes = [i for i, res in enumerate(eval.results) if res.proof is not None and res.time is not None and res.time < timeout]\n",
    "    return random.sample(successes, sample_num)\n",
    "\n",
    "\n",
    "def sample_failures(eval: EvalResults, sample_num: int, seed: int, timeout: int=600) -> list[int]:\n",
    "    random.seed(seed)\n",
    "    failures = [i for i, res in enumerate(eval.results) if res.proof is None or res.time is None or timeout <= res.time]\n",
    "    return random.sample(failures, sample_num)\n",
    "\n",
    "\n",
    "success_sample = sample_successes(RANGO_EVAL, 20, 0)\n",
    "failure_sample = sample_failures(RANGO_EVAL, 20, 0)\n"
   ]
  },
  {
   "cell_type": "code",
   "execution_count": 73,
   "metadata": {},
   "outputs": [],
   "source": [
    "def get_theorem_str(thm: EvalTheorem, coqstoq_loc: Path) -> str:\n",
    "    path = coqstoq_loc / thm.project.workspace / thm.path\n",
    "    with path.open(\"r\") as fin:\n",
    "        contents = fin.read()\n",
    "    thm_lines = contents.split(\"\\n\")[thm.theorem_start_pos.line:(thm.theorem_end_pos.line + 1)]\n",
    "    thm_lines[-1] = thm_lines[-1][:thm.theorem_end_pos.column]\n",
    "    thm_lines[0] = thm_lines[0][thm.theorem_start_pos.column:]\n",
    "    return \"\\n\".join(thm_lines)\n"
   ]
  },
  {
   "cell_type": "markdown",
   "metadata": {},
   "source": [
    "## Inspect a Success"
   ]
  },
  {
   "cell_type": "code",
   "execution_count": null,
   "metadata": {},
   "outputs": [
    {
     "name": "stdout",
     "output_type": "stream",
     "text": [
      "Info\n",
      "Coqstoq id 1201\n",
      "File: compcert/backend/Selectionproof.v\n",
      "Line: 163\n",
      "Rango Proof\n",
      "\n",
      "Proof.\n",
      "  intros. destruct f; monadInv H; auto.\n",
      "Qed.\n",
      "Human Proof\n",
      "Proof.\n",
      "  intros. monadInv H. auto.\n",
      "Qed.\n"
     ]
    }
   ],
   "source": [
    "INSPECT_IDX = 19\n",
    "proof_idx = success_sample[INSPECT_IDX]\n",
    "result = RANGO_EVAL.results[proof_idx]\n",
    "thm = result.thm\n",
    "file = thm.project.workspace.name / thm.path\n",
    "line = thm.theorem_start_pos.line\n",
    "assert result.proof is not None\n",
    "print(\"Info\")\n",
    "print(f\"Coqstoq id {proof_idx}\")\n",
    "print(f\"File: {file}\")\n",
    "print(f\"Line: {line}\")\n",
    "print(\"Rango Proof\")\n",
    "print(result.proof)\n",
    "print(\"Human Proof\")\n",
    "print(HUMAN_EVAL.results[proof_idx].proof)\n"
   ]
  },
  {
   "cell_type": "code",
   "execution_count": 75,
   "metadata": {},
   "outputs": [],
   "source": [
    "\n",
    "rango_strs: list[str] = []\n",
    "human_strs: list[str] = []\n",
    "\n",
    "for pidx in success_sample:\n",
    "    rango_result = RANGO_EVAL.results[pidx]\n",
    "    human_result = HUMAN_EVAL.results[pidx]\n",
    "    file = rango_result.thm.project.workspace.name / rango_result.thm.path\n",
    "    line = rango_result.thm.theorem_start_pos.line\n",
    "    assert rango_result.proof is not None\n",
    "    assert human_result.proof is not None\n",
    "    p_thm = get_theorem_str(RANGO_EVAL.results[pidx].thm, COQSTOQ_LOC)\n",
    "    rango_str = f\"(** Coqstoq id {pidx}; file {file}; line {line} **)\\n{p_thm}{rango_result.proof}\"\n",
    "    human_str = f\"(** Coqstoq id {pidx}; file {file}; line {line} **)\\n{p_thm}{human_result.proof}\"\n",
    "    rango_strs.append(rango_str)\n",
    "    human_strs.append(human_str)\n",
    "\n",
    "with SUCCESSES_RANGO_LOC.open(\"w\") as fout:\n",
    "    fout.write(\"\\n\\n\".join(rango_strs))\n",
    "\n",
    "with SUCCESSES_HUMAN_LOC.open(\"w\") as fout:\n",
    "    fout.write(\"\\n\\n\".join(human_strs))\n",
    "    "
   ]
  },
  {
   "cell_type": "markdown",
   "metadata": {},
   "source": [
    "## Inspect a Failure"
   ]
  },
  {
   "cell_type": "code",
   "execution_count": 66,
   "metadata": {},
   "outputs": [
    {
     "name": "stdout",
     "output_type": "stream",
     "text": [
      "Info\n",
      "Coqstoq id 1710\n",
      "File: compcert/cfrontend/SimplExprspec.v\n",
      "Line: 377\n",
      "Human Proof\n",
      "Proof.\n",
      "  specialize tr_rvalof_monotone. intros RVALOF.\n",
      "  induction 1; intros; econstructor; unfold incl in *; eauto.\n",
      "  induction 1; intros; econstructor; unfold incl in *; eauto.\n",
      "Qed.\n"
     ]
    }
   ],
   "source": [
    "INSPECT_IDX = 19\n",
    "proof_idx = failure_sample[INSPECT_IDX]\n",
    "human_result = HUMAN_EVAL.results[proof_idx] \n",
    "thm = human_result.thm\n",
    "file = thm.project.workspace.name / thm.path\n",
    "line = thm.theorem_start_pos.line\n",
    "assert human_result.proof is not None\n",
    "print(\"Info\")\n",
    "print(f\"Coqstoq id {proof_idx}\")\n",
    "print(f\"File: {file}\")\n",
    "print(f\"Line: {line}\")\n",
    "print(\"Human Proof\")\n",
    "print(human_result.proof)"
   ]
  },
  {
   "cell_type": "code",
   "execution_count": null,
   "metadata": {},
   "outputs": [],
   "source": [
    "human_strs: list[str] = []\n",
    "\n",
    "for pidx in failure_sample:\n",
    "    human_result = HUMAN_EVAL.results[pidx]\n",
    "    file = rango_result.thm.project.workspace.name / rango_result.thm.path\n",
    "    line = rango_result.thm.theorem_start_pos.line\n",
    "    assert rango_result.proof is not None\n",
    "    assert human_result.proof is not None\n",
    "    p_thm = get_theorem_str(RANGO_EVAL.results[pidx].thm, COQSTOQ_LOC)\n",
    "    rango_str = f\"(** Coqstoq id {pidx}; file {file}; line {line} **)\\n{p_thm}{rango_result.proof}\"\n",
    "    human_str = f\"(** Coqstoq id {pidx}; file {file}; line {line} **)\\n{p_thm}{human_result.proof}\"\n",
    "    rango_strs.append(rango_str)\n",
    "    human_strs.append(human_str)\n",
    "\n",
    "with SUCCESSES_RANGO_LOC.open(\"w\") as fout:\n",
    "    fout.write(\"\\n\\n\".join(rango_strs))\n",
    "\n",
    "with SUCCESSES_HUMAN_LOC.open(\"w\") as fout:\n",
    "    fout.write(\"\\n\\n\".join(human_strs))"
   ]
  }
 ],
 "metadata": {
  "kernelspec": {
   "display_name": "venv",
   "language": "python",
   "name": "python3"
  },
  "language_info": {
   "codemirror_mode": {
    "name": "ipython",
    "version": 3
   },
   "file_extension": ".py",
   "mimetype": "text/x-python",
   "name": "python",
   "nbconvert_exporter": "python",
   "pygments_lexer": "ipython3",
   "version": "3.11.0"
  }
 },
 "nbformat": 4,
 "nbformat_minor": 2
}
