{
 "cells": [
  {
   "cell_type": "code",
   "execution_count": 14,
   "metadata": {},
   "outputs": [],
   "source": [
    "from evaluation.eval_analysis import find_shared_proofs, EvalDict, filter_all_successful, filter_all_failure"
   ]
  },
  {
   "cell_type": "code",
   "execution_count": 15,
   "metadata": {},
   "outputs": [],
   "source": [
    "EVAL_DIRS = [\n",
    "    #(\"Full dataset\", \"/home/ubuntu/coq-modeling/evals/codellama-7b-basic-rnd-split\"),\n",
    "    #(\"15% dataset\", \"/home/ubuntu/coq-modeling/evals/codellama-7b-basic-rnd-split-rnd-samp-15-pct\"),\n",
    "    #(\"8% dataset\", \"/home/ubuntu/coq-modeling/evals/codellama-7b-basic-rnd-split-rnd-samp-8-pct\"),\n",
    "    #(\"8% dataset w/ tpe (n tactics)\", \"/home/ubuntu/coq-modeling/evals/codellama-7b-tpe-1k-rnd-split-rnd-samp-8-pct\"),\n",
    "    #(\"8% dataset w/ tpe (n tactics) & fallback\", \"/home/ubuntu/coq-modeling/evals/codellama-7b-tpe-1k-fallback-rnd-split-rnd-samp-8-pct\"),\n",
    "    #(\"8% dataset w/ tpe (n tactics) & fallback 2\", \"/home/ubuntu/coq-modeling/evals/codellama-7b-tpe-1k-fallback-2-rnd-split-rnd-samp-8-pct\"),\n",
    "    #(\"8% dataset w/ optimal prf retrieval\", \"/home/ubuntu/coq-modeling/evals/codellama-7b-prf-oracle-rnd-split-rnd-samp-8-pct\"),\n",
    "    (\"8% dataset w/ premise selection\", \"/home/ubuntu/coq-modeling/evals/codellama-7b-premise-rnd-split-rnd-samp-8-pct\"),\n",
    "    (\"8% dataset w/ premise selection no coq\", \"/home/ubuntu/coq-modeling/evals/codellama-7b-premise-no-coq-rnd-split-rnd-samp-8-pct\"),\n",
    "]\n"
   ]
  },
  {
   "cell_type": "code",
   "execution_count": 16,
   "metadata": {},
   "outputs": [],
   "source": [
    "eval_dirs = [b for _, b in EVAL_DIRS]\n",
    "shared_proof_names = find_shared_proofs(eval_dirs)"
   ]
  },
  {
   "cell_type": "code",
   "execution_count": 17,
   "metadata": {},
   "outputs": [],
   "source": [
    "eval_dicts = [EvalDict.from_shared_proofs(e, p, shared_proof_names) for e, p in EVAL_DIRS[:2]]"
   ]
  },
  {
   "cell_type": "code",
   "execution_count": 18,
   "metadata": {},
   "outputs": [],
   "source": [
    "eval_dict1 = eval_dicts[0]\n",
    "eval_dict2 = eval_dicts[1]"
   ]
  },
  {
   "cell_type": "code",
   "execution_count": 24,
   "metadata": {},
   "outputs": [
    {
     "data": {
      "text/plain": [
       "'8% dataset w/ premise selection'"
      ]
     },
     "execution_count": 24,
     "metadata": {},
     "output_type": "execute_result"
    }
   ],
   "source": [
    "eval_dict1.eval_name"
   ]
  },
  {
   "cell_type": "code",
   "execution_count": 28,
   "metadata": {},
   "outputs": [
    {
     "data": {
      "text/plain": [
       "'8% dataset w/ premise selection no coq'"
      ]
     },
     "execution_count": 28,
     "metadata": {},
     "output_type": "execute_result"
    }
   ],
   "source": [
    "eval_dict2.eval_name"
   ]
  },
  {
   "cell_type": "code",
   "execution_count": 29,
   "metadata": {},
   "outputs": [
    {
     "data": {
      "text/plain": [
       "67"
      ]
     },
     "execution_count": 29,
     "metadata": {},
     "output_type": "execute_result"
    }
   ],
   "source": [
    "len(filter_all_successful(shared_proof_names, eval_dicts))"
   ]
  },
  {
   "cell_type": "code",
   "execution_count": 30,
   "metadata": {},
   "outputs": [
    {
     "data": {
      "text/plain": [
       "109"
      ]
     },
     "execution_count": 30,
     "metadata": {},
     "output_type": "execute_result"
    }
   ],
   "source": [
    "len(filter_all_failure(shared_proof_names, eval_dicts))"
   ]
  },
  {
   "cell_type": "code",
   "execution_count": 31,
   "metadata": {},
   "outputs": [
    {
     "data": {
      "text/plain": [
       "263"
      ]
     },
     "execution_count": 31,
     "metadata": {},
     "output_type": "execute_result"
    }
   ],
   "source": [
    "len(shared_proof_names)"
   ]
  },
  {
   "cell_type": "code",
   "execution_count": 33,
   "metadata": {},
   "outputs": [
    {
     "data": {
      "text/plain": [
       "252"
      ]
     },
     "execution_count": 33,
     "metadata": {},
     "output_type": "execute_result"
    }
   ],
   "source": [
    "154 + 67 + 19 + 12"
   ]
  },
  {
   "cell_type": "code",
   "execution_count": 19,
   "metadata": {},
   "outputs": [],
   "source": [
    "successful1 = filter_all_successful(shared_proof_names, [eval_dict1])\n",
    "failed2 = filter_all_failure(successful1, [eval_dict2])"
   ]
  },
  {
   "cell_type": "code",
   "execution_count": 25,
   "metadata": {},
   "outputs": [
    {
     "data": {
      "text/plain": [
       "96"
      ]
     },
     "execution_count": 25,
     "metadata": {},
     "output_type": "execute_result"
    }
   ],
   "source": [
    "len(successful1)"
   ]
  },
  {
   "cell_type": "code",
   "execution_count": 21,
   "metadata": {},
   "outputs": [
    {
     "data": {
      "text/plain": [
       "{'AnaBraz26-LC1-2021-2-UNB-Prova_Logica_minimal_Coq.v:37.json',\n",
       " 'HydLa-Coq-Impl-of-Denotational-Semantics-src-Util.v:41.json',\n",
       " 'Ptival-extensible-nanopass-compiler-Theory-UniversalProperty.v:51.json',\n",
       " 'domin144-coq_astronaut-astronaut.v:28.json',\n",
       " 'giannosch-lexicographic-fixed-point-BasicLogic.v:31.json',\n",
       " 'jonsterling-guarded-theories-GuardedLF.v:45.json',\n",
       " 'kipa00-coq-number-theory-basic_arith.v:15.json',\n",
       " 'linksplatform-Theory-associative_proofs-coq-Theorem_1.v:49.json',\n",
       " 'nbun-pps-coq-src-Exercises-SOS_1_Example.v:26.json',\n",
       " 'pwilke-seculog-While2Stk.v:34.json',\n",
       " 'tchajed-coq-sep-logic-src-Reification-Sorting.v:11.json',\n",
       " 'tmoux-game-theory-theories-Grundy.v:115.json'}"
      ]
     },
     "execution_count": 21,
     "metadata": {},
     "output_type": "execute_result"
    }
   ],
   "source": [
    "failed2 # Premise selection coq succeed, premise selection no coq failed"
   ]
  },
  {
   "cell_type": "code",
   "execution_count": 34,
   "metadata": {},
   "outputs": [
    {
     "data": {
      "text/plain": [
       "12"
      ]
     },
     "execution_count": 34,
     "metadata": {},
     "output_type": "execute_result"
    }
   ],
   "source": [
    "len(failed2)"
   ]
  },
  {
   "cell_type": "code",
   "execution_count": 35,
   "metadata": {},
   "outputs": [],
   "source": [
    "successful2 = filter_all_successful(shared_proof_names, [eval_dict2])\n",
    "failed1 = filter_all_failure(successful2, [eval_dict1])"
   ]
  },
  {
   "cell_type": "code",
   "execution_count": 26,
   "metadata": {},
   "outputs": [
    {
     "data": {
      "text/plain": [
       "88"
      ]
     },
     "execution_count": 26,
     "metadata": {},
     "output_type": "execute_result"
    }
   ],
   "source": [
    "len(successful2)"
   ]
  },
  {
   "cell_type": "code",
   "execution_count": 36,
   "metadata": {},
   "outputs": [
    {
     "data": {
      "text/plain": [
       "{'Calvin-L-snf-src-NNFProp.v:53.json',\n",
       " 'CedricTarbouriech-PhD-coq-bennett.v:11.json',\n",
       " 'CedricTarbouriech-PhD-coq-bennett.v:40.json',\n",
       " 'CedricTarbouriech-PhD-coq-bennett.v:73.json',\n",
       " 'HydLa-Coq-Impl-of-Denotational-Semantics-src-Util.v:63.json',\n",
       " 'Ptival-extensible-nanopass-compiler-Theory-UniversalProperty.v:76.json',\n",
       " 'choukh-Set-Theory-Axiom-ZFC2.v:28.json',\n",
       " 'domin144-coq_astronaut-astronaut.v:15.json',\n",
       " 'domin144-coq_astronaut-astronaut.v:97.json',\n",
       " 'giannosch-lexicographic-fixed-point-BasicLogic.v:120.json',\n",
       " 'ivankrut856-Coq-theories-supp.v:12.json',\n",
       " 'jadephilipoom-optimizer-src-Util-ZUtil.v:12.json',\n",
       " 'mniip-ZF-Logic.v:3.json',\n",
       " 'rswarbrick-eder84-FinSet-ListFacts.v:37.json',\n",
       " 'rswarbrick-eder84-FinSet-Remove.v:19.json',\n",
       " 'rswarbrick-eder84-FinSet-Remove.v:67.json',\n",
       " 'tmoux-game-theory-theories-Grundy.v:88.json',\n",
       " 'tmoux-game-theory-theories-Grundy.v:93.json',\n",
       " 'tmoux-game-theory-theories-SumGames.v:56.json'}"
      ]
     },
     "execution_count": 36,
     "metadata": {},
     "output_type": "execute_result"
    }
   ],
   "source": [
    "failed1"
   ]
  },
  {
   "cell_type": "code",
   "execution_count": 37,
   "metadata": {},
   "outputs": [
    {
     "data": {
      "text/plain": [
       "19"
      ]
     },
     "execution_count": 37,
     "metadata": {},
     "output_type": "execute_result"
    }
   ],
   "source": [
    "len(failed1)"
   ]
  }
 ],
 "metadata": {
  "kernelspec": {
   "display_name": "venv",
   "language": "python",
   "name": "python3"
  },
  "language_info": {
   "codemirror_mode": {
    "name": "ipython",
    "version": 3
   },
   "file_extension": ".py",
   "mimetype": "text/x-python",
   "name": "python",
   "nbconvert_exporter": "python",
   "pygments_lexer": "ipython3",
   "version": "3.10.12"
  }
 },
 "nbformat": 4,
 "nbformat_minor": 2
}
