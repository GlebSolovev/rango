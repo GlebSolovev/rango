{
 "cells": [
  {
   "cell_type": "code",
   "execution_count": 9,
   "metadata": {},
   "outputs": [],
   "source": [
    "from llama.model import ModelArgs, Transformer\n",
    "from transformers import CodeLlamaTokenizer \n",
    "from fairscale.nn.model_parallel.initialize import (\n",
    "    get_model_parallel_rank,\n",
    "    initialize_model_parallel,\n",
    "    model_parallel_is_initialized,\n",
    ")"
   ]
  },
  {
   "cell_type": "code",
   "execution_count": 4,
   "metadata": {},
   "outputs": [],
   "source": [
    "tokenizer = CodeLlamaTokenizer.from_pretrained(\"codellama/CodeLlama-7b-hf\")"
   ]
  },
  {
   "cell_type": "code",
   "execution_count": 5,
   "metadata": {},
   "outputs": [],
   "source": [
    "args = ModelArgs(\n",
    "    dim=128,\n",
    "    n_layers=4,\n",
    "    n_heads=4,\n",
    "    vocab_size=tokenizer.vocab_size,\n",
    ")"
   ]
  },
  {
   "cell_type": "code",
   "execution_count": 13,
   "metadata": {},
   "outputs": [],
   "source": [
    "import os\n",
    "os.environ[\"MASTER_ADDR\"] = \"127.0.0.1\"\n",
    "os.environ[\"MASTER_PORT\"] = \"12345\""
   ]
  },
  {
   "cell_type": "code",
   "execution_count": 14,
   "metadata": {},
   "outputs": [
    {
     "ename": "ValueError",
     "evalue": "port must have value from 0 to 65535 but was 123456.",
     "output_type": "error",
     "traceback": [
      "\u001b[0;31m---------------------------------------------------------------------------\u001b[0m",
      "\u001b[0;31mValueError\u001b[0m                                Traceback (most recent call last)",
      "\u001b[1;32m/home/kthompson/coq-modeling/notebooks/tactic_gen/custom_codellama.ipynb Cell 5\u001b[0m line \u001b[0;36m5\n\u001b[1;32m      <a href='vscode-notebook-cell://ssh-remote%2Bdraco/home/kthompson/coq-modeling/notebooks/tactic_gen/custom_codellama.ipynb#W4sdnNjb2RlLXJlbW90ZQ%3D%3D?line=2'>3</a>\u001b[0m device \u001b[39m=\u001b[39m \u001b[39m\"\u001b[39m\u001b[39mcuda\u001b[39m\u001b[39m\"\u001b[39m \n\u001b[1;32m      <a href='vscode-notebook-cell://ssh-remote%2Bdraco/home/kthompson/coq-modeling/notebooks/tactic_gen/custom_codellama.ipynb#W4sdnNjb2RlLXJlbW90ZQ%3D%3D?line=3'>4</a>\u001b[0m \u001b[39mif\u001b[39;00m \u001b[39mnot\u001b[39;00m torch\u001b[39m.\u001b[39mdistributed\u001b[39m.\u001b[39mis_initialized():\n\u001b[0;32m----> <a href='vscode-notebook-cell://ssh-remote%2Bdraco/home/kthompson/coq-modeling/notebooks/tactic_gen/custom_codellama.ipynb#W4sdnNjb2RlLXJlbW90ZQ%3D%3D?line=4'>5</a>\u001b[0m         torch\u001b[39m.\u001b[39;49mdistributed\u001b[39m.\u001b[39;49minit_process_group(\u001b[39m\"\u001b[39;49m\u001b[39mnccl\u001b[39;49m\u001b[39m\"\u001b[39;49m, rank\u001b[39m=\u001b[39;49m\u001b[39m1\u001b[39;49m, world_size\u001b[39m=\u001b[39;49m\u001b[39m1\u001b[39;49m)\n\u001b[1;32m      <a href='vscode-notebook-cell://ssh-remote%2Bdraco/home/kthompson/coq-modeling/notebooks/tactic_gen/custom_codellama.ipynb#W4sdnNjb2RlLXJlbW90ZQ%3D%3D?line=5'>6</a>\u001b[0m \u001b[39mif\u001b[39;00m \u001b[39mnot\u001b[39;00m model_parallel_is_initialized():\n\u001b[1;32m      <a href='vscode-notebook-cell://ssh-remote%2Bdraco/home/kthompson/coq-modeling/notebooks/tactic_gen/custom_codellama.ipynb#W4sdnNjb2RlLXJlbW90ZQ%3D%3D?line=6'>7</a>\u001b[0m     \u001b[39mif\u001b[39;00m model_parallel_size \u001b[39mis\u001b[39;00m \u001b[39mNone\u001b[39;00m:\n",
      "File \u001b[0;32m~/coq-modeling/venv/lib/python3.10/site-packages/torch/distributed/c10d_logger.py:74\u001b[0m, in \u001b[0;36m_time_logger.<locals>.wrapper\u001b[0;34m(*args, **kwargs)\u001b[0m\n\u001b[1;32m     71\u001b[0m \u001b[39m@functools\u001b[39m\u001b[39m.\u001b[39mwraps(func)\n\u001b[1;32m     72\u001b[0m \u001b[39mdef\u001b[39;00m \u001b[39mwrapper\u001b[39m(\u001b[39m*\u001b[39margs, \u001b[39m*\u001b[39m\u001b[39m*\u001b[39mkwargs):\n\u001b[1;32m     73\u001b[0m     t1 \u001b[39m=\u001b[39m time\u001b[39m.\u001b[39mtime_ns()\n\u001b[0;32m---> 74\u001b[0m     func_return \u001b[39m=\u001b[39m func(\u001b[39m*\u001b[39;49margs, \u001b[39m*\u001b[39;49m\u001b[39m*\u001b[39;49mkwargs)\n\u001b[1;32m     75\u001b[0m     t2 \u001b[39m=\u001b[39m time\u001b[39m.\u001b[39mtime_ns()\n\u001b[1;32m     77\u001b[0m     \u001b[39mif\u001b[39;00m dist\u001b[39m.\u001b[39mis_initialized():\n",
      "File \u001b[0;32m~/coq-modeling/venv/lib/python3.10/site-packages/torch/distributed/distributed_c10d.py:1141\u001b[0m, in \u001b[0;36minit_process_group\u001b[0;34m(backend, init_method, timeout, world_size, rank, store, group_name, pg_options)\u001b[0m\n\u001b[1;32m   1137\u001b[0m \u001b[39mif\u001b[39;00m store \u001b[39mis\u001b[39;00m \u001b[39mNone\u001b[39;00m:\n\u001b[1;32m   1138\u001b[0m     rendezvous_iterator \u001b[39m=\u001b[39m rendezvous(\n\u001b[1;32m   1139\u001b[0m         init_method, rank, world_size, timeout\u001b[39m=\u001b[39mtimeout\n\u001b[1;32m   1140\u001b[0m     )\n\u001b[0;32m-> 1141\u001b[0m     store, rank, world_size \u001b[39m=\u001b[39m \u001b[39mnext\u001b[39;49m(rendezvous_iterator)\n\u001b[1;32m   1142\u001b[0m     store\u001b[39m.\u001b[39mset_timeout(timeout)\n\u001b[1;32m   1144\u001b[0m     \u001b[39m# Use a PrefixStore to avoid accidental overrides of keys used by\u001b[39;00m\n\u001b[1;32m   1145\u001b[0m     \u001b[39m# different systems (e.g. RPC) in case the store is multi-tenant.\u001b[39;00m\n",
      "File \u001b[0;32m~/coq-modeling/venv/lib/python3.10/site-packages/torch/distributed/rendezvous.py:241\u001b[0m, in \u001b[0;36m_env_rendezvous_handler\u001b[0;34m(url, timeout, **kwargs)\u001b[0m\n\u001b[1;32m    238\u001b[0m master_addr \u001b[39m=\u001b[39m _get_env_or_raise(\u001b[39m\"\u001b[39m\u001b[39mMASTER_ADDR\u001b[39m\u001b[39m\"\u001b[39m)\n\u001b[1;32m    239\u001b[0m master_port \u001b[39m=\u001b[39m \u001b[39mint\u001b[39m(_get_env_or_raise(\u001b[39m\"\u001b[39m\u001b[39mMASTER_PORT\u001b[39m\u001b[39m\"\u001b[39m))\n\u001b[0;32m--> 241\u001b[0m store \u001b[39m=\u001b[39m _create_c10d_store(master_addr, master_port, rank, world_size, timeout)\n\u001b[1;32m    243\u001b[0m \u001b[39myield\u001b[39;00m (store, rank, world_size)\n\u001b[1;32m    245\u001b[0m \u001b[39m# If this configuration is invalidated, there is nothing we can do about it\u001b[39;00m\n",
      "File \u001b[0;32m~/coq-modeling/venv/lib/python3.10/site-packages/torch/distributed/rendezvous.py:164\u001b[0m, in \u001b[0;36m_create_c10d_store\u001b[0;34m(hostname, port, rank, world_size, timeout)\u001b[0m\n\u001b[1;32m    162\u001b[0m \u001b[39m# check if port is uint16_t\u001b[39;00m\n\u001b[1;32m    163\u001b[0m \u001b[39mif\u001b[39;00m \u001b[39mnot\u001b[39;00m \u001b[39m0\u001b[39m \u001b[39m<\u001b[39m\u001b[39m=\u001b[39m port \u001b[39m<\u001b[39m \u001b[39m2\u001b[39m\u001b[39m*\u001b[39m\u001b[39m*\u001b[39m\u001b[39m16\u001b[39m:\n\u001b[0;32m--> 164\u001b[0m     \u001b[39mraise\u001b[39;00m \u001b[39mValueError\u001b[39;00m(\u001b[39mf\u001b[39m\u001b[39m\"\u001b[39m\u001b[39mport must have value from 0 to 65535 but was \u001b[39m\u001b[39m{\u001b[39;00mport\u001b[39m}\u001b[39;00m\u001b[39m.\u001b[39m\u001b[39m\"\u001b[39m)\n\u001b[1;32m    166\u001b[0m \u001b[39mif\u001b[39;00m _torchelastic_use_agent_store():\n\u001b[1;32m    167\u001b[0m     attempt \u001b[39m=\u001b[39m os\u001b[39m.\u001b[39menviron[\u001b[39m\"\u001b[39m\u001b[39mTORCHELASTIC_RESTART_COUNT\u001b[39m\u001b[39m\"\u001b[39m]\n",
      "\u001b[0;31mValueError\u001b[0m: port must have value from 0 to 65535 but was 123456."
     ]
    }
   ],
   "source": [
    "import torch\n",
    "import torch.distributed\n",
    "device = \"cuda\" \n",
    "if not torch.distributed.is_initialized():\n",
    "        torch.distributed.init_process_group(\"nccl\", rank=1, world_size=1)\n",
    "if not model_parallel_is_initialized():\n",
    "    if model_parallel_size is None:\n",
    "        model_parallel_size = int(os.environ.get(\"WORLD_SIZE\", 1))\n",
    "    initialize_model_parallel(model_parallel_size)"
   ]
  },
  {
   "cell_type": "code",
   "execution_count": 6,
   "metadata": {},
   "outputs": [
    {
     "ename": "AssertionError",
     "evalue": "model parallel group is not initialized",
     "output_type": "error",
     "traceback": [
      "\u001b[0;31m---------------------------------------------------------------------------\u001b[0m",
      "\u001b[0;31mAssertionError\u001b[0m                            Traceback (most recent call last)",
      "\u001b[1;32m/home/kthompson/coq-modeling/notebooks/tactic_gen/custom_codellama.ipynb Cell 4\u001b[0m line \u001b[0;36m1\n\u001b[0;32m----> <a href='vscode-notebook-cell://ssh-remote%2Bdraco/home/kthompson/coq-modeling/notebooks/tactic_gen/custom_codellama.ipynb#W3sdnNjb2RlLXJlbW90ZQ%3D%3D?line=0'>1</a>\u001b[0m model \u001b[39m=\u001b[39m Transformer(args)\n",
      "File \u001b[0;32m~/coq-modeling/codellama/llama/model.py:264\u001b[0m, in \u001b[0;36mTransformer.__init__\u001b[0;34m(self, params)\u001b[0m\n\u001b[1;32m    261\u001b[0m \u001b[39mself\u001b[39m\u001b[39m.\u001b[39mvocab_size \u001b[39m=\u001b[39m params\u001b[39m.\u001b[39mvocab_size\n\u001b[1;32m    262\u001b[0m \u001b[39mself\u001b[39m\u001b[39m.\u001b[39mn_layers \u001b[39m=\u001b[39m params\u001b[39m.\u001b[39mn_layers\n\u001b[0;32m--> 264\u001b[0m \u001b[39mself\u001b[39m\u001b[39m.\u001b[39mtok_embeddings \u001b[39m=\u001b[39m ParallelEmbedding(\n\u001b[1;32m    265\u001b[0m     params\u001b[39m.\u001b[39;49mvocab_size, params\u001b[39m.\u001b[39;49mdim, init_method\u001b[39m=\u001b[39;49m\u001b[39mlambda\u001b[39;49;00m x: x,\n\u001b[1;32m    266\u001b[0m )\n\u001b[1;32m    268\u001b[0m \u001b[39mself\u001b[39m\u001b[39m.\u001b[39mlayers \u001b[39m=\u001b[39m torch\u001b[39m.\u001b[39mnn\u001b[39m.\u001b[39mModuleList()\n\u001b[1;32m    269\u001b[0m \u001b[39mfor\u001b[39;00m layer_id \u001b[39min\u001b[39;00m \u001b[39mrange\u001b[39m(params\u001b[39m.\u001b[39mn_layers):\n",
      "File \u001b[0;32m~/coq-modeling/venv/lib/python3.10/site-packages/fairscale/nn/model_parallel/layers.py:186\u001b[0m, in \u001b[0;36mParallelEmbedding.__init__\u001b[0;34m(self, num_embeddings, embedding_dim, padding_idx, max_norm, norm_type, scale_grad_by_freq, sparse, init_method, keep_master_weight_for_test)\u001b[0m\n\u001b[1;32m    184\u001b[0m \u001b[39mself\u001b[39m\u001b[39m.\u001b[39m_weight \u001b[39m=\u001b[39m \u001b[39mNone\u001b[39;00m\n\u001b[1;32m    185\u001b[0m \u001b[39m# Divide the weight matrix along the embedding dimension.\u001b[39;00m\n\u001b[0;32m--> 186\u001b[0m world_size \u001b[39m=\u001b[39m get_model_parallel_world_size()\n\u001b[1;32m    187\u001b[0m \u001b[39mself\u001b[39m\u001b[39m.\u001b[39membedding_dim_per_partition \u001b[39m=\u001b[39m divide_and_check_no_remainder(\u001b[39mself\u001b[39m\u001b[39m.\u001b[39membedding_dim, world_size)\n\u001b[1;32m    189\u001b[0m \u001b[39m# Allocate weights.\u001b[39;00m\n",
      "File \u001b[0;32m~/coq-modeling/venv/lib/python3.10/site-packages/fairscale/nn/model_parallel/initialize.py:152\u001b[0m, in \u001b[0;36mget_model_parallel_world_size\u001b[0;34m()\u001b[0m\n\u001b[1;32m    150\u001b[0m \u001b[39mdef\u001b[39;00m \u001b[39mget_model_parallel_world_size\u001b[39m() \u001b[39m-\u001b[39m\u001b[39m>\u001b[39m \u001b[39mint\u001b[39m:\n\u001b[1;32m    151\u001b[0m \u001b[39m    \u001b[39m\u001b[39m\"\"\"Return world size for the model parallel group.\"\"\"\u001b[39;00m\n\u001b[0;32m--> 152\u001b[0m     \u001b[39mreturn\u001b[39;00m torch\u001b[39m.\u001b[39mdistributed\u001b[39m.\u001b[39mget_world_size(group\u001b[39m=\u001b[39mget_model_parallel_group())\n",
      "File \u001b[0;32m~/coq-modeling/venv/lib/python3.10/site-packages/fairscale/nn/model_parallel/initialize.py:128\u001b[0m, in \u001b[0;36mget_model_parallel_group\u001b[0;34m()\u001b[0m\n\u001b[1;32m    126\u001b[0m \u001b[39mdef\u001b[39;00m \u001b[39mget_model_parallel_group\u001b[39m() \u001b[39m-\u001b[39m\u001b[39m>\u001b[39m torch\u001b[39m.\u001b[39mdistributed\u001b[39m.\u001b[39mProcessGroup:\n\u001b[1;32m    127\u001b[0m \u001b[39m    \u001b[39m\u001b[39m\"\"\"Get the model parallel group the caller rank belongs to.\"\"\"\u001b[39;00m\n\u001b[0;32m--> 128\u001b[0m     \u001b[39massert\u001b[39;00m _MODEL_PARALLEL_GROUP \u001b[39mis\u001b[39;00m \u001b[39mnot\u001b[39;00m \u001b[39mNone\u001b[39;00m, \u001b[39m\"\u001b[39m\u001b[39mmodel parallel group is not initialized\u001b[39m\u001b[39m\"\u001b[39m\n\u001b[1;32m    129\u001b[0m     \u001b[39mreturn\u001b[39;00m _MODEL_PARALLEL_GROUP\n",
      "\u001b[0;31mAssertionError\u001b[0m: model parallel group is not initialized"
     ]
    }
   ],
   "source": [
    "model = Transformer(args)"
   ]
  }
 ],
 "metadata": {
  "kernelspec": {
   "display_name": "venv",
   "language": "python",
   "name": "python3"
  },
  "language_info": {
   "codemirror_mode": {
    "name": "ipython",
    "version": 3
   },
   "file_extension": ".py",
   "mimetype": "text/x-python",
   "name": "python",
   "nbconvert_exporter": "python",
   "pygments_lexer": "ipython3",
   "version": "3.10.12"
  }
 },
 "nbformat": 4,
 "nbformat_minor": 2
}
