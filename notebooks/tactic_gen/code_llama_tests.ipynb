{
 "cells": [
  {
   "cell_type": "code",
   "execution_count": 1,
   "metadata": {},
   "outputs": [
    {
     "name": "stderr",
     "output_type": "stream",
     "text": [
      "/home/ubuntu/coq-modeling/venv/lib/python3.10/site-packages/tqdm/auto.py:21: TqdmWarning: IProgress not found. Please update jupyter and ipywidgets. See https://ipywidgets.readthedocs.io/en/stable/user_install.html\n",
      "  from .autonotebook import tqdm as notebook_tqdm\n"
     ]
    }
   ],
   "source": [
    "import sys, os\n",
    "os.environ[\"CUDA_VISIBLE_DEVICES\"] = \"3\" \n",
    "\n",
    "from flask import Flask, request\n",
    "from transformers import (LlamaForCausalLM, CodeLlamaTokenizer,\n",
    "                          BitsAndBytesConfig)\n",
    "import torch\n",
    "\n",
    "from data_management.lm_example import LmExample \n",
    "from tactic_gen.train_codellama import (collate_input, CONF_NAME, load_config,\n",
    "                                        get_tokenizer)\n"
   ]
  },
  {
   "cell_type": "code",
   "execution_count": 2,
   "metadata": {},
   "outputs": [
    {
     "name": "stderr",
     "output_type": "stream",
     "text": [
      "Loading checkpoint shards: 100%|██████████| 2/2 [00:10<00:00,  5.48s/it]\n"
     ]
    }
   ],
   "source": [
    "MODEL_LOC = \"/home/ubuntu/coq-modeling/models/codellama-freq-eval\"\n",
    "CHECKPOINT_NUM = 360 \n",
    "\n",
    "model_path = os.path.join(MODEL_LOC, f\"checkpoint-{CHECKPOINT_NUM}\")\n",
    "model_conf = load_config(os.path.join(MODEL_LOC, CONF_NAME))\n",
    "\n",
    "quantization_config = BitsAndBytesConfig(load_in_4bit=True)\n",
    "# model = LlamaForCausalLM.from_pretrained(\n",
    "#     model_path, quantization_config=quantization_config\n",
    "# )\n",
    "\n",
    "model_name = \"codellama/CodeLlama-7b-hf\"\n",
    "model = LlamaForCausalLM.from_pretrained(\n",
    "    model_name, quantization_config=quantization_config\n",
    ")\n",
    "\n",
    "tokenizer = get_tokenizer(model_conf) \n",
    "device = \"cuda\" "
   ]
  },
  {
   "cell_type": "code",
   "execution_count": 3,
   "metadata": {},
   "outputs": [],
   "source": [
    "test_in = \"Theorem andb_true_elim2 : forall b c : bool, andb b c = true -> c = true.\\n  intros b c.\\n  destruct b as [|].\\n  -  destruct c as [|].\\n    +  reflexivity.\\n    +  simpl.  intro.  rewrite -> H.  reflexivity.\\n  -  destruct c as [|].\\n    +  simpl.  intro.  reflexivity.\\n    +  simpl.  intro.  rewrite -> H.  reflexivity.<THM-SEP>\\n\\ntrue && true = true -> true = true<GOAL-SEP>\\n\\ntrue && false = true -> false = true\"\n",
    "test_out = \"\\n    + \""
   ]
  },
  {
   "cell_type": "code",
   "execution_count": 4,
   "metadata": {},
   "outputs": [],
   "source": [
    "#collated_in = collate_input(test_in)\n",
    "prompt = '''def remove_non_ascii(s: str) -> str:\n",
    "    \"\"\" <FILL_ME>\n",
    "    return result\n",
    "'''"
   ]
  },
  {
   "cell_type": "code",
   "execution_count": 5,
   "metadata": {},
   "outputs": [],
   "source": [
    "input_ids = tokenizer(prompt, return_tensors=\"pt\")[\"input_ids\"].to(\"cuda\")"
   ]
  },
  {
   "cell_type": "code",
   "execution_count": 6,
   "metadata": {},
   "outputs": [
    {
     "name": "stderr",
     "output_type": "stream",
     "text": [
      "The attention mask and the pad token id were not set. As a consequence, you may observe unexpected behavior. Please pass your input's `attention_mask` to obtain reliable results.\n",
      "Setting `pad_token_id` to `eos_token_id`:2 for open-end generation.\n",
      "/home/ubuntu/coq-modeling/venv/lib/python3.10/site-packages/bitsandbytes/nn/modules.py:224: UserWarning: Input type into Linear4bit is torch.float16, but bnb_4bit_compute_type=torch.float32 (default). This will lead to slow inference or training speed.\n",
      "  warnings.warn(f'Input type into Linear4bit is torch.float16, but bnb_4bit_compute_type=torch.float32 (default). This will lead to slow inference or training speed.')\n"
     ]
    }
   ],
   "source": [
    "output = model.generate(input_ids, max_new_tokens=200)\n",
    "output = output[0].to(\"cpu\")"
   ]
  },
  {
   "cell_type": "code",
   "execution_count": 7,
   "metadata": {},
   "outputs": [],
   "source": [
    "only_output = tokenizer.decode(output[input_ids.shape[1]:], skip_special_tokens=True)"
   ]
  },
  {
   "cell_type": "code",
   "execution_count": 12,
   "metadata": {},
   "outputs": [
    {
     "data": {
      "text/plain": [
       "False"
      ]
     },
     "execution_count": 12,
     "metadata": {},
     "output_type": "execute_result"
    }
   ],
   "source": [
    "2 in output"
   ]
  },
  {
   "cell_type": "code",
   "execution_count": 10,
   "metadata": {},
   "outputs": [
    {
     "data": {
      "text/plain": [
       "2"
      ]
     },
     "execution_count": 10,
     "metadata": {},
     "output_type": "execute_result"
    }
   ],
   "source": [
    "tokenizer.eos_token_id"
   ]
  },
  {
   "cell_type": "code",
   "execution_count": 9,
   "metadata": {},
   "outputs": [
    {
     "name": "stdout",
     "output_type": "stream",
     "text": [
      "\n",
      "Theorem andb_true_elim3 : forall b c : bool, andb b c = true -> b = true.\n",
      "  intros b c.\n",
      "  destruct b as [|].\n",
      "  -  destruct c as [|].\n",
      "    +  reflexivity.\n",
      "    +  simpl.  intro.  rewrite -> H.  reflexivity.\n",
      "  -  destruct c as [|].\n",
      "    +  simpl.  intro.  reflexivity.\n",
      "    +  simpl.  intro.  rewrite -> H.  reflexivity.<THM-SEP>\n",
      "\n",
      "true && true = true -> true = true<GOAL-SEP>\n",
      "\n",
      "true && false = true -> false = true\n",
      "<TACTIC>\n",
      "\n",
      "Theorem andb_true_elim4 : forall b c : bool, andb b c = true -> b = true.\n",
      "  intros b c.\n",
      " \n"
     ]
    }
   ],
   "source": [
    "print(only_output)"
   ]
  }
 ],
 "metadata": {
  "kernelspec": {
   "display_name": "venv",
   "language": "python",
   "name": "python3"
  },
  "language_info": {
   "codemirror_mode": {
    "name": "ipython",
    "version": 3
   },
   "file_extension": ".py",
   "mimetype": "text/x-python",
   "name": "python",
   "nbconvert_exporter": "python",
   "pygments_lexer": "ipython3",
   "version": "3.10.12"
  },
  "orig_nbformat": 4
 },
 "nbformat": 4,
 "nbformat_minor": 2
}
