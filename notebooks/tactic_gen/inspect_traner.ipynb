{
 "cells": [
  {
   "cell_type": "code",
   "execution_count": 1,
   "metadata": {},
   "outputs": [
    {
     "name": "stderr",
     "output_type": "stream",
     "text": [
      "/home/ubuntu/coq-modeling/venv/lib/python3.10/site-packages/tqdm/auto.py:21: TqdmWarning: IProgress not found. Please update jupyter and ipywidgets. See https://ipywidgets.readthedocs.io/en/stable/user_install.html\n",
      "  from .autonotebook import tqdm as notebook_tqdm\n"
     ]
    }
   ],
   "source": [
    "import sys, os \n",
    "os.environ[\"CUDA_VISIBLE_DEVICES\"] = \"3\"\n",
    "from tactic_gen.train_codellama import get_trainer\n",
    "from tactic_gen.train_codellama import get_tokenizer\n",
    "from transformers import CodeLlamaTokenizer"
   ]
  },
  {
   "cell_type": "code",
   "execution_count": 2,
   "metadata": {},
   "outputs": [],
   "source": [
    "conf = {\n",
    "    \"data_path\": \"/home/ubuntu/coq-modeling/data/data-basic\",\n",
    "    \"model_name\": \"codellama/CodeLlama-7b-hf\",\n",
    "    \"output_dir\": \"/home/ubuntu/coq-modeling/models/test\",\n",
    "\n",
    "    # Training Args\n",
    "    \"max_seq_len\": 512,\n",
    "    \"max_input_len\": 448,\n",
    "    \"per_device_train_batch_size\": 4,\n",
    "    \"learning_rate\": 1.41e-5,\n",
    "    \"num_train_epochs\": 1,\n",
    "    \"peft_lora_r\": 64,\n",
    "    \"peft_lora_alpha\": 16,\n",
    "\n",
    "    # Evaluation Args\n",
    "    \"eval_steps\": 500,\n",
    "    \"eval_accumulation_steps\": 1,\n",
    "    \"per_device_eval_batch_size\": 2,\n",
    "    \"num_eval_examples\": 2000, # Evaluation would take ~2 hours each time w/o limiting this\n",
    "\n",
    "    # Logging Args\n",
    "    \"logging_steps\": 10,\n",
    "    \"save_steps\": 100,\n",
    "    \"save_total_limit\": 5,\n",
    "}"
   ]
  },
  {
   "cell_type": "code",
   "execution_count": 3,
   "metadata": {},
   "outputs": [],
   "source": [
    "tokenizer = get_tokenizer(conf)"
   ]
  },
  {
   "cell_type": "code",
   "execution_count": 4,
   "metadata": {},
   "outputs": [],
   "source": [
    "input_ids = tokenizer(\"hi there bobbie\", return_tensors=\"pt\")[\"input_ids\"].to(\"cuda\")"
   ]
  },
  {
   "cell_type": "code",
   "execution_count": 7,
   "metadata": {},
   "outputs": [
    {
     "data": {
      "text/plain": [
       "'<s> hi there bobbie</s>'"
      ]
     },
     "execution_count": 7,
     "metadata": {},
     "output_type": "execute_result"
    }
   ],
   "source": [
    "tokenizer.decode(input_ids[0])"
   ]
  },
  {
   "cell_type": "code",
   "execution_count": 3,
   "metadata": {},
   "outputs": [
    {
     "name": "stdout",
     "output_type": "stream",
     "text": [
      "\n",
      "\n",
      "Building Training Config...\n",
      "gradient_accumulation_steps not found in configuration. Defaulting to 2\n",
      "max_steps not found in configuration. Defaulting to -1\n",
      "\n",
      "\n",
      "Retrieving Model...\n"
     ]
    },
    {
     "name": "stderr",
     "output_type": "stream",
     "text": [
      "Loading checkpoint shards: 100%|██████████| 2/2 [00:13<00:00,  6.88s/it]\n"
     ]
    },
    {
     "name": "stdout",
     "output_type": "stream",
     "text": [
      "\n",
      "\n",
      "Retrieving Tokenizer...\n",
      "\n",
      "\n",
      "Constructing Dataset...\n",
      "\n",
      "\n",
      "Building Trainer...\n"
     ]
    },
    {
     "name": "stderr",
     "output_type": "stream",
     "text": [
      "/home/ubuntu/coq-modeling/venv/lib/python3.10/site-packages/peft/utils/other.py:122: FutureWarning: prepare_model_for_int8_training is deprecated and will be removed in a future version. Use prepare_model_for_kbit_training instead.\n",
      "  warnings.warn(\n"
     ]
    }
   ],
   "source": [
    "trainer = get_trainer(conf)"
   ]
  },
  {
   "cell_type": "code",
   "execution_count": 4,
   "metadata": {},
   "outputs": [
    {
     "data": {
      "text/plain": [
       "Dataset({\n",
       "    features: ['input_ids', 'attention_mask'],\n",
       "    num_rows: 164135\n",
       "})"
      ]
     },
     "execution_count": 4,
     "metadata": {},
     "output_type": "execute_result"
    }
   ],
   "source": [
    "trainer.train_dataset"
   ]
  },
  {
   "cell_type": "code",
   "execution_count": 5,
   "metadata": {},
   "outputs": [
    {
     "data": {
      "text/plain": [
       "'<s> Theorem andb_eq_orb : forall (b c : bool), (andb b c = orb b c) -> b = c.\\n  intros.\\n  destruct b,c.<THM-SEP>H: true && true = true || true\\n\\ntrue = true<GOAL-SEP>H: true && false = true || false\\n\\ntrue = false<GOAL-SEP>H: false && true = false || true\\n\\nfalse = true<GOAL-SEP>H: false && false = false || false\\n\\nfalse = false\\n<TACTIC>\\n\\n  {</s>'"
      ]
     },
     "execution_count": 5,
     "metadata": {},
     "output_type": "execute_result"
    }
   ],
   "source": [
    "trainer.tokenizer.decode(trainer.train_dataset[1][\"input_ids\"])"
   ]
  }
 ],
 "metadata": {
  "kernelspec": {
   "display_name": "venv",
   "language": "python",
   "name": "python3"
  },
  "language_info": {
   "codemirror_mode": {
    "name": "ipython",
    "version": 3
   },
   "file_extension": ".py",
   "mimetype": "text/x-python",
   "name": "python",
   "nbconvert_exporter": "python",
   "pygments_lexer": "ipython3",
   "version": "3.10.12"
  },
  "orig_nbformat": 4
 },
 "nbformat": 4,
 "nbformat_minor": 2
}
