{
 "cells": [
  {
   "cell_type": "code",
   "execution_count": 1,
   "metadata": {},
   "outputs": [
    {
     "name": "stderr",
     "output_type": "stream",
     "text": [
      "/home/ubuntu/coq-modeling/venv/lib/python3.10/site-packages/tqdm/auto.py:21: TqdmWarning: IProgress not found. Please update jupyter and ipywidgets. See https://ipywidgets.readthedocs.io/en/stable/user_install.html\n",
      "  from .autonotebook import tqdm as notebook_tqdm\n"
     ]
    }
   ],
   "source": [
    "import sys, os \n",
    "os.environ[\"CUDA_VISIBLE_DEVICES\"] = \"3\"\n",
    "from tactic_gen.train_codellama import get_trainer\n",
    "from tactic_gen.train_codellama import get_tokenizer\n",
    "from transformers import CodeLlamaTokenizer"
   ]
  },
  {
   "cell_type": "code",
   "execution_count": 2,
   "metadata": {},
   "outputs": [],
   "source": [
    "conf = {\n",
    "    \"data_path\": \"/home/ubuntu/coq-modeling/data/data-basic\",\n",
    "    \"model_name\": \"codellama/CodeLlama-7b-hf\",\n",
    "    \"output_dir\": \"/home/ubuntu/coq-modeling/models/test\",\n",
    "\n",
    "    # Training Args\n",
    "    \"max_seq_len\": 512,\n",
    "    \"max_input_len\": 448,\n",
    "    \"per_device_train_batch_size\": 4,\n",
    "    \"learning_rate\": 1.41e-5,\n",
    "    \"num_train_epochs\": 1,\n",
    "    \"peft_lora_r\": 64,\n",
    "    \"peft_lora_alpha\": 16,\n",
    "\n",
    "    # Evaluation Args\n",
    "    \"eval_steps\": 500,\n",
    "    \"eval_accumulation_steps\": 1,\n",
    "    \"per_device_eval_batch_size\": 2,\n",
    "    \"num_eval_examples\": 2000, # Evaluation would take ~2 hours each time w/o limiting this\n",
    "\n",
    "    # Logging Args\n",
    "    \"logging_steps\": 10,\n",
    "    \"save_steps\": 100,\n",
    "    \"save_total_limit\": 5,\n",
    "}"
   ]
  },
  {
   "cell_type": "code",
   "execution_count": null,
   "metadata": {},
   "outputs": [],
   "source": [
    "model_name = conf[\"model_name\"] \n",
    "seq_len = conf[\"max_seq_len\"] \n",
    "tokenizer: CodeLlamaTokenizer = CodeLlamaTokenizer.from_pretrained(model_name)\n",
    "tokenizer.add_eos_token = True\n",
    "\n",
    "pad_token = \"_<PRE>\" \n",
    "encoded_ids = tokenizer.encode(pad_token)"
   ]
  },
  {
   "cell_type": "code",
   "execution_count": 3,
   "metadata": {},
   "outputs": [
    {
     "ename": "AssertionError",
     "evalue": "",
     "output_type": "error",
     "traceback": [
      "\u001b[0;31m---------------------------------------------------------------------------\u001b[0m",
      "\u001b[0;31mAssertionError\u001b[0m                            Traceback (most recent call last)",
      "\u001b[1;32m/home/ubuntu/coq-modeling/notebooks/tactic_gen/inspect_traner.ipynb Cell 3\u001b[0m line \u001b[0;36m1\n\u001b[0;32m----> <a href='vscode-notebook-cell://ssh-remote%2Beast.ucsd.edu/home/ubuntu/coq-modeling/notebooks/tactic_gen/inspect_traner.ipynb#X10sdnNjb2RlLXJlbW90ZQ%3D%3D?line=0'>1</a>\u001b[0m tokenizer \u001b[39m=\u001b[39m get_tokenizer(conf)\n",
      "File \u001b[0;32m~/coq-modeling/src/tactic_gen/train_codellama.py:173\u001b[0m, in \u001b[0;36mget_tokenizer\u001b[0;34m(conf)\u001b[0m\n\u001b[1;32m    171\u001b[0m pad_token \u001b[39m=\u001b[39m \u001b[39m\"\u001b[39m\u001b[39m_<PRE>\u001b[39m\u001b[39m\"\u001b[39m \n\u001b[1;32m    172\u001b[0m encoded_ids \u001b[39m=\u001b[39m tokenizer\u001b[39m.\u001b[39mencode(pad_token)\n\u001b[0;32m--> 173\u001b[0m \u001b[39massert\u001b[39;00m \u001b[39mlen\u001b[39m(encoded_ids) \u001b[39m==\u001b[39m \u001b[39m3\u001b[39m\n\u001b[1;32m    174\u001b[0m \u001b[39massert\u001b[39;00m encoded_ids[\u001b[39m0\u001b[39m] \u001b[39m==\u001b[39m tokenizer\u001b[39m.\u001b[39mbos_token_id\n\u001b[1;32m    175\u001b[0m \u001b[39massert\u001b[39;00m encoded_ids[\u001b[39m2\u001b[39m] \u001b[39m==\u001b[39m tokenizer\u001b[39m.\u001b[39meos_token_id\n",
      "\u001b[0;31mAssertionError\u001b[0m: "
     ]
    }
   ],
   "source": [
    "tokenizer = get_tokenizer(conf)"
   ]
  },
  {
   "cell_type": "code",
   "execution_count": 3,
   "metadata": {},
   "outputs": [
    {
     "name": "stdout",
     "output_type": "stream",
     "text": [
      "\n",
      "\n",
      "Building Training Config...\n",
      "gradient_accumulation_steps not found in configuration. Defaulting to 2\n",
      "max_steps not found in configuration. Defaulting to -1\n",
      "\n",
      "\n",
      "Retrieving Model...\n"
     ]
    },
    {
     "name": "stderr",
     "output_type": "stream",
     "text": [
      "Loading checkpoint shards: 100%|██████████| 2/2 [00:12<00:00,  6.34s/it]\n"
     ]
    },
    {
     "name": "stdout",
     "output_type": "stream",
     "text": [
      "\n",
      "\n",
      "Retrieving Tokenizer...\n"
     ]
    },
    {
     "ename": "AssertionError",
     "evalue": "",
     "output_type": "error",
     "traceback": [
      "\u001b[0;31m---------------------------------------------------------------------------\u001b[0m",
      "\u001b[0;31mAssertionError\u001b[0m                            Traceback (most recent call last)",
      "\u001b[1;32m/home/ubuntu/coq-modeling/notebooks/tactic_gen/inspect_traner.ipynb Cell 3\u001b[0m line \u001b[0;36m1\n\u001b[0;32m----> <a href='vscode-notebook-cell://ssh-remote%2Beast.ucsd.edu/home/ubuntu/coq-modeling/notebooks/tactic_gen/inspect_traner.ipynb#W2sdnNjb2RlLXJlbW90ZQ%3D%3D?line=0'>1</a>\u001b[0m trainer \u001b[39m=\u001b[39m get_trainer(conf)\n",
      "File \u001b[0;32m~/coq-modeling/src/tactic_gen/train_codellama.py:194\u001b[0m, in \u001b[0;36mget_trainer\u001b[0;34m(conf)\u001b[0m\n\u001b[1;32m    192\u001b[0m model \u001b[39m=\u001b[39m get_model(conf)\n\u001b[1;32m    193\u001b[0m \u001b[39mprint\u001b[39m(\u001b[39m\"\u001b[39m\u001b[39m\\n\u001b[39;00m\u001b[39m\\n\u001b[39;00m\u001b[39mRetrieving Tokenizer...\u001b[39m\u001b[39m\"\u001b[39m)\n\u001b[0;32m--> 194\u001b[0m tokenizer \u001b[39m=\u001b[39m get_tokenizer(conf)\n\u001b[1;32m    195\u001b[0m peft_config \u001b[39m=\u001b[39m get_peft_conf(conf)\n\u001b[1;32m    197\u001b[0m \u001b[39mprint\u001b[39m(\u001b[39m\"\u001b[39m\u001b[39m\\n\u001b[39;00m\u001b[39m\\n\u001b[39;00m\u001b[39mConstructing Dataset...\u001b[39m\u001b[39m\"\u001b[39m)\n",
      "File \u001b[0;32m~/coq-modeling/src/tactic_gen/train_codellama.py:173\u001b[0m, in \u001b[0;36mget_tokenizer\u001b[0;34m(conf)\u001b[0m\n\u001b[1;32m    171\u001b[0m pad_token \u001b[39m=\u001b[39m \u001b[39m\"\u001b[39m\u001b[39m_<PRE>\u001b[39m\u001b[39m\"\u001b[39m \n\u001b[1;32m    172\u001b[0m encoded_ids \u001b[39m=\u001b[39m tokenizer\u001b[39m.\u001b[39mencode(pad_token)\n\u001b[0;32m--> 173\u001b[0m \u001b[39massert\u001b[39;00m \u001b[39mlen\u001b[39m(encoded_ids) \u001b[39m==\u001b[39m \u001b[39m3\u001b[39m\n\u001b[1;32m    174\u001b[0m \u001b[39massert\u001b[39;00m encoded_ids[\u001b[39m0\u001b[39m] \u001b[39m==\u001b[39m tokenizer\u001b[39m.\u001b[39mbos_token_id\n\u001b[1;32m    175\u001b[0m \u001b[39massert\u001b[39;00m encoded_ids[\u001b[39m2\u001b[39m] \u001b[39m==\u001b[39m tokenizer\u001b[39m.\u001b[39meos_token_id\n",
      "\u001b[0;31mAssertionError\u001b[0m: "
     ]
    }
   ],
   "source": [
    "trainer = get_trainer(conf)"
   ]
  },
  {
   "cell_type": "code",
   "execution_count": 4,
   "metadata": {},
   "outputs": [
    {
     "data": {
      "text/plain": [
       "Dataset({\n",
       "    features: ['input_ids', 'attention_mask'],\n",
       "    num_rows: 164135\n",
       "})"
      ]
     },
     "execution_count": 4,
     "metadata": {},
     "output_type": "execute_result"
    }
   ],
   "source": [
    "trainer.train_dataset"
   ]
  },
  {
   "cell_type": "code",
   "execution_count": 14,
   "metadata": {},
   "outputs": [
    {
     "name": "stdout",
     "output_type": "stream",
     "text": [
      "['▁hello', '-', 'm', 'oto', '▁there', '▁b', 'um']\n"
     ]
    },
    {
     "data": {
      "text/plain": [
       "'oto there bum'"
      ]
     },
     "execution_count": 14,
     "metadata": {},
     "output_type": "execute_result"
    }
   ],
   "source": [
    "toks = trainer.tokenizer.tokenize(\"hello-moto there bum\")\n",
    "print(toks)\n",
    "trainer.tokenizer.convert_tokens_to_string(toks[3:])"
   ]
  },
  {
   "cell_type": "code",
   "execution_count": 30,
   "metadata": {},
   "outputs": [
    {
     "data": {
      "text/plain": [
       "[1, 2, 0, 2, 32007, 32009, 32008, 32010]"
      ]
     },
     "execution_count": 30,
     "metadata": {},
     "output_type": "execute_result"
    }
   ],
   "source": [
    "trainer.tokenizer.all_special_ids"
   ]
  },
  {
   "cell_type": "code",
   "execution_count": 12,
   "metadata": {},
   "outputs": [
    {
     "data": {
      "text/plain": [
       "False"
      ]
     },
     "execution_count": 12,
     "metadata": {},
     "output_type": "execute_result"
    }
   ],
   "source": [
    "trainer.tokenizer.eos_token in trainer.train_dataset[1][\"input_ids\"]"
   ]
  }
 ],
 "metadata": {
  "kernelspec": {
   "display_name": "venv",
   "language": "python",
   "name": "python3"
  },
  "language_info": {
   "codemirror_mode": {
    "name": "ipython",
    "version": 3
   },
   "file_extension": ".py",
   "mimetype": "text/x-python",
   "name": "python",
   "nbconvert_exporter": "python",
   "pygments_lexer": "ipython3",
   "version": "3.10.12"
  },
  "orig_nbformat": 4
 },
 "nbformat": 4,
 "nbformat_minor": 2
}
