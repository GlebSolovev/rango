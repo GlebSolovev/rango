{
 "cells": [
  {
   "cell_type": "code",
   "execution_count": 2,
   "metadata": {},
   "outputs": [
    {
     "name": "stderr",
     "output_type": "stream",
     "text": [
      "/home/ubuntu/coq-modeling/venv/lib/python3.10/site-packages/tqdm/auto.py:21: TqdmWarning: IProgress not found. Please update jupyter and ipywidgets. See https://ipywidgets.readthedocs.io/en/stable/user_install.html\n",
      "  from .autonotebook import tqdm as notebook_tqdm\n"
     ]
    }
   ],
   "source": [
    "import sys, os \n",
    "os.environ[\"CUDA_VISIBLE_DEVICES\"] = \"3\"\n",
    "from tactic_gen.train_codellama import get_trainer, get_tokenizer, collate_example\n",
    "from transformers import CodeLlamaTokenizer"
   ]
  },
  {
   "cell_type": "code",
   "execution_count": 3,
   "metadata": {},
   "outputs": [],
   "source": [
    "conf = {\n",
    "    \"data_path\": \"/home/ubuntu/coq-modeling/data/auto-tpe-500\",\n",
    "    \"model_name\": \"codellama/CodeLlama-7b-hf\",\n",
    "    \"output_dir\": \"/home/ubuntu/coq-modeling/models/test\",\n",
    "\n",
    "    # Training Args\n",
    "    \"max_seq_len\": 512,\n",
    "    \"max_input_len\": 448,\n",
    "    \"per_device_train_batch_size\": 4,\n",
    "    \"learning_rate\": 1.41e-5,\n",
    "    \"num_train_epochs\": 1,\n",
    "    \"peft_lora_r\": 64,\n",
    "    \"peft_lora_alpha\": 16,\n",
    "\n",
    "    # Evaluation Args\n",
    "    \"eval_steps\": 500,\n",
    "    \"eval_accumulation_steps\": 1,\n",
    "    \"per_device_eval_batch_size\": 2,\n",
    "    \"num_eval_examples\": 2000, # Evaluation would take ~2 hours each time w/o limiting this\n",
    "\n",
    "    # Logging Args\n",
    "    \"logging_steps\": 10,\n",
    "    \"save_steps\": 100,\n",
    "    \"save_total_limit\": 5,\n",
    "}"
   ]
  },
  {
   "cell_type": "code",
   "execution_count": 6,
   "metadata": {},
   "outputs": [],
   "source": [
    "tokenizer = get_tokenizer(conf)"
   ]
  },
  {
   "cell_type": "code",
   "execution_count": 8,
   "metadata": {},
   "outputs": [
    {
     "data": {
      "text/plain": [
       "[1, 2]"
      ]
     },
     "execution_count": 8,
     "metadata": {},
     "output_type": "execute_result"
    }
   ],
   "source": [
    "tokenizer.encode(\"\")"
   ]
  },
  {
   "cell_type": "code",
   "execution_count": 10,
   "metadata": {},
   "outputs": [
    {
     "data": {
      "text/plain": [
       "''"
      ]
     },
     "execution_count": 10,
     "metadata": {},
     "output_type": "execute_result"
    }
   ],
   "source": [
    "tokenizer.decode([1, 2], skip_special_tokens=True)"
   ]
  },
  {
   "cell_type": "code",
   "execution_count": 4,
   "metadata": {},
   "outputs": [
    {
     "ename": "IndexError",
     "evalue": "list index out of range",
     "output_type": "error",
     "traceback": [
      "\u001b[0;31m---------------------------------------------------------------------------\u001b[0m",
      "\u001b[0;31mIndexError\u001b[0m                                Traceback (most recent call last)",
      "\u001b[1;32m/home/ubuntu/coq-modeling/notebooks/tactic_gen/inspect_traner.ipynb Cell 3\u001b[0m line \u001b[0;36m1\n\u001b[0;32m----> <a href='vscode-notebook-cell://ssh-remote%2Bsouth.ucsd.edu/home/ubuntu/coq-modeling/notebooks/tactic_gen/inspect_traner.ipynb#W2sdnNjb2RlLXJlbW90ZQ%3D%3D?line=0'>1</a>\u001b[0m collate_example(get_tokenizer(conf), \u001b[39m13\u001b[39;49m, \u001b[39m16\u001b[39;49m, \u001b[39m\"\u001b[39;49m\u001b[39mhi bob my name is miranda joe. \u001b[39;49m\u001b[39m\"\u001b[39;49m, \u001b[39m\"\u001b[39;49m\u001b[39m\"\u001b[39;49m)\n",
      "File \u001b[0;32m~/coq-modeling/src/tactic_gen/train_codellama.py:151\u001b[0m, in \u001b[0;36mcollate_example\u001b[0;34m(tokenizer, max_input_len, max_seq_len, input, output, response_template)\u001b[0m\n\u001b[1;32m    149\u001b[0m remaining_toks \u001b[39m=\u001b[39m max_seq_len \u001b[39m-\u001b[39m \u001b[39mlen\u001b[39m(input_suffix)\n\u001b[1;32m    150\u001b[0m output_prefix \u001b[39m=\u001b[39m tokenizer\u001b[39m.\u001b[39mtokenize(output)[:remaining_toks]\n\u001b[0;32m--> 151\u001b[0m final_output_str \u001b[39m=\u001b[39m tokenizer\u001b[39m.\u001b[39;49mconvert_tokens_to_string(output_prefix)\n\u001b[1;32m    152\u001b[0m \u001b[39mreturn\u001b[39;00m final_input_str, final_output_str\n",
      "File \u001b[0;32m~/coq-modeling/venv/lib/python3.10/site-packages/transformers/models/code_llama/tokenization_code_llama.py:317\u001b[0m, in \u001b[0;36mCodeLlamaTokenizer.convert_tokens_to_string\u001b[0;34m(self, tokens)\u001b[0m\n\u001b[1;32m    315\u001b[0m \u001b[39m\u001b[39m\u001b[39m\"\"\"Converts a sequence of tokens (string) in a single string.\"\"\"\u001b[39;00m\n\u001b[1;32m    316\u001b[0m \u001b[39m# since we manually add the prefix space, we have to remove it when decoding\u001b[39;00m\n\u001b[0;32m--> 317\u001b[0m \u001b[39mif\u001b[39;00m tokens[\u001b[39m0\u001b[39;49m]\u001b[39m.\u001b[39mstartswith(SPIECE_UNDERLINE):\n\u001b[1;32m    318\u001b[0m     tokens[\u001b[39m0\u001b[39m] \u001b[39m=\u001b[39m tokens[\u001b[39m0\u001b[39m][\u001b[39m1\u001b[39m:]\n\u001b[1;32m    320\u001b[0m current_sub_tokens \u001b[39m=\u001b[39m []\n",
      "\u001b[0;31mIndexError\u001b[0m: list index out of range"
     ]
    }
   ],
   "source": [
    "collate_example(get_tokenizer(conf), 13, 16, \"hi bob my name is miranda joe. \", \"\")"
   ]
  },
  {
   "cell_type": "code",
   "execution_count": 5,
   "metadata": {},
   "outputs": [],
   "source": [
    "input_ids = tokenizer(\"hi there bobbie\", return_tensors=\"pt\")[\"input_ids\"].to(\"cuda\")"
   ]
  },
  {
   "cell_type": "code",
   "execution_count": 6,
   "metadata": {},
   "outputs": [],
   "source": [
    "long_str = \"a\" * 10000"
   ]
  },
  {
   "cell_type": "code",
   "execution_count": 8,
   "metadata": {},
   "outputs": [
    {
     "data": {
      "text/plain": [
       "2502"
      ]
     },
     "execution_count": 8,
     "metadata": {},
     "output_type": "execute_result"
    }
   ],
   "source": [
    "len(tokenizer.tokenize(long_str))"
   ]
  },
  {
   "cell_type": "code",
   "execution_count": 7,
   "metadata": {},
   "outputs": [
    {
     "data": {
      "text/plain": [
       "'<s> hi there bobbie</s>'"
      ]
     },
     "execution_count": 7,
     "metadata": {},
     "output_type": "execute_result"
    }
   ],
   "source": [
    "tokenizer.decode(input_ids[0])"
   ]
  },
  {
   "cell_type": "code",
   "execution_count": 3,
   "metadata": {},
   "outputs": [
    {
     "name": "stdout",
     "output_type": "stream",
     "text": [
      "\n",
      "\n",
      "Building Training Config...\n",
      "gradient_accumulation_steps not found in configuration. Defaulting to 2\n",
      "max_steps not found in configuration. Defaulting to -1\n",
      "\n",
      "\n",
      "Retrieving Model...\n"
     ]
    },
    {
     "name": "stderr",
     "output_type": "stream",
     "text": [
      "Loading checkpoint shards: 100%|██████████| 2/2 [00:13<00:00,  6.88s/it]\n"
     ]
    },
    {
     "name": "stdout",
     "output_type": "stream",
     "text": [
      "\n",
      "\n",
      "Retrieving Tokenizer...\n",
      "\n",
      "\n",
      "Constructing Dataset...\n",
      "\n",
      "\n",
      "Building Trainer...\n"
     ]
    },
    {
     "name": "stderr",
     "output_type": "stream",
     "text": [
      "/home/ubuntu/coq-modeling/venv/lib/python3.10/site-packages/peft/utils/other.py:122: FutureWarning: prepare_model_for_int8_training is deprecated and will be removed in a future version. Use prepare_model_for_kbit_training instead.\n",
      "  warnings.warn(\n"
     ]
    }
   ],
   "source": [
    "trainer = get_trainer(conf)"
   ]
  },
  {
   "cell_type": "code",
   "execution_count": 4,
   "metadata": {},
   "outputs": [
    {
     "data": {
      "text/plain": [
       "Dataset({\n",
       "    features: ['input_ids', 'attention_mask'],\n",
       "    num_rows: 164135\n",
       "})"
      ]
     },
     "execution_count": 4,
     "metadata": {},
     "output_type": "execute_result"
    }
   ],
   "source": [
    "trainer.train_dataset"
   ]
  },
  {
   "cell_type": "code",
   "execution_count": 5,
   "metadata": {},
   "outputs": [
    {
     "data": {
      "text/plain": [
       "'<s> Theorem andb_eq_orb : forall (b c : bool), (andb b c = orb b c) -> b = c.\\n  intros.\\n  destruct b,c.<THM-SEP>H: true && true = true || true\\n\\ntrue = true<GOAL-SEP>H: true && false = true || false\\n\\ntrue = false<GOAL-SEP>H: false && true = false || true\\n\\nfalse = true<GOAL-SEP>H: false && false = false || false\\n\\nfalse = false\\n<TACTIC>\\n\\n  {</s>'"
      ]
     },
     "execution_count": 5,
     "metadata": {},
     "output_type": "execute_result"
    }
   ],
   "source": [
    "trainer.tokenizer.decode(trainer.train_dataset[1][\"input_ids\"])"
   ]
  }
 ],
 "metadata": {
  "kernelspec": {
   "display_name": "venv",
   "language": "python",
   "name": "python3"
  },
  "language_info": {
   "codemirror_mode": {
    "name": "ipython",
    "version": 3
   },
   "file_extension": ".py",
   "mimetype": "text/x-python",
   "name": "python",
   "nbconvert_exporter": "python",
   "pygments_lexer": "ipython3",
   "version": "3.10.12"
  },
  "orig_nbformat": 4
 },
 "nbformat": 4,
 "nbformat_minor": 2
}
