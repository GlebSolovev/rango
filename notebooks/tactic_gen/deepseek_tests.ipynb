{
 "cells": [
  {
   "cell_type": "code",
   "execution_count": 4,
   "metadata": {},
   "outputs": [],
   "source": [
    "from typing import Any\n",
    "from pathlib import Path\n",
    "from tactic_gen.tactic_data import TEST_LM_EXAMPLE, example_collator_from_conf, ExampleCollator\n",
    "from tactic_gen.train_decoder import get_model, get_tokenizer\n",
    "from transformers import AutoModelForCausalLM, AutoTokenizer, PreTrainedTokenizer, BitsAndBytesConfig\n",
    "import torch\n",
    "from util.constants import TRAINING_CONF_NAME\n",
    "import yaml\n",
    "\n"
   ]
  },
  {
   "cell_type": "code",
   "execution_count": 2,
   "metadata": {},
   "outputs": [],
   "source": [
    "def get_training_conf(checkpoint_loc: Path) -> Any:\n",
    "    training_conf_loc = checkpoint_loc.parent / TRAINING_CONF_NAME\n",
    "    with training_conf_loc.open('r') as f:\n",
    "        training_conf = yaml.safe_load(f)\n",
    "    return training_conf"
   ]
  },
  {
   "cell_type": "code",
   "execution_count": 3,
   "metadata": {},
   "outputs": [],
   "source": [
    "def get_example_collator(checkpoint_loc: Path) -> ExampleCollator:\n",
    "    training_conf = get_training_conf(checkpoint_loc)\n",
    "    example_collator_conf = training_conf['example_collator']\n",
    "    example_collator = example_collator_from_conf(example_collator_conf) \n",
    "    return example_collator"
   ]
  },
  {
   "cell_type": "code",
   "execution_count": 12,
   "metadata": {},
   "outputs": [
    {
     "name": "stderr",
     "output_type": "stream",
     "text": [
      "Special tokens have been added in the vocabulary, make sure the associated word embeddings are fine-tuned or trained.\n"
     ]
    }
   ],
   "source": [
    "CHECKPOINT_LOC = Path(\"/home/ubuntu/coq-modeling/models/deepseek-1.3b-basic/checkpoint-17000\")\n",
    "training_conf = get_training_conf(CHECKPOINT_LOC)\n",
    "example_collator = get_example_collator(CHECKPOINT_LOC)\n",
    "tokenizer = get_tokenizer(training_conf, add_eos=False) "
   ]
  },
  {
   "cell_type": "code",
   "execution_count": 8,
   "metadata": {},
   "outputs": [
    {
     "name": "stderr",
     "output_type": "stream",
     "text": [
      "`low_cpu_mem_usage` was None, now set to True since model is quantized.\n"
     ]
    }
   ],
   "source": [
    "model = get_model(str(CHECKPOINT_LOC))\n",
    "None"
   ]
  },
  {
   "cell_type": "code",
   "execution_count": 35,
   "metadata": {},
   "outputs": [
    {
     "name": "stderr",
     "output_type": "stream",
     "text": [
      "The attention mask and the pad token id were not set. As a consequence, you may observe unexpected behavior. Please pass your input's `attention_mask` to obtain reliable results.\n",
      "Setting `pad_token_id` to `eos_token_id`:32021 for open-end generation.\n"
     ]
    },
    {
     "name": "stderr",
     "output_type": "stream",
     "text": [
      "/home/ubuntu/coq-modeling/venv/lib/python3.10/site-packages/transformers/generation/utils.py:1510: UserWarning: You are calling .generate() with the `input_ids` being on a device type different than your model's device. `input_ids` is on cpu, whereas the model is on cuda. You may experience unexpected behaviors or slower generation. Please make sure that you have put `input_ids` to the correct device by calling for example input_ids = input_ids.to('cuda') before running `.generate()`.\n",
      "  warnings.warn(\n"
     ]
    }
   ],
   "source": [
    "collated_input = example_collator.collate_input(tokenizer, TEST_LM_EXAMPLE)\n",
    "inputs = tokenizer(collated_input, return_tensors='pt')\n",
    "with torch.no_grad():\n",
    "    out = model.generate(inputs[\"input_ids\"], max_new_tokens=64, do_sample=True, num_return_sequences=64, temperature=1)"
   ]
  },
  {
   "cell_type": "code",
   "execution_count": 37,
   "metadata": {},
   "outputs": [
    {
     "data": {
      "text/plain": [
       "[' induction l.',\n",
       " '\\n  induction l.',\n",
       " ' auto.',\n",
       " ' induction l.',\n",
       " ' simpl.',\n",
       " ' simpl.',\n",
       " \"\\n  induction l as [|n l'].\",\n",
       " '\\n  simpl.',\n",
       " \"\\n  induction l as [| n l' Hrecl'].\",\n",
       " ' induction l as [|x1 l Hrec].',\n",
       " \" induction l as [| x' l'].\",\n",
       " ' simpl.',\n",
       " ' induction l.',\n",
       " ' induction l.',\n",
       " '\\n  induction l.',\n",
       " '\\n  induction l; simpl.',\n",
       " ' reflexivity.',\n",
       " ' induction l.',\n",
       " ' induction l.',\n",
       " ' induction l.',\n",
       " ' destruct l.',\n",
       " \" induction l as [|l0 l'' IHl].\",\n",
       " ' \\n  remember (rev l).',\n",
       " '\\n  auto.',\n",
       " \"\\n  induction l as [|x' l].\",\n",
       " '\\n  simpl.',\n",
       " ' simpl.',\n",
       " \"\\n  induction l as [|n l' IHl'].\",\n",
       " '\\n  induction l as [|h tl IH].',\n",
       " \" induction l as [|h t IH] using rev_rect'.\",\n",
       " '\\n  induction l.',\n",
       " ' induction l; simpl;\\n    reflexivity.',\n",
       " '\\n  destruct l.',\n",
       " \"\\n  induction l as [\\n                 | x l' IHl'].\",\n",
       " ' induction l.',\n",
       " ' induction l.',\n",
       " ' induction l.',\n",
       " '\\n  *',\n",
       " ' simpl.',\n",
       " ' induction l as [|h t IH].',\n",
       " \" induction tl as [|x' l' IHl].\",\n",
       " ' induction l as [|hd tl].',\n",
       " '\\n  simpl.',\n",
       " ' induction l.',\n",
       " ' reflexivity.',\n",
       " ' simpl.',\n",
       " ' induction l as [| h t].',\n",
       " ' unfold rev, app.',\n",
       " '\\n  simpl.',\n",
       " ' simpl.',\n",
       " \" induction l as [| x' l' IHl'].\",\n",
       " ' simpl.',\n",
       " '\\n  unfold rev.',\n",
       " \" induction l as [ | l'].\",\n",
       " ' unfold rev.',\n",
       " ' induction l; simpl in *.',\n",
       " ' constructor.',\n",
       " ' simple induction l.',\n",
       " \"\\n  induction l as [|a|a l' IH].\",\n",
       " ' induction l.',\n",
       " '\\n  induction l.',\n",
       " ' simpl; auto.',\n",
       " '\\n  induction l; simpl.',\n",
       " '\\n  simpl.']"
      ]
     },
     "execution_count": 37,
     "metadata": {},
     "output_type": "execute_result"
    }
   ],
   "source": [
    "input_num_tokens = inputs[\"input_ids\"].shape[1]\n",
    "tokenizer.batch_decode(out[:, input_num_tokens:], skip_special_tokens=True)\n"
   ]
  },
  {
   "cell_type": "code",
   "execution_count": 2,
   "metadata": {},
   "outputs": [],
   "source": [
    "from model_deployment.model_wrapper import DecoderLocalWrapper"
   ]
  },
  {
   "cell_type": "code",
   "execution_count": 5,
   "metadata": {},
   "outputs": [
    {
     "name": "stderr",
     "output_type": "stream",
     "text": [
      "/home/ubuntu/coq-modeling/venv/lib/python3.10/site-packages/huggingface_hub/file_download.py:1132: FutureWarning: `resume_download` is deprecated and will be removed in version 1.0.0. Downloads always resume when possible. If you want to force a new download, use `force_download=True`.\n",
      "  warnings.warn(\n",
      "Special tokens have been added in the vocabulary, make sure the associated word embeddings are fine-tuned or trained.\n",
      "`low_cpu_mem_usage` was None, now set to True since model is quantized.\n"
     ]
    }
   ],
   "source": [
    "CHECKPOINT_LOC = Path(\"/home/ubuntu/coq-modeling/models/deepseek-1.3b-basic/checkpoint-17000\")\n",
    "model_wrapper = DecoderLocalWrapper.from_checkpoint(CHECKPOINT_LOC)"
   ]
  },
  {
   "cell_type": "code",
   "execution_count": 7,
   "metadata": {},
   "outputs": [
    {
     "name": "stderr",
     "output_type": "stream",
     "text": [
      "The attention mask and the pad token id were not set. As a consequence, you may observe unexpected behavior. Please pass your input's `attention_mask` to obtain reliable results.\n",
      "Setting `pad_token_id` to `eos_token_id`:32021 for open-end generation.\n",
      "/home/ubuntu/coq-modeling/venv/lib/python3.10/site-packages/transformers/generation/utils.py:1510: UserWarning: You are calling .generate() with the `input_ids` being on a device type different than your model's device. `input_ids` is on cpu, whereas the model is on cuda. You may experience unexpected behaviors or slower generation. Please make sure that you have put `input_ids` to the correct device by calling for example input_ids = input_ids.to('cuda') before running `.generate()`.\n",
      "  warnings.warn(\n"
     ]
    }
   ],
   "source": [
    "result = model_wrapper.get_recs(TEST_LM_EXAMPLE, 64, \"\")"
   ]
  },
  {
   "cell_type": "code",
   "execution_count": 8,
   "metadata": {},
   "outputs": [
    {
     "data": {
      "text/plain": [
       "['\\n  induction l.',\n",
       " ' induction l as [|h t].',\n",
       " ' simpl.',\n",
       " ' induction l.',\n",
       " '\\n  functional induction (rev l).',\n",
       " '\\n  simpl.',\n",
       " ' induction l; simpl; congs;auto.',\n",
       " '\\n  induction l.',\n",
       " '\\n  induction l.',\n",
       " ' induction l.',\n",
       " ' induction l.',\n",
       " \"\\n  induction l as [|x' l].\",\n",
       " '\\n  induction l.',\n",
       " '\\n  induction l.',\n",
       " '\\n  induction l;\\n    simpl (rev l);\\n    simpl (rev (x :: l));\\n    repeat rewrite push_app;\\n    try rewrite rev_push.',\n",
       " ' induction l.',\n",
       " ' reflexivity.',\n",
       " '\\n  induction l; cbn; reflexivity.',\n",
       " ' symmetry.',\n",
       " ' induction l.',\n",
       " ' induction l.',\n",
       " ' induction l.',\n",
       " ' induction l.',\n",
       " \"\\n  induction l as [ | n l'].\",\n",
       " ' induction l.',\n",
       " ' induction l.',\n",
       " ' simpl.',\n",
       " \"\\n  induction l as [|h t'].\",\n",
       " \"\\n  induction l as [| x' r].\",\n",
       " ' induction l.',\n",
       " '\\n  simpl.',\n",
       " \"\\n  induction l as [| x' l' IHl].\",\n",
       " ' simpl.',\n",
       " \"\\n  induction l as [|r l' IH].\",\n",
       " ' induction l.',\n",
       " \"\\n  induction l as [| x' l' IH].\",\n",
       " '\\n  induction l;simpl;f_equal;eauto.',\n",
       " ' induction l.',\n",
       " ' induction l.',\n",
       " ' induction l.',\n",
       " ' simpl.',\n",
       " ' induction l.',\n",
       " ' simpl.',\n",
       " '\\n  induction l.',\n",
       " '\\n  induction l.',\n",
       " ' induction l.',\n",
       " '\\n  induction l as [|h t].',\n",
       " ' simpl.',\n",
       " \" induction l as [| p l' IHl'].\",\n",
       " \" apply rev_app_one_step'.\",\n",
       " ' reflexivity.',\n",
       " '\\n  simpl in *.',\n",
       " ' induction l.',\n",
       " '\\n  assert (H: rev (x::l) == (x::rev l)).',\n",
       " '\\n  induction l as [| h t ] using rev_rect; subst.',\n",
       " '\\n  induction l.',\n",
       " ' induction l.',\n",
       " '\\n  induction l using rev_ind2; destruct l; simpl; reflexivity.',\n",
       " ' simpl.',\n",
       " '\\n  simpl.',\n",
       " ' rewrite rev_app1.',\n",
       " \" induction l as [|l' IHl'].\",\n",
       " ' simpl.',\n",
       " '\\n  induction l; simpl.']"
      ]
     },
     "execution_count": 8,
     "metadata": {},
     "output_type": "execute_result"
    }
   ],
   "source": [
    "result.next_tactic_list"
   ]
  }
 ],
 "metadata": {
  "kernelspec": {
   "display_name": "venv",
   "language": "python",
   "name": "python3"
  },
  "language_info": {
   "codemirror_mode": {
    "name": "ipython",
    "version": 3
   },
   "file_extension": ".py",
   "mimetype": "text/x-python",
   "name": "python",
   "nbconvert_exporter": "python",
   "pygments_lexer": "ipython3",
   "version": "3.10.12"
  }
 },
 "nbformat": 4,
 "nbformat_minor": 2
}
